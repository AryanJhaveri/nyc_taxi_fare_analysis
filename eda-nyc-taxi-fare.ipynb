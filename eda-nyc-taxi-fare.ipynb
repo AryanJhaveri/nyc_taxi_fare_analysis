{
 "cells": [
  {
   "cell_type": "code",
   "execution_count": 1,
   "id": "6e7f05a8",
   "metadata": {
    "_cell_guid": "b1076dfc-b9ad-4769-8c92-a6c4dae69d19",
    "_uuid": "8f2839f25d086af736a60e9eeb907d3b93b6e0e5",
    "execution": {
     "iopub.execute_input": "2023-10-12T01:33:52.183693Z",
     "iopub.status.busy": "2023-10-12T01:33:52.183180Z",
     "iopub.status.idle": "2023-10-12T01:33:52.220082Z",
     "shell.execute_reply": "2023-10-12T01:33:52.219345Z"
    },
    "papermill": {
     "duration": 0.084165,
     "end_time": "2023-10-12T01:33:52.222389",
     "exception": false,
     "start_time": "2023-10-12T01:33:52.138224",
     "status": "completed"
    },
    "tags": []
   },
   "outputs": [
    {
     "name": "stdout",
     "output_type": "stream",
     "text": [
      "/kaggle/input/new-york-city-taxi-fare-prediction/sample_submission.csv\n",
      "/kaggle/input/new-york-city-taxi-fare-prediction/GCP-Coupons-Instructions.rtf\n",
      "/kaggle/input/new-york-city-taxi-fare-prediction/train.csv\n",
      "/kaggle/input/new-york-city-taxi-fare-prediction/test.csv\n"
     ]
    }
   ],
   "source": [
    "# This Python 3 environment comes with many helpful analytics libraries installed\n",
    "# It is defined by the kaggle/python Docker image: https://github.com/kaggle/docker-python\n",
    "# For example, here's several helpful packages to load\n",
    "\n",
    "import numpy as np # linear algebra\n",
    "import pandas as pd # data processing, CSV file I/O (e.g. pd.read_csv)\n",
    "\n",
    "# Input data files are available in the read-only \"../input/\" directory\n",
    "# For example, running this (by clicking run or pressing Shift+Enter) will list all files under the input directory\n",
    "\n",
    "import os\n",
    "for dirname, _, filenames in os.walk('/kaggle/input'):\n",
    "    for filename in filenames:\n",
    "        print(os.path.join(dirname, filename))\n",
    "\n",
    "# You can write up to 20GB to the current directory (/kaggle/working/) that gets preserved as output when you create a version using \"Save & Run All\" \n",
    "# You can also write temporary files to /kaggle/temp/, but they won't be saved outside of the current session"
   ]
  },
  {
   "cell_type": "code",
   "execution_count": 2,
   "id": "1c25348a",
   "metadata": {
    "execution": {
     "iopub.execute_input": "2023-10-12T01:33:52.324211Z",
     "iopub.status.busy": "2023-10-12T01:33:52.323778Z",
     "iopub.status.idle": "2023-10-12T01:33:55.428055Z",
     "shell.execute_reply": "2023-10-12T01:33:55.427215Z"
    },
    "papermill": {
     "duration": 3.146849,
     "end_time": "2023-10-12T01:33:55.430186",
     "exception": false,
     "start_time": "2023-10-12T01:33:52.283337",
     "status": "completed"
    },
    "tags": []
   },
   "outputs": [
    {
     "data": {
      "text/html": [
       "<div>\n",
       "<style scoped>\n",
       "    .dataframe tbody tr th:only-of-type {\n",
       "        vertical-align: middle;\n",
       "    }\n",
       "\n",
       "    .dataframe tbody tr th {\n",
       "        vertical-align: top;\n",
       "    }\n",
       "\n",
       "    .dataframe thead th {\n",
       "        text-align: right;\n",
       "    }\n",
       "</style>\n",
       "<table border=\"1\" class=\"dataframe\">\n",
       "  <thead>\n",
       "    <tr style=\"text-align: right;\">\n",
       "      <th></th>\n",
       "      <th>key</th>\n",
       "      <th>fare_amount</th>\n",
       "      <th>pickup_datetime</th>\n",
       "      <th>pickup_longitude</th>\n",
       "      <th>pickup_latitude</th>\n",
       "      <th>dropoff_longitude</th>\n",
       "      <th>dropoff_latitude</th>\n",
       "      <th>passenger_count</th>\n",
       "    </tr>\n",
       "  </thead>\n",
       "  <tbody>\n",
       "    <tr>\n",
       "      <th>0</th>\n",
       "      <td>2009-06-15 17:26:21.0000001</td>\n",
       "      <td>4.5</td>\n",
       "      <td>2009-06-15 17:26:21 UTC</td>\n",
       "      <td>-73.844311</td>\n",
       "      <td>40.721319</td>\n",
       "      <td>-73.841610</td>\n",
       "      <td>40.712278</td>\n",
       "      <td>1</td>\n",
       "    </tr>\n",
       "    <tr>\n",
       "      <th>1</th>\n",
       "      <td>2010-01-05 16:52:16.0000002</td>\n",
       "      <td>16.9</td>\n",
       "      <td>2010-01-05 16:52:16 UTC</td>\n",
       "      <td>-74.016048</td>\n",
       "      <td>40.711303</td>\n",
       "      <td>-73.979268</td>\n",
       "      <td>40.782004</td>\n",
       "      <td>1</td>\n",
       "    </tr>\n",
       "    <tr>\n",
       "      <th>2</th>\n",
       "      <td>2011-08-18 00:35:00.00000049</td>\n",
       "      <td>5.7</td>\n",
       "      <td>2011-08-18 00:35:00 UTC</td>\n",
       "      <td>-73.982738</td>\n",
       "      <td>40.761270</td>\n",
       "      <td>-73.991242</td>\n",
       "      <td>40.750562</td>\n",
       "      <td>2</td>\n",
       "    </tr>\n",
       "    <tr>\n",
       "      <th>3</th>\n",
       "      <td>2012-04-21 04:30:42.0000001</td>\n",
       "      <td>7.7</td>\n",
       "      <td>2012-04-21 04:30:42 UTC</td>\n",
       "      <td>-73.987130</td>\n",
       "      <td>40.733143</td>\n",
       "      <td>-73.991567</td>\n",
       "      <td>40.758092</td>\n",
       "      <td>1</td>\n",
       "    </tr>\n",
       "    <tr>\n",
       "      <th>4</th>\n",
       "      <td>2010-03-09 07:51:00.000000135</td>\n",
       "      <td>5.3</td>\n",
       "      <td>2010-03-09 07:51:00 UTC</td>\n",
       "      <td>-73.968095</td>\n",
       "      <td>40.768008</td>\n",
       "      <td>-73.956655</td>\n",
       "      <td>40.783762</td>\n",
       "      <td>1</td>\n",
       "    </tr>\n",
       "  </tbody>\n",
       "</table>\n",
       "</div>"
      ],
      "text/plain": [
       "                             key  fare_amount          pickup_datetime  \\\n",
       "0    2009-06-15 17:26:21.0000001          4.5  2009-06-15 17:26:21 UTC   \n",
       "1    2010-01-05 16:52:16.0000002         16.9  2010-01-05 16:52:16 UTC   \n",
       "2   2011-08-18 00:35:00.00000049          5.7  2011-08-18 00:35:00 UTC   \n",
       "3    2012-04-21 04:30:42.0000001          7.7  2012-04-21 04:30:42 UTC   \n",
       "4  2010-03-09 07:51:00.000000135          5.3  2010-03-09 07:51:00 UTC   \n",
       "\n",
       "   pickup_longitude  pickup_latitude  dropoff_longitude  dropoff_latitude  \\\n",
       "0        -73.844311        40.721319         -73.841610         40.712278   \n",
       "1        -74.016048        40.711303         -73.979268         40.782004   \n",
       "2        -73.982738        40.761270         -73.991242         40.750562   \n",
       "3        -73.987130        40.733143         -73.991567         40.758092   \n",
       "4        -73.968095        40.768008         -73.956655         40.783762   \n",
       "\n",
       "   passenger_count  \n",
       "0                1  \n",
       "1                1  \n",
       "2                2  \n",
       "3                1  \n",
       "4                1  "
      ]
     },
     "execution_count": 2,
     "metadata": {},
     "output_type": "execute_result"
    }
   ],
   "source": [
    "df = pd.read_csv(\"../input/new-york-city-taxi-fare-prediction/train.csv\",nrows=1000000)\n",
    "df_test= pd.read_csv(\"../input/new-york-city-taxi-fare-prediction/test.csv\")\n",
    "df.head()"
   ]
  },
  {
   "cell_type": "code",
   "execution_count": 3,
   "id": "ee85f6c3",
   "metadata": {
    "execution": {
     "iopub.execute_input": "2023-10-12T01:33:55.471687Z",
     "iopub.status.busy": "2023-10-12T01:33:55.471230Z",
     "iopub.status.idle": "2023-10-12T01:33:55.581307Z",
     "shell.execute_reply": "2023-10-12T01:33:55.580515Z"
    },
    "papermill": {
     "duration": 0.13314,
     "end_time": "2023-10-12T01:33:55.583200",
     "exception": false,
     "start_time": "2023-10-12T01:33:55.450060",
     "status": "completed"
    },
    "tags": []
   },
   "outputs": [
    {
     "data": {
      "text/plain": [
       "key                   0\n",
       "fare_amount           0\n",
       "pickup_datetime       0\n",
       "pickup_longitude      0\n",
       "pickup_latitude       0\n",
       "dropoff_longitude    10\n",
       "dropoff_latitude     10\n",
       "passenger_count       0\n",
       "dtype: int64"
      ]
     },
     "execution_count": 3,
     "metadata": {},
     "output_type": "execute_result"
    }
   ],
   "source": [
    "df.isnull().sum()"
   ]
  },
  {
   "cell_type": "code",
   "execution_count": 4,
   "id": "e4e65765",
   "metadata": {
    "execution": {
     "iopub.execute_input": "2023-10-12T01:33:55.627053Z",
     "iopub.status.busy": "2023-10-12T01:33:55.626683Z",
     "iopub.status.idle": "2023-10-12T01:33:55.833458Z",
     "shell.execute_reply": "2023-10-12T01:33:55.832480Z"
    },
    "papermill": {
     "duration": 0.231956,
     "end_time": "2023-10-12T01:33:55.836041",
     "exception": false,
     "start_time": "2023-10-12T01:33:55.604085",
     "status": "completed"
    },
    "tags": []
   },
   "outputs": [],
   "source": [
    "df = df.dropna(how = 'any', axis = 'rows')\n",
    "df_test = df_test.dropna(how = 'any', axis = 'rows')"
   ]
  },
  {
   "cell_type": "code",
   "execution_count": 5,
   "id": "37052e3d",
   "metadata": {
    "execution": {
     "iopub.execute_input": "2023-10-12T01:33:55.883812Z",
     "iopub.status.busy": "2023-10-12T01:33:55.883424Z",
     "iopub.status.idle": "2023-10-12T01:33:55.889384Z",
     "shell.execute_reply": "2023-10-12T01:33:55.888397Z"
    },
    "papermill": {
     "duration": 0.03048,
     "end_time": "2023-10-12T01:33:55.891550",
     "exception": false,
     "start_time": "2023-10-12T01:33:55.861070",
     "status": "completed"
    },
    "tags": []
   },
   "outputs": [
    {
     "data": {
      "text/plain": [
       "(999990, 8)"
      ]
     },
     "execution_count": 5,
     "metadata": {},
     "output_type": "execute_result"
    }
   ],
   "source": [
    "df.shape"
   ]
  },
  {
   "cell_type": "code",
   "execution_count": 6,
   "id": "c8ee64bf",
   "metadata": {
    "execution": {
     "iopub.execute_input": "2023-10-12T01:33:55.936803Z",
     "iopub.status.busy": "2023-10-12T01:33:55.936421Z",
     "iopub.status.idle": "2023-10-12T01:33:56.063524Z",
     "shell.execute_reply": "2023-10-12T01:33:56.062604Z"
    },
    "papermill": {
     "duration": 0.15369,
     "end_time": "2023-10-12T01:33:56.066127",
     "exception": false,
     "start_time": "2023-10-12T01:33:55.912437",
     "status": "completed"
    },
    "tags": []
   },
   "outputs": [
    {
     "name": "stdout",
     "output_type": "stream",
     "text": [
      "<class 'pandas.core.frame.DataFrame'>\n",
      "Int64Index: 999990 entries, 0 to 999999\n",
      "Data columns (total 8 columns):\n",
      " #   Column             Non-Null Count   Dtype  \n",
      "---  ------             --------------   -----  \n",
      " 0   key                999990 non-null  object \n",
      " 1   fare_amount        999990 non-null  float64\n",
      " 2   pickup_datetime    999990 non-null  object \n",
      " 3   pickup_longitude   999990 non-null  float64\n",
      " 4   pickup_latitude    999990 non-null  float64\n",
      " 5   dropoff_longitude  999990 non-null  float64\n",
      " 6   dropoff_latitude   999990 non-null  float64\n",
      " 7   passenger_count    999990 non-null  int64  \n",
      "dtypes: float64(5), int64(1), object(2)\n",
      "memory usage: 68.7+ MB\n"
     ]
    }
   ],
   "source": [
    "df.info()"
   ]
  },
  {
   "cell_type": "code",
   "execution_count": 7,
   "id": "d6520890",
   "metadata": {
    "execution": {
     "iopub.execute_input": "2023-10-12T01:33:56.110713Z",
     "iopub.status.busy": "2023-10-12T01:33:56.110359Z",
     "iopub.status.idle": "2023-10-12T01:33:56.124143Z",
     "shell.execute_reply": "2023-10-12T01:33:56.122936Z"
    },
    "papermill": {
     "duration": 0.038069,
     "end_time": "2023-10-12T01:33:56.126082",
     "exception": false,
     "start_time": "2023-10-12T01:33:56.088013",
     "status": "completed"
    },
    "tags": []
   },
   "outputs": [
    {
     "name": "stdout",
     "output_type": "stream",
     "text": [
      "<class 'pandas.core.frame.DataFrame'>\n",
      "Int64Index: 9914 entries, 0 to 9913\n",
      "Data columns (total 7 columns):\n",
      " #   Column             Non-Null Count  Dtype  \n",
      "---  ------             --------------  -----  \n",
      " 0   key                9914 non-null   object \n",
      " 1   pickup_datetime    9914 non-null   object \n",
      " 2   pickup_longitude   9914 non-null   float64\n",
      " 3   pickup_latitude    9914 non-null   float64\n",
      " 4   dropoff_longitude  9914 non-null   float64\n",
      " 5   dropoff_latitude   9914 non-null   float64\n",
      " 6   passenger_count    9914 non-null   int64  \n",
      "dtypes: float64(4), int64(1), object(2)\n",
      "memory usage: 619.6+ KB\n"
     ]
    }
   ],
   "source": [
    "df_test.info()"
   ]
  },
  {
   "cell_type": "code",
   "execution_count": 8,
   "id": "aace9912",
   "metadata": {
    "execution": {
     "iopub.execute_input": "2023-10-12T01:33:56.170762Z",
     "iopub.status.busy": "2023-10-12T01:33:56.170386Z",
     "iopub.status.idle": "2023-10-12T01:33:56.223083Z",
     "shell.execute_reply": "2023-10-12T01:33:56.222180Z"
    },
    "papermill": {
     "duration": 0.076985,
     "end_time": "2023-10-12T01:33:56.225158",
     "exception": false,
     "start_time": "2023-10-12T01:33:56.148173",
     "status": "completed"
    },
    "tags": []
   },
   "outputs": [
    {
     "data": {
      "text/plain": [
       "count    999990.000000\n",
       "mean         11.347953\n",
       "std           9.821790\n",
       "min         -44.900000\n",
       "25%           6.000000\n",
       "50%           8.500000\n",
       "75%          12.500000\n",
       "max         500.000000\n",
       "Name: fare_amount, dtype: float64"
      ]
     },
     "execution_count": 8,
     "metadata": {},
     "output_type": "execute_result"
    }
   ],
   "source": [
    "df['fare_amount'].describe()"
   ]
  },
  {
   "cell_type": "code",
   "execution_count": 9,
   "id": "adf427e3",
   "metadata": {
    "execution": {
     "iopub.execute_input": "2023-10-12T01:33:56.271337Z",
     "iopub.status.busy": "2023-10-12T01:33:56.270693Z",
     "iopub.status.idle": "2023-10-12T01:33:56.413137Z",
     "shell.execute_reply": "2023-10-12T01:33:56.412292Z"
    },
    "papermill": {
     "duration": 0.166841,
     "end_time": "2023-10-12T01:33:56.415121",
     "exception": false,
     "start_time": "2023-10-12T01:33:56.248280",
     "status": "completed"
    },
    "tags": []
   },
   "outputs": [],
   "source": [
    "df = df.drop(df[df['fare_amount']<0].index, axis=0)\n"
   ]
  },
  {
   "cell_type": "code",
   "execution_count": 10,
   "id": "70aa80b0",
   "metadata": {
    "execution": {
     "iopub.execute_input": "2023-10-12T01:33:56.457054Z",
     "iopub.status.busy": "2023-10-12T01:33:56.456293Z",
     "iopub.status.idle": "2023-10-12T01:33:56.484921Z",
     "shell.execute_reply": "2023-10-12T01:33:56.484137Z"
    },
    "papermill": {
     "duration": 0.051014,
     "end_time": "2023-10-12T01:33:56.486893",
     "exception": false,
     "start_time": "2023-10-12T01:33:56.435879",
     "status": "completed"
    },
    "tags": []
   },
   "outputs": [
    {
     "data": {
      "text/plain": [
       "count    999952.000000\n",
       "mean          1.684942\n",
       "std           1.323908\n",
       "min           0.000000\n",
       "25%           1.000000\n",
       "50%           1.000000\n",
       "75%           2.000000\n",
       "max         208.000000\n",
       "Name: passenger_count, dtype: float64"
      ]
     },
     "execution_count": 10,
     "metadata": {},
     "output_type": "execute_result"
    }
   ],
   "source": [
    "df['passenger_count'].describe()"
   ]
  },
  {
   "cell_type": "code",
   "execution_count": 11,
   "id": "e655cb23",
   "metadata": {
    "execution": {
     "iopub.execute_input": "2023-10-12T01:33:56.528430Z",
     "iopub.status.busy": "2023-10-12T01:33:56.528068Z",
     "iopub.status.idle": "2023-10-12T01:33:56.661223Z",
     "shell.execute_reply": "2023-10-12T01:33:56.660197Z"
    },
    "papermill": {
     "duration": 0.155861,
     "end_time": "2023-10-12T01:33:56.663751",
     "exception": false,
     "start_time": "2023-10-12T01:33:56.507890",
     "status": "completed"
    },
    "tags": []
   },
   "outputs": [],
   "source": [
    "df = df.drop(df[df['passenger_count']>6].index, axis=0)\n",
    "df_test = df_test.drop(df_test[df_test['passenger_count']>6].index, axis=0)"
   ]
  },
  {
   "cell_type": "code",
   "execution_count": 12,
   "id": "4b68d1e2",
   "metadata": {
    "execution": {
     "iopub.execute_input": "2023-10-12T01:33:56.715242Z",
     "iopub.status.busy": "2023-10-12T01:33:56.714714Z",
     "iopub.status.idle": "2023-10-12T01:33:56.720015Z",
     "shell.execute_reply": "2023-10-12T01:33:56.719219Z"
    },
    "papermill": {
     "duration": 0.036439,
     "end_time": "2023-10-12T01:33:56.722382",
     "exception": false,
     "start_time": "2023-10-12T01:33:56.685943",
     "status": "completed"
    },
    "tags": []
   },
   "outputs": [
    {
     "data": {
      "text/plain": [
       "(999951, 8)"
      ]
     },
     "execution_count": 12,
     "metadata": {},
     "output_type": "execute_result"
    }
   ],
   "source": [
    "df.shape"
   ]
  },
  {
   "cell_type": "code",
   "execution_count": 13,
   "id": "726d2452",
   "metadata": {
    "execution": {
     "iopub.execute_input": "2023-10-12T01:33:56.766800Z",
     "iopub.status.busy": "2023-10-12T01:33:56.766143Z",
     "iopub.status.idle": "2023-10-12T01:35:47.427318Z",
     "shell.execute_reply": "2023-10-12T01:35:47.426482Z"
    },
    "papermill": {
     "duration": 110.68588,
     "end_time": "2023-10-12T01:35:47.429523",
     "exception": false,
     "start_time": "2023-10-12T01:33:56.743643",
     "status": "completed"
    },
    "tags": []
   },
   "outputs": [],
   "source": [
    "df['key'] = pd.to_datetime(df['key'])\n",
    "df['pickup_datetime']  = pd.to_datetime(df['pickup_datetime'])\n",
    "\n",
    "df_test['key'] = pd.to_datetime(df['key'])\n",
    "df_test['pickup_datetime']  = pd.to_datetime(df_test['pickup_datetime'])"
   ]
  },
  {
   "cell_type": "code",
   "execution_count": 14,
   "id": "2dda11ea",
   "metadata": {
    "execution": {
     "iopub.execute_input": "2023-10-12T01:35:47.473675Z",
     "iopub.status.busy": "2023-10-12T01:35:47.473357Z",
     "iopub.status.idle": "2023-10-12T01:35:48.224015Z",
     "shell.execute_reply": "2023-10-12T01:35:48.223114Z"
    },
    "papermill": {
     "duration": 0.77527,
     "end_time": "2023-10-12T01:35:48.226121",
     "exception": false,
     "start_time": "2023-10-12T01:35:47.450851",
     "status": "completed"
    },
    "tags": []
   },
   "outputs": [],
   "source": [
    "data = [df,df_test]\n",
    "for i in data:\n",
    "    i['Year'] = i['pickup_datetime'].dt.year\n",
    "    i['Month'] = i['pickup_datetime'].dt.month\n",
    "    i['Date'] = i['pickup_datetime'].dt.day\n",
    "    i['Day of Week'] = i['pickup_datetime'].dt.day_name()\n",
    "    i['Hour'] = i['pickup_datetime'].dt.hour"
   ]
  },
  {
   "cell_type": "code",
   "execution_count": 15,
   "id": "60be9719",
   "metadata": {
    "execution": {
     "iopub.execute_input": "2023-10-12T01:35:48.272812Z",
     "iopub.status.busy": "2023-10-12T01:35:48.272022Z",
     "iopub.status.idle": "2023-10-12T01:35:48.288048Z",
     "shell.execute_reply": "2023-10-12T01:35:48.287129Z"
    },
    "papermill": {
     "duration": 0.041465,
     "end_time": "2023-10-12T01:35:48.290215",
     "exception": false,
     "start_time": "2023-10-12T01:35:48.248750",
     "status": "completed"
    },
    "tags": []
   },
   "outputs": [
    {
     "data": {
      "text/html": [
       "<div>\n",
       "<style scoped>\n",
       "    .dataframe tbody tr th:only-of-type {\n",
       "        vertical-align: middle;\n",
       "    }\n",
       "\n",
       "    .dataframe tbody tr th {\n",
       "        vertical-align: top;\n",
       "    }\n",
       "\n",
       "    .dataframe thead th {\n",
       "        text-align: right;\n",
       "    }\n",
       "</style>\n",
       "<table border=\"1\" class=\"dataframe\">\n",
       "  <thead>\n",
       "    <tr style=\"text-align: right;\">\n",
       "      <th></th>\n",
       "      <th>key</th>\n",
       "      <th>fare_amount</th>\n",
       "      <th>pickup_datetime</th>\n",
       "      <th>pickup_longitude</th>\n",
       "      <th>pickup_latitude</th>\n",
       "      <th>dropoff_longitude</th>\n",
       "      <th>dropoff_latitude</th>\n",
       "      <th>passenger_count</th>\n",
       "      <th>Year</th>\n",
       "      <th>Month</th>\n",
       "      <th>Date</th>\n",
       "      <th>Day of Week</th>\n",
       "      <th>Hour</th>\n",
       "    </tr>\n",
       "  </thead>\n",
       "  <tbody>\n",
       "    <tr>\n",
       "      <th>0</th>\n",
       "      <td>2009-06-15 17:26:21.000000100</td>\n",
       "      <td>4.5</td>\n",
       "      <td>2009-06-15 17:26:21+00:00</td>\n",
       "      <td>-73.844311</td>\n",
       "      <td>40.721319</td>\n",
       "      <td>-73.841610</td>\n",
       "      <td>40.712278</td>\n",
       "      <td>1</td>\n",
       "      <td>2009</td>\n",
       "      <td>6</td>\n",
       "      <td>15</td>\n",
       "      <td>Monday</td>\n",
       "      <td>17</td>\n",
       "    </tr>\n",
       "    <tr>\n",
       "      <th>1</th>\n",
       "      <td>2010-01-05 16:52:16.000000200</td>\n",
       "      <td>16.9</td>\n",
       "      <td>2010-01-05 16:52:16+00:00</td>\n",
       "      <td>-74.016048</td>\n",
       "      <td>40.711303</td>\n",
       "      <td>-73.979268</td>\n",
       "      <td>40.782004</td>\n",
       "      <td>1</td>\n",
       "      <td>2010</td>\n",
       "      <td>1</td>\n",
       "      <td>5</td>\n",
       "      <td>Tuesday</td>\n",
       "      <td>16</td>\n",
       "    </tr>\n",
       "    <tr>\n",
       "      <th>2</th>\n",
       "      <td>2011-08-18 00:35:00.000000490</td>\n",
       "      <td>5.7</td>\n",
       "      <td>2011-08-18 00:35:00+00:00</td>\n",
       "      <td>-73.982738</td>\n",
       "      <td>40.761270</td>\n",
       "      <td>-73.991242</td>\n",
       "      <td>40.750562</td>\n",
       "      <td>2</td>\n",
       "      <td>2011</td>\n",
       "      <td>8</td>\n",
       "      <td>18</td>\n",
       "      <td>Thursday</td>\n",
       "      <td>0</td>\n",
       "    </tr>\n",
       "    <tr>\n",
       "      <th>3</th>\n",
       "      <td>2012-04-21 04:30:42.000000100</td>\n",
       "      <td>7.7</td>\n",
       "      <td>2012-04-21 04:30:42+00:00</td>\n",
       "      <td>-73.987130</td>\n",
       "      <td>40.733143</td>\n",
       "      <td>-73.991567</td>\n",
       "      <td>40.758092</td>\n",
       "      <td>1</td>\n",
       "      <td>2012</td>\n",
       "      <td>4</td>\n",
       "      <td>21</td>\n",
       "      <td>Saturday</td>\n",
       "      <td>4</td>\n",
       "    </tr>\n",
       "    <tr>\n",
       "      <th>4</th>\n",
       "      <td>2010-03-09 07:51:00.000000135</td>\n",
       "      <td>5.3</td>\n",
       "      <td>2010-03-09 07:51:00+00:00</td>\n",
       "      <td>-73.968095</td>\n",
       "      <td>40.768008</td>\n",
       "      <td>-73.956655</td>\n",
       "      <td>40.783762</td>\n",
       "      <td>1</td>\n",
       "      <td>2010</td>\n",
       "      <td>3</td>\n",
       "      <td>9</td>\n",
       "      <td>Tuesday</td>\n",
       "      <td>7</td>\n",
       "    </tr>\n",
       "  </tbody>\n",
       "</table>\n",
       "</div>"
      ],
      "text/plain": [
       "                            key  fare_amount           pickup_datetime  \\\n",
       "0 2009-06-15 17:26:21.000000100          4.5 2009-06-15 17:26:21+00:00   \n",
       "1 2010-01-05 16:52:16.000000200         16.9 2010-01-05 16:52:16+00:00   \n",
       "2 2011-08-18 00:35:00.000000490          5.7 2011-08-18 00:35:00+00:00   \n",
       "3 2012-04-21 04:30:42.000000100          7.7 2012-04-21 04:30:42+00:00   \n",
       "4 2010-03-09 07:51:00.000000135          5.3 2010-03-09 07:51:00+00:00   \n",
       "\n",
       "   pickup_longitude  pickup_latitude  dropoff_longitude  dropoff_latitude  \\\n",
       "0        -73.844311        40.721319         -73.841610         40.712278   \n",
       "1        -74.016048        40.711303         -73.979268         40.782004   \n",
       "2        -73.982738        40.761270         -73.991242         40.750562   \n",
       "3        -73.987130        40.733143         -73.991567         40.758092   \n",
       "4        -73.968095        40.768008         -73.956655         40.783762   \n",
       "\n",
       "   passenger_count  Year  Month  Date Day of Week  Hour  \n",
       "0                1  2009      6    15      Monday    17  \n",
       "1                1  2010      1     5     Tuesday    16  \n",
       "2                2  2011      8    18    Thursday     0  \n",
       "3                1  2012      4    21    Saturday     4  \n",
       "4                1  2010      3     9     Tuesday     7  "
      ]
     },
     "execution_count": 15,
     "metadata": {},
     "output_type": "execute_result"
    }
   ],
   "source": [
    "df.head()"
   ]
  },
  {
   "cell_type": "code",
   "execution_count": 16,
   "id": "63c8db31",
   "metadata": {
    "execution": {
     "iopub.execute_input": "2023-10-12T01:35:48.338954Z",
     "iopub.status.busy": "2023-10-12T01:35:48.338056Z",
     "iopub.status.idle": "2023-10-12T01:35:48.587397Z",
     "shell.execute_reply": "2023-10-12T01:35:48.586613Z"
    },
    "papermill": {
     "duration": 0.273154,
     "end_time": "2023-10-12T01:35:48.589410",
     "exception": false,
     "start_time": "2023-10-12T01:35:48.316256",
     "status": "completed"
    },
    "tags": []
   },
   "outputs": [
    {
     "data": {
      "text/plain": [
       "Text(0, 0.5, 'Frequency')"
      ]
     },
     "execution_count": 16,
     "metadata": {},
     "output_type": "execute_result"
    },
    {
     "data": {
      "image/png": "[encoded data removed]",
      "text/plain": [
       "<Figure size 432x288 with 1 Axes>"
      ]
     },
     "metadata": {
      "needs_background": "light"
     },
     "output_type": "display_data"
    }
   ],
   "source": [
    "import matplotlib.pyplot as plt\n",
    "\n",
    "plt.figure()\n",
    "plt.hist(df['passenger_count'])\n",
    "plt.xlabel('No. of Passengers')\n",
    "plt.ylabel('Frequency')"
   ]
  },
  {
   "cell_type": "code",
   "execution_count": 17,
   "id": "c961d995",
   "metadata": {
    "execution": {
     "iopub.execute_input": "2023-10-12T01:35:48.634687Z",
     "iopub.status.busy": "2023-10-12T01:35:48.634360Z",
     "iopub.status.idle": "2023-10-12T01:35:50.368069Z",
     "shell.execute_reply": "2023-10-12T01:35:50.367276Z"
    },
    "papermill": {
     "duration": 1.758836,
     "end_time": "2023-10-12T01:35:50.369812",
     "exception": false,
     "start_time": "2023-10-12T01:35:48.610976",
     "status": "completed"
    },
    "tags": []
   },
   "outputs": [
    {
     "data": {
      "text/plain": [
       "Text(0, 0.5, 'Fare')"
      ]
     },
     "execution_count": 17,
     "metadata": {},
     "output_type": "execute_result"
    },
    {
     "data": {
      "image/png": "[encoded data removed]",
      "text/plain": [
       "<Figure size 432x288 with 1 Axes>"
      ]
     },
     "metadata": {
      "needs_background": "light"
     },
     "output_type": "display_data"
    }
   ],
   "source": [
    "plt.figure()\n",
    "plt.scatter(x=df['passenger_count'], y=df['fare_amount'])\n",
    "plt.xlabel('No. of Passengers')\n",
    "plt.ylabel('Fare')"
   ]
  },
  {
   "cell_type": "code",
   "execution_count": 18,
   "id": "6c2ab92f",
   "metadata": {
    "execution": {
     "iopub.execute_input": "2023-10-12T01:35:50.414336Z",
     "iopub.status.busy": "2023-10-12T01:35:50.413442Z",
     "iopub.status.idle": "2023-10-12T01:35:52.194866Z",
     "shell.execute_reply": "2023-10-12T01:35:52.194131Z"
    },
    "papermill": {
     "duration": 1.80576,
     "end_time": "2023-10-12T01:35:52.196624",
     "exception": false,
     "start_time": "2023-10-12T01:35:50.390864",
     "status": "completed"
    },
    "tags": []
   },
   "outputs": [
    {
     "data": {
      "text/plain": [
       "Text(0, 0.5, 'Fare')"
      ]
     },
     "execution_count": 18,
     "metadata": {},
     "output_type": "execute_result"
    },
    {
     "data": {
      "image/png": "[encoded data removed]",
      "text/plain": [
       "<Figure size 432x288 with 1 Axes>"
      ]
     },
     "metadata": {
      "needs_background": "light"
     },
     "output_type": "display_data"
    }
   ],
   "source": [
    "plt.figure()\n",
    "plt.scatter(x=df['Month'], y=df['fare_amount'])\n",
    "plt.xlabel('Month')\n",
    "plt.ylabel('Fare')"
   ]
  },
  {
   "cell_type": "code",
   "execution_count": 19,
   "id": "9cf00c06",
   "metadata": {
    "execution": {
     "iopub.execute_input": "2023-10-12T01:35:52.243225Z",
     "iopub.status.busy": "2023-10-12T01:35:52.242827Z",
     "iopub.status.idle": "2023-10-12T01:35:53.978186Z",
     "shell.execute_reply": "2023-10-12T01:35:53.977393Z"
    },
    "papermill": {
     "duration": 1.76151,
     "end_time": "2023-10-12T01:35:53.980162",
     "exception": false,
     "start_time": "2023-10-12T01:35:52.218652",
     "status": "completed"
    },
    "tags": []
   },
   "outputs": [
    {
     "data": {
      "text/plain": [
       "Text(0, 0.5, 'Fare')"
      ]
     },
     "execution_count": 19,
     "metadata": {},
     "output_type": "execute_result"
    },
    {
     "data": {
      "image/png": "[encoded data removed]",
      "text/plain": [
       "<Figure size 432x288 with 1 Axes>"
      ]
     },
     "metadata": {
      "needs_background": "light"
     },
     "output_type": "display_data"
    }
   ],
   "source": [
    "plt.figure()\n",
    "plt.scatter(x=df['Hour'], y=df['fare_amount'])\n",
    "plt.xlabel('Hour')\n",
    "plt.ylabel('Fare')"
   ]
  },
  {
   "cell_type": "code",
   "execution_count": 20,
   "id": "25ddbfe8",
   "metadata": {
    "execution": {
     "iopub.execute_input": "2023-10-12T01:35:54.027889Z",
     "iopub.status.busy": "2023-10-12T01:35:54.027525Z",
     "iopub.status.idle": "2023-10-12T01:35:54.093907Z",
     "shell.execute_reply": "2023-10-12T01:35:54.093050Z"
    },
    "papermill": {
     "duration": 0.092816,
     "end_time": "2023-10-12T01:35:54.095918",
     "exception": false,
     "start_time": "2023-10-12T01:35:54.003102",
     "status": "completed"
    },
    "tags": []
   },
   "outputs": [
    {
     "data": {
      "text/html": [
       "<div>\n",
       "<style scoped>\n",
       "    .dataframe tbody tr th:only-of-type {\n",
       "        vertical-align: middle;\n",
       "    }\n",
       "\n",
       "    .dataframe tbody tr th {\n",
       "        vertical-align: top;\n",
       "    }\n",
       "\n",
       "    .dataframe thead th {\n",
       "        text-align: right;\n",
       "    }\n",
       "</style>\n",
       "<table border=\"1\" class=\"dataframe\">\n",
       "  <thead>\n",
       "    <tr style=\"text-align: right;\">\n",
       "      <th></th>\n",
       "      <th>fare_amount</th>\n",
       "    </tr>\n",
       "    <tr>\n",
       "      <th>Hour</th>\n",
       "      <th></th>\n",
       "    </tr>\n",
       "  </thead>\n",
       "  <tbody>\n",
       "    <tr>\n",
       "      <th>0</th>\n",
       "      <td>11.741448</td>\n",
       "    </tr>\n",
       "    <tr>\n",
       "      <th>1</th>\n",
       "      <td>11.448878</td>\n",
       "    </tr>\n",
       "    <tr>\n",
       "      <th>2</th>\n",
       "      <td>11.487458</td>\n",
       "    </tr>\n",
       "    <tr>\n",
       "      <th>3</th>\n",
       "      <td>12.032729</td>\n",
       "    </tr>\n",
       "    <tr>\n",
       "      <th>4</th>\n",
       "      <td>13.569086</td>\n",
       "    </tr>\n",
       "    <tr>\n",
       "      <th>5</th>\n",
       "      <td>15.398358</td>\n",
       "    </tr>\n",
       "    <tr>\n",
       "      <th>6</th>\n",
       "      <td>12.210433</td>\n",
       "    </tr>\n",
       "    <tr>\n",
       "      <th>7</th>\n",
       "      <td>10.959879</td>\n",
       "    </tr>\n",
       "    <tr>\n",
       "      <th>8</th>\n",
       "      <td>10.904826</td>\n",
       "    </tr>\n",
       "    <tr>\n",
       "      <th>9</th>\n",
       "      <td>10.846248</td>\n",
       "    </tr>\n",
       "    <tr>\n",
       "      <th>10</th>\n",
       "      <td>10.927139</td>\n",
       "    </tr>\n",
       "    <tr>\n",
       "      <th>11</th>\n",
       "      <td>11.119934</td>\n",
       "    </tr>\n",
       "    <tr>\n",
       "      <th>12</th>\n",
       "      <td>11.151796</td>\n",
       "    </tr>\n",
       "    <tr>\n",
       "      <th>13</th>\n",
       "      <td>11.603908</td>\n",
       "    </tr>\n",
       "    <tr>\n",
       "      <th>14</th>\n",
       "      <td>11.876334</td>\n",
       "    </tr>\n",
       "    <tr>\n",
       "      <th>15</th>\n",
       "      <td>12.019420</td>\n",
       "    </tr>\n",
       "    <tr>\n",
       "      <th>16</th>\n",
       "      <td>11.857846</td>\n",
       "    </tr>\n",
       "    <tr>\n",
       "      <th>17</th>\n",
       "      <td>11.406303</td>\n",
       "    </tr>\n",
       "    <tr>\n",
       "      <th>18</th>\n",
       "      <td>10.937547</td>\n",
       "    </tr>\n",
       "    <tr>\n",
       "      <th>19</th>\n",
       "      <td>10.572742</td>\n",
       "    </tr>\n",
       "    <tr>\n",
       "      <th>20</th>\n",
       "      <td>10.809416</td>\n",
       "    </tr>\n",
       "    <tr>\n",
       "      <th>21</th>\n",
       "      <td>11.009553</td>\n",
       "    </tr>\n",
       "    <tr>\n",
       "      <th>22</th>\n",
       "      <td>11.298760</td>\n",
       "    </tr>\n",
       "    <tr>\n",
       "      <th>23</th>\n",
       "      <td>11.607087</td>\n",
       "    </tr>\n",
       "  </tbody>\n",
       "</table>\n",
       "</div>"
      ],
      "text/plain": [
       "      fare_amount\n",
       "Hour             \n",
       "0       11.741448\n",
       "1       11.448878\n",
       "2       11.487458\n",
       "3       12.032729\n",
       "4       13.569086\n",
       "5       15.398358\n",
       "6       12.210433\n",
       "7       10.959879\n",
       "8       10.904826\n",
       "9       10.846248\n",
       "10      10.927139\n",
       "11      11.119934\n",
       "12      11.151796\n",
       "13      11.603908\n",
       "14      11.876334\n",
       "15      12.019420\n",
       "16      11.857846\n",
       "17      11.406303\n",
       "18      10.937547\n",
       "19      10.572742\n",
       "20      10.809416\n",
       "21      11.009553\n",
       "22      11.298760\n",
       "23      11.607087"
      ]
     },
     "execution_count": 20,
     "metadata": {},
     "output_type": "execute_result"
    }
   ],
   "source": [
    "df1 = pd.DataFrame(df, columns=['Hour', 'fare_amount'])\n",
    "df1.groupby('Hour').mean()"
   ]
  },
  {
   "cell_type": "code",
   "execution_count": 21,
   "id": "d70d5e07",
   "metadata": {
    "execution": {
     "iopub.execute_input": "2023-10-12T01:35:54.144025Z",
     "iopub.status.busy": "2023-10-12T01:35:54.143660Z",
     "iopub.status.idle": "2023-10-12T01:35:54.586443Z",
     "shell.execute_reply": "2023-10-12T01:35:54.585642Z"
    },
    "papermill": {
     "duration": 0.468866,
     "end_time": "2023-10-12T01:35:54.588181",
     "exception": false,
     "start_time": "2023-10-12T01:35:54.119315",
     "status": "completed"
    },
    "tags": []
   },
   "outputs": [
    {
     "data": {
      "text/plain": [
       "Text(0, 0.5, 'Frequency')"
      ]
     },
     "execution_count": 21,
     "metadata": {},
     "output_type": "execute_result"
    },
    {
     "data": {
      "image/png": "[encoded data removed]",
      "text/plain": [
       "<Figure size 432x288 with 1 Axes>"
      ]
     },
     "metadata": {
      "needs_background": "light"
     },
     "output_type": "display_data"
    }
   ],
   "source": [
    "plt.figure()\n",
    "plt.hist(df['Hour'],bins=100)\n",
    "plt.xlabel('Hour')\n",
    "plt.ylabel('Frequency')"
   ]
  },
  {
   "cell_type": "markdown",
   "id": "42cce22b",
   "metadata": {
    "papermill": {
     "duration": 0.022673,
     "end_time": "2023-10-12T01:35:54.633500",
     "exception": false,
     "start_time": "2023-10-12T01:35:54.610827",
     "status": "completed"
    },
    "tags": []
   },
   "source": [
    "# MAX FARE"
   ]
  },
  {
   "cell_type": "code",
   "execution_count": 22,
   "id": "de8c2e62",
   "metadata": {
    "execution": {
     "iopub.execute_input": "2023-10-12T01:35:54.682716Z",
     "iopub.status.busy": "2023-10-12T01:35:54.681752Z",
     "iopub.status.idle": "2023-10-12T01:35:54.820263Z",
     "shell.execute_reply": "2023-10-12T01:35:54.819320Z"
    },
    "papermill": {
     "duration": 0.165992,
     "end_time": "2023-10-12T01:35:54.822919",
     "exception": false,
     "start_time": "2023-10-12T01:35:54.656927",
     "status": "completed"
    },
    "tags": []
   },
   "outputs": [
    {
     "name": "stdout",
     "output_type": "stream",
     "text": [
      "top 5\n",
      "             fare_amount\n",
      "Day of Week             \n",
      "Sunday         11.640841\n",
      "Thursday       11.510363\n",
      "Friday         11.392653\n",
      "Monday         11.392289\n",
      "Wednesday      11.286615\n",
      "\n",
      "bottom 5\n",
      "             fare_amount\n",
      "Day of Week             \n",
      "Friday         11.392653\n",
      "Monday         11.392289\n",
      "Wednesday      11.286615\n",
      "Tuesday        11.224302\n",
      "Saturday       11.027370\n",
      "╒═══════════════╤═══════════════╕\n",
      "│ Day of Week   │   fare_amount │\n",
      "╞═══════════════╪═══════════════╡\n",
      "│ Sunday        │       11.6408 │\n",
      "├───────────────┼───────────────┤\n",
      "│ Thursday      │       11.5104 │\n",
      "├───────────────┼───────────────┤\n",
      "│ Friday        │       11.3927 │\n",
      "├───────────────┼───────────────┤\n",
      "│ Monday        │       11.3923 │\n",
      "├───────────────┼───────────────┤\n",
      "│ Wednesday     │       11.2866 │\n",
      "╘═══════════════╧═══════════════╛\n"
     ]
    }
   ],
   "source": [
    "from tabulate import tabulate\n",
    "pd1 =  df[['Day of Week','fare_amount']].groupby('Day of Week').mean()\n",
    "\n",
    "sorted_day = pd1.sort_values('fare_amount',ascending=False)\n",
    "\n",
    "print(\"top 5\")\n",
    "print(sorted_day[0:5])\n",
    "\n",
    "print()\n",
    "\n",
    "print(\"bottom 5\")\n",
    "print(sorted_day[-5:])\n",
    "\n",
    "print(tabulate(sorted_day[0:5], headers = 'keys', tablefmt = 'fancy_grid'))"
   ]
  },
  {
   "cell_type": "code",
   "execution_count": 23,
   "id": "1033a91e",
   "metadata": {
    "execution": {
     "iopub.execute_input": "2023-10-12T01:35:54.873317Z",
     "iopub.status.busy": "2023-10-12T01:35:54.872906Z",
     "iopub.status.idle": "2023-10-12T01:35:54.905759Z",
     "shell.execute_reply": "2023-10-12T01:35:54.904797Z"
    },
    "papermill": {
     "duration": 0.060415,
     "end_time": "2023-10-12T01:35:54.908313",
     "exception": false,
     "start_time": "2023-10-12T01:35:54.847898",
     "status": "completed"
    },
    "tags": []
   },
   "outputs": [
    {
     "name": "stdout",
     "output_type": "stream",
     "text": [
      "top 5\n",
      "╒════════╤═══════════════╕\n",
      "│   Hour │   fare_amount │\n",
      "╞════════╪═══════════════╡\n",
      "│      5 │       15.3984 │\n",
      "├────────┼───────────────┤\n",
      "│      4 │       13.5691 │\n",
      "├────────┼───────────────┤\n",
      "│      6 │       12.2104 │\n",
      "├────────┼───────────────┤\n",
      "│      3 │       12.0327 │\n",
      "├────────┼───────────────┤\n",
      "│     15 │       12.0194 │\n",
      "╘════════╧═══════════════╛\n",
      "\n",
      "bottom 5\n",
      "╒════════╤═══════════════╕\n",
      "│   Hour │   fare_amount │\n",
      "╞════════╪═══════════════╡\n",
      "│     10 │       10.9271 │\n",
      "├────────┼───────────────┤\n",
      "│      8 │       10.9048 │\n",
      "├────────┼───────────────┤\n",
      "│      9 │       10.8462 │\n",
      "├────────┼───────────────┤\n",
      "│     20 │       10.8094 │\n",
      "├────────┼───────────────┤\n",
      "│     19 │       10.5727 │\n",
      "╘════════╧═══════════════╛\n"
     ]
    }
   ],
   "source": [
    "pd1 =  df[['Hour','fare_amount']].groupby('Hour').mean()\n",
    "\n",
    "sorted_day = pd1.sort_values('fare_amount',ascending=False)\n",
    "\n",
    "print(\"top 5\")\n",
    "print(tabulate(sorted_day[0:5], headers = 'keys', tablefmt = 'fancy_grid'))\n",
    "\n",
    "print()\n",
    "\n",
    "print(\"bottom 5\")\n",
    "print(tabulate(sorted_day[-5:], headers = 'keys', tablefmt = 'fancy_grid'))\n"
   ]
  },
  {
   "cell_type": "code",
   "execution_count": 24,
   "id": "34a72352",
   "metadata": {
    "execution": {
     "iopub.execute_input": "2023-10-12T01:35:54.958286Z",
     "iopub.status.busy": "2023-10-12T01:35:54.957775Z",
     "iopub.status.idle": "2023-10-12T01:35:54.991062Z",
     "shell.execute_reply": "2023-10-12T01:35:54.990238Z"
    },
    "papermill": {
     "duration": 0.060406,
     "end_time": "2023-10-12T01:35:54.993629",
     "exception": false,
     "start_time": "2023-10-12T01:35:54.933223",
     "status": "completed"
    },
    "tags": []
   },
   "outputs": [
    {
     "name": "stdout",
     "output_type": "stream",
     "text": [
      "top 5\n",
      "╒═════════╤═══════════════╕\n",
      "│   Month │   fare_amount │\n",
      "╞═════════╪═══════════════╡\n",
      "│       9 │       11.761  │\n",
      "├─────────┼───────────────┤\n",
      "│      10 │       11.6665 │\n",
      "├─────────┼───────────────┤\n",
      "│       5 │       11.645  │\n",
      "├─────────┼───────────────┤\n",
      "│      12 │       11.6359 │\n",
      "├─────────┼───────────────┤\n",
      "│      11 │       11.5614 │\n",
      "╘═════════╧═══════════════╛\n",
      "\n",
      "bottom 5\n",
      "╒═════════╤═══════════════╕\n",
      "│   Month │   fare_amount │\n",
      "╞═════════╪═══════════════╡\n",
      "│       8 │       11.2477 │\n",
      "├─────────┼───────────────┤\n",
      "│       3 │       11.1477 │\n",
      "├─────────┼───────────────┤\n",
      "│       7 │       11.1323 │\n",
      "├─────────┼───────────────┤\n",
      "│       2 │       10.8885 │\n",
      "├─────────┼───────────────┤\n",
      "│       1 │       10.7413 │\n",
      "╘═════════╧═══════════════╛\n"
     ]
    }
   ],
   "source": [
    "pd1 =  df[['Month','fare_amount']].groupby('Month').mean()\n",
    "\n",
    "sorted_day = pd1.sort_values('fare_amount',ascending=False)\n",
    "\n",
    "print(\"top 5\")\n",
    "print(tabulate(sorted_day[0:5], headers = 'keys', tablefmt = 'fancy_grid'))\n",
    "\n",
    "\n",
    "print()\n",
    "\n",
    "print(\"bottom 5\")\n",
    "print(tabulate(sorted_day[-5:], headers = 'keys', tablefmt = 'fancy_grid'))\n",
    "\n"
   ]
  },
  {
   "cell_type": "markdown",
   "id": "a74bb393",
   "metadata": {
    "papermill": {
     "duration": 0.023748,
     "end_time": "2023-10-12T01:35:55.042568",
     "exception": false,
     "start_time": "2023-10-12T01:35:55.018820",
     "status": "completed"
    },
    "tags": []
   },
   "source": [
    "# BUSIEST"
   ]
  },
  {
   "cell_type": "code",
   "execution_count": 25,
   "id": "20b65bee",
   "metadata": {
    "execution": {
     "iopub.execute_input": "2023-10-12T01:35:55.090608Z",
     "iopub.status.busy": "2023-10-12T01:35:55.090227Z",
     "iopub.status.idle": "2023-10-12T01:35:55.118907Z",
     "shell.execute_reply": "2023-10-12T01:35:55.117980Z"
    },
    "papermill": {
     "duration": 0.055612,
     "end_time": "2023-10-12T01:35:55.121442",
     "exception": false,
     "start_time": "2023-10-12T01:35:55.065830",
     "status": "completed"
    },
    "tags": []
   },
   "outputs": [
    {
     "name": "stdout",
     "output_type": "stream",
     "text": [
      "top 5\n",
      "╒════╤════════╤══════════╕\n",
      "│    │   Hour │   counts │\n",
      "╞════╪════════╪══════════╡\n",
      "│ 19 │     19 │    62661 │\n",
      "├────┼────────┼──────────┤\n",
      "│ 18 │     18 │    60264 │\n",
      "├────┼────────┼──────────┤\n",
      "│ 20 │     20 │    58763 │\n",
      "├────┼────────┼──────────┤\n",
      "│ 21 │     21 │    56938 │\n",
      "├────┼────────┼──────────┤\n",
      "│ 22 │     22 │    55795 │\n",
      "╘════╧════════╧══════════╛\n",
      "\n",
      "bottom 5\n",
      "╒════╤════════╤══════════╕\n",
      "│    │   Hour │   counts │\n",
      "╞════╪════════╪══════════╡\n",
      "│  2 │      2 │    21872 │\n",
      "├────┼────────┼──────────┤\n",
      "│  6 │      6 │    20564 │\n",
      "├────┼────────┼──────────┤\n",
      "│  3 │      3 │    16133 │\n",
      "├────┼────────┼──────────┤\n",
      "│  4 │      4 │    11709 │\n",
      "├────┼────────┼──────────┤\n",
      "│  5 │      5 │     9815 │\n",
      "╘════╧════════╧══════════╛\n"
     ]
    }
   ],
   "source": [
    "pd1 = df.groupby(['Hour']).size().reset_index(name='counts')\n",
    "sorted_day = pd1.sort_values('counts',ascending=False)\n",
    "\n",
    "print(\"top 5\")\n",
    "print(tabulate(sorted_day[0:5], headers = 'keys', tablefmt = 'fancy_grid'))\n",
    "\n",
    "\n",
    "print()\n",
    "\n",
    "print(\"bottom 5\")\n",
    "print(tabulate(sorted_day[-5:], headers = 'keys', tablefmt = 'fancy_grid'))\n",
    "\n"
   ]
  },
  {
   "cell_type": "code",
   "execution_count": 26,
   "id": "53fb81fa",
   "metadata": {
    "execution": {
     "iopub.execute_input": "2023-10-12T01:35:55.169847Z",
     "iopub.status.busy": "2023-10-12T01:35:55.169006Z",
     "iopub.status.idle": "2023-10-12T01:35:55.197775Z",
     "shell.execute_reply": "2023-10-12T01:35:55.196656Z"
    },
    "papermill": {
     "duration": 0.055416,
     "end_time": "2023-10-12T01:35:55.199998",
     "exception": false,
     "start_time": "2023-10-12T01:35:55.144582",
     "status": "completed"
    },
    "tags": []
   },
   "outputs": [
    {
     "name": "stdout",
     "output_type": "stream",
     "text": [
      "top 5\n",
      "╒════╤═════════╤══════════╕\n",
      "│    │   Month │   counts │\n",
      "╞════╪═════════╪══════════╡\n",
      "│  4 │       5 │    93625 │\n",
      "├────┼─────────┼──────────┤\n",
      "│  2 │       3 │    93440 │\n",
      "├────┼─────────┼──────────┤\n",
      "│  3 │       4 │    92226 │\n",
      "├────┼─────────┼──────────┤\n",
      "│  5 │       6 │    89837 │\n",
      "├────┼─────────┼──────────┤\n",
      "│  0 │       1 │    89014 │\n",
      "╘════╧═════════╧══════════╛\n",
      "\n",
      "bottom 5\n",
      "╒════╤═════════╤══════════╕\n",
      "│    │   Month │   counts │\n",
      "╞════╪═════════╪══════════╡\n",
      "│ 11 │      12 │    76801 │\n",
      "├────┼─────────┼──────────┤\n",
      "│  6 │       7 │    76218 │\n",
      "├────┼─────────┼──────────┤\n",
      "│  8 │       9 │    76193 │\n",
      "├────┼─────────┼──────────┤\n",
      "│ 10 │      11 │    75599 │\n",
      "├────┼─────────┼──────────┤\n",
      "│  7 │       8 │    71557 │\n",
      "╘════╧═════════╧══════════╛\n"
     ]
    }
   ],
   "source": [
    "pd1 = df.groupby(['Month']).size().reset_index(name='counts')\n",
    "sorted_day = pd1.sort_values('counts',ascending=False)\n",
    "\n",
    "print(\"top 5\")\n",
    "print(tabulate(sorted_day[0:5], headers = 'keys', tablefmt = 'fancy_grid'))\n",
    "\n",
    "\n",
    "print()\n",
    "\n",
    "print(\"bottom 5\")\n",
    "print(tabulate(sorted_day[-5:], headers = 'keys', tablefmt = 'fancy_grid'))\n"
   ]
  },
  {
   "cell_type": "code",
   "execution_count": 27,
   "id": "180c57c9",
   "metadata": {
    "execution": {
     "iopub.execute_input": "2023-10-12T01:35:55.249508Z",
     "iopub.status.busy": "2023-10-12T01:35:55.249132Z",
     "iopub.status.idle": "2023-10-12T01:35:55.359020Z",
     "shell.execute_reply": "2023-10-12T01:35:55.358102Z"
    },
    "papermill": {
     "duration": 0.137548,
     "end_time": "2023-10-12T01:35:55.361705",
     "exception": false,
     "start_time": "2023-10-12T01:35:55.224157",
     "status": "completed"
    },
    "tags": []
   },
   "outputs": [
    {
     "name": "stdout",
     "output_type": "stream",
     "text": [
      "top 5\n",
      "╒════╤═══════════════╤══════════╕\n",
      "│    │ Day of Week   │   counts │\n",
      "╞════╪═══════════════╪══════════╡\n",
      "│  0 │ Friday        │   154238 │\n",
      "├────┼───────────────┼──────────┤\n",
      "│  2 │ Saturday      │   151273 │\n",
      "├────┼───────────────┼──────────┤\n",
      "│  4 │ Thursday      │   149660 │\n",
      "├────┼───────────────┼──────────┤\n",
      "│  6 │ Wednesday     │   144835 │\n",
      "├────┼───────────────┼──────────┤\n",
      "│  5 │ Tuesday       │   139980 │\n",
      "╘════╧═══════════════╧══════════╛\n",
      "\n",
      "bottom 5\n",
      "╒════╤═══════════════╤══════════╕\n",
      "│    │ Day of Week   │   counts │\n",
      "╞════╪═══════════════╪══════════╡\n",
      "│  4 │ Thursday      │   149660 │\n",
      "├────┼───────────────┼──────────┤\n",
      "│  6 │ Wednesday     │   144835 │\n",
      "├────┼───────────────┼──────────┤\n",
      "│  5 │ Tuesday       │   139980 │\n",
      "├────┼───────────────┼──────────┤\n",
      "│  3 │ Sunday        │   131292 │\n",
      "├────┼───────────────┼──────────┤\n",
      "│  1 │ Monday        │   128673 │\n",
      "╘════╧═══════════════╧══════════╛\n"
     ]
    }
   ],
   "source": [
    "pd1 = df.groupby(['Day of Week']).size().reset_index(name='counts')\n",
    "sorted_day = pd1.sort_values('counts',ascending=False)\n",
    "\n",
    "print(\"top 5\")\n",
    "print(tabulate(sorted_day[0:5], headers = 'keys', tablefmt = 'fancy_grid'))\n",
    "\n",
    "print()\n",
    "\n",
    "print(\"bottom 5\")\n",
    "print(tabulate(sorted_day[-5:], headers = 'keys', tablefmt = 'fancy_grid'))"
   ]
  },
  {
   "cell_type": "markdown",
   "id": "8ffb923c",
   "metadata": {
    "papermill": {
     "duration": 0.02522,
     "end_time": "2023-10-12T01:35:55.414130",
     "exception": false,
     "start_time": "2023-10-12T01:35:55.388910",
     "status": "completed"
    },
    "tags": []
   },
   "source": [
    "# kmeans pickup\n"
   ]
  },
  {
   "cell_type": "code",
   "execution_count": 28,
   "id": "26b254cd",
   "metadata": {
    "execution": {
     "iopub.execute_input": "2023-10-12T01:35:55.463544Z",
     "iopub.status.busy": "2023-10-12T01:35:55.463179Z",
     "iopub.status.idle": "2023-10-12T01:35:56.466107Z",
     "shell.execute_reply": "2023-10-12T01:35:56.465254Z"
    },
    "papermill": {
     "duration": 1.029915,
     "end_time": "2023-10-12T01:35:56.468278",
     "exception": false,
     "start_time": "2023-10-12T01:35:55.438363",
     "status": "completed"
    },
    "tags": []
   },
   "outputs": [],
   "source": [
    "from sklearn.cluster import KMeans\n",
    "kmeans = KMeans(init=\"random\",n_clusters=200,max_iter=100,random_state=42 )\n",
    "\n"
   ]
  },
  {
   "cell_type": "code",
   "execution_count": 29,
   "id": "ec28c1f9",
   "metadata": {
    "execution": {
     "iopub.execute_input": "2023-10-12T01:35:56.514301Z",
     "iopub.status.busy": "2023-10-12T01:35:56.513966Z",
     "iopub.status.idle": "2023-10-12T01:35:56.526917Z",
     "shell.execute_reply": "2023-10-12T01:35:56.526125Z"
    },
    "papermill": {
     "duration": 0.038025,
     "end_time": "2023-10-12T01:35:56.528734",
     "exception": false,
     "start_time": "2023-10-12T01:35:56.490709",
     "status": "completed"
    },
    "tags": []
   },
   "outputs": [
    {
     "data": {
      "text/plain": [
       "(999951, 2)"
      ]
     },
     "execution_count": 29,
     "metadata": {},
     "output_type": "execute_result"
    }
   ],
   "source": [
    "a =  df[['pickup_longitude','pickup_latitude']]\n",
    "type(a)\n",
    "\n",
    "a.shape\n",
    "\n"
   ]
  },
  {
   "cell_type": "code",
   "execution_count": 30,
   "id": "7cc6b516",
   "metadata": {
    "execution": {
     "iopub.execute_input": "2023-10-12T01:35:56.575787Z",
     "iopub.status.busy": "2023-10-12T01:35:56.575360Z",
     "iopub.status.idle": "2023-10-12T01:38:46.583761Z",
     "shell.execute_reply": "2023-10-12T01:38:46.582581Z"
    },
    "papermill": {
     "duration": 170.03446,
     "end_time": "2023-10-12T01:38:46.586134",
     "exception": false,
     "start_time": "2023-10-12T01:35:56.551674",
     "status": "completed"
    },
    "tags": []
   },
   "outputs": [],
   "source": [
    "y_kmeans = kmeans.fit_predict(a)\n",
    "df['pickup_cluster'] = y_kmeans"
   ]
  },
  {
   "cell_type": "code",
   "execution_count": 31,
   "id": "f9955606",
   "metadata": {
    "execution": {
     "iopub.execute_input": "2023-10-12T01:38:46.641613Z",
     "iopub.status.busy": "2023-10-12T01:38:46.641241Z",
     "iopub.status.idle": "2023-10-12T01:38:46.645548Z",
     "shell.execute_reply": "2023-10-12T01:38:46.644663Z"
    },
    "papermill": {
     "duration": 0.03463,
     "end_time": "2023-10-12T01:38:46.647355",
     "exception": false,
     "start_time": "2023-10-12T01:38:46.612725",
     "status": "completed"
    },
    "tags": []
   },
   "outputs": [],
   "source": [
    "centroids_pickup = kmeans.cluster_centers_\n"
   ]
  },
  {
   "cell_type": "code",
   "execution_count": 32,
   "id": "2d685786",
   "metadata": {
    "execution": {
     "iopub.execute_input": "2023-10-12T01:38:46.697728Z",
     "iopub.status.busy": "2023-10-12T01:38:46.697379Z",
     "iopub.status.idle": "2023-10-12T01:38:46.701785Z",
     "shell.execute_reply": "2023-10-12T01:38:46.700981Z"
    },
    "papermill": {
     "duration": 0.030849,
     "end_time": "2023-10-12T01:38:46.703405",
     "exception": false,
     "start_time": "2023-10-12T01:38:46.672556",
     "status": "completed"
    },
    "tags": []
   },
   "outputs": [],
   "source": [
    "cen_x_pickup = [i[0] for i in centroids_pickup] \n",
    "cen_y_pickup = [i[1] for i in centroids_pickup]"
   ]
  },
  {
   "cell_type": "code",
   "execution_count": 33,
   "id": "d1aaf242",
   "metadata": {
    "execution": {
     "iopub.execute_input": "2023-10-12T01:38:46.753245Z",
     "iopub.status.busy": "2023-10-12T01:38:46.752367Z",
     "iopub.status.idle": "2023-10-12T01:38:46.757446Z",
     "shell.execute_reply": "2023-10-12T01:38:46.756650Z"
    },
    "papermill": {
     "duration": 0.032072,
     "end_time": "2023-10-12T01:38:46.759191",
     "exception": false,
     "start_time": "2023-10-12T01:38:46.727119",
     "status": "completed"
    },
    "tags": []
   },
   "outputs": [],
   "source": [
    "df_cen = pd.DataFrame(list(zip(cen_x_pickup, cen_y_pickup)),\n",
    "               columns =['long', 'lat'])"
   ]
  },
  {
   "cell_type": "code",
   "execution_count": 34,
   "id": "39c7de6c",
   "metadata": {
    "execution": {
     "iopub.execute_input": "2023-10-12T01:38:46.807617Z",
     "iopub.status.busy": "2023-10-12T01:38:46.806592Z",
     "iopub.status.idle": "2023-10-12T01:38:46.818027Z",
     "shell.execute_reply": "2023-10-12T01:38:46.817301Z"
    },
    "papermill": {
     "duration": 0.037794,
     "end_time": "2023-10-12T01:38:46.819886",
     "exception": false,
     "start_time": "2023-10-12T01:38:46.782092",
     "status": "completed"
    },
    "tags": []
   },
   "outputs": [
    {
     "data": {
      "text/html": [
       "<div>\n",
       "<style scoped>\n",
       "    .dataframe tbody tr th:only-of-type {\n",
       "        vertical-align: middle;\n",
       "    }\n",
       "\n",
       "    .dataframe tbody tr th {\n",
       "        vertical-align: top;\n",
       "    }\n",
       "\n",
       "    .dataframe thead th {\n",
       "        text-align: right;\n",
       "    }\n",
       "</style>\n",
       "<table border=\"1\" class=\"dataframe\">\n",
       "  <thead>\n",
       "    <tr style=\"text-align: right;\">\n",
       "      <th></th>\n",
       "      <th>long</th>\n",
       "      <th>lat</th>\n",
       "    </tr>\n",
       "  </thead>\n",
       "  <tbody>\n",
       "    <tr>\n",
       "      <th>0</th>\n",
       "      <td>-73.985449</td>\n",
       "      <td>40.768315</td>\n",
       "    </tr>\n",
       "    <tr>\n",
       "      <th>1</th>\n",
       "      <td>-73.980528</td>\n",
       "      <td>40.743721</td>\n",
       "    </tr>\n",
       "    <tr>\n",
       "      <th>2</th>\n",
       "      <td>-73.962149</td>\n",
       "      <td>40.772138</td>\n",
       "    </tr>\n",
       "    <tr>\n",
       "      <th>3</th>\n",
       "      <td>-73.958187</td>\n",
       "      <td>40.771045</td>\n",
       "    </tr>\n",
       "    <tr>\n",
       "      <th>4</th>\n",
       "      <td>-73.989685</td>\n",
       "      <td>40.735725</td>\n",
       "    </tr>\n",
       "    <tr>\n",
       "      <th>...</th>\n",
       "      <td>...</td>\n",
       "      <td>...</td>\n",
       "    </tr>\n",
       "    <tr>\n",
       "      <th>195</th>\n",
       "      <td>-73.978759</td>\n",
       "      <td>40.784894</td>\n",
       "    </tr>\n",
       "    <tr>\n",
       "      <th>196</th>\n",
       "      <td>-74.009429</td>\n",
       "      <td>40.718558</td>\n",
       "    </tr>\n",
       "    <tr>\n",
       "      <th>197</th>\n",
       "      <td>-73.952917</td>\n",
       "      <td>40.821412</td>\n",
       "    </tr>\n",
       "    <tr>\n",
       "      <th>198</th>\n",
       "      <td>-73.921458</td>\n",
       "      <td>40.766268</td>\n",
       "    </tr>\n",
       "    <tr>\n",
       "      <th>199</th>\n",
       "      <td>-73.954672</td>\n",
       "      <td>40.764705</td>\n",
       "    </tr>\n",
       "  </tbody>\n",
       "</table>\n",
       "<p>200 rows × 2 columns</p>\n",
       "</div>"
      ],
      "text/plain": [
       "          long        lat\n",
       "0   -73.985449  40.768315\n",
       "1   -73.980528  40.743721\n",
       "2   -73.962149  40.772138\n",
       "3   -73.958187  40.771045\n",
       "4   -73.989685  40.735725\n",
       "..         ...        ...\n",
       "195 -73.978759  40.784894\n",
       "196 -74.009429  40.718558\n",
       "197 -73.952917  40.821412\n",
       "198 -73.921458  40.766268\n",
       "199 -73.954672  40.764705\n",
       "\n",
       "[200 rows x 2 columns]"
      ]
     },
     "execution_count": 34,
     "metadata": {},
     "output_type": "execute_result"
    }
   ],
   "source": [
    "df_cen"
   ]
  },
  {
   "cell_type": "code",
   "execution_count": 35,
   "id": "12c2af4a",
   "metadata": {
    "execution": {
     "iopub.execute_input": "2023-10-12T01:38:46.869520Z",
     "iopub.status.busy": "2023-10-12T01:38:46.869160Z",
     "iopub.status.idle": "2023-10-12T01:38:46.881732Z",
     "shell.execute_reply": "2023-10-12T01:38:46.880871Z"
    },
    "papermill": {
     "duration": 0.040158,
     "end_time": "2023-10-12T01:38:46.883616",
     "exception": false,
     "start_time": "2023-10-12T01:38:46.843458",
     "status": "completed"
    },
    "tags": []
   },
   "outputs": [
    {
     "data": {
      "text/html": [
       "<div>\n",
       "<style scoped>\n",
       "    .dataframe tbody tr th:only-of-type {\n",
       "        vertical-align: middle;\n",
       "    }\n",
       "\n",
       "    .dataframe tbody tr th {\n",
       "        vertical-align: top;\n",
       "    }\n",
       "\n",
       "    .dataframe thead th {\n",
       "        text-align: right;\n",
       "    }\n",
       "</style>\n",
       "<table border=\"1\" class=\"dataframe\">\n",
       "  <thead>\n",
       "    <tr style=\"text-align: right;\">\n",
       "      <th></th>\n",
       "      <th>cluster</th>\n",
       "      <th>long</th>\n",
       "      <th>lat</th>\n",
       "    </tr>\n",
       "  </thead>\n",
       "  <tbody>\n",
       "    <tr>\n",
       "      <th>0</th>\n",
       "      <td>0</td>\n",
       "      <td>-73.985449</td>\n",
       "      <td>40.768315</td>\n",
       "    </tr>\n",
       "    <tr>\n",
       "      <th>1</th>\n",
       "      <td>1</td>\n",
       "      <td>-73.980528</td>\n",
       "      <td>40.743721</td>\n",
       "    </tr>\n",
       "    <tr>\n",
       "      <th>2</th>\n",
       "      <td>2</td>\n",
       "      <td>-73.962149</td>\n",
       "      <td>40.772138</td>\n",
       "    </tr>\n",
       "    <tr>\n",
       "      <th>3</th>\n",
       "      <td>3</td>\n",
       "      <td>-73.958187</td>\n",
       "      <td>40.771045</td>\n",
       "    </tr>\n",
       "    <tr>\n",
       "      <th>4</th>\n",
       "      <td>4</td>\n",
       "      <td>-73.989685</td>\n",
       "      <td>40.735725</td>\n",
       "    </tr>\n",
       "    <tr>\n",
       "      <th>...</th>\n",
       "      <td>...</td>\n",
       "      <td>...</td>\n",
       "      <td>...</td>\n",
       "    </tr>\n",
       "    <tr>\n",
       "      <th>195</th>\n",
       "      <td>195</td>\n",
       "      <td>-73.978759</td>\n",
       "      <td>40.784894</td>\n",
       "    </tr>\n",
       "    <tr>\n",
       "      <th>196</th>\n",
       "      <td>196</td>\n",
       "      <td>-74.009429</td>\n",
       "      <td>40.718558</td>\n",
       "    </tr>\n",
       "    <tr>\n",
       "      <th>197</th>\n",
       "      <td>197</td>\n",
       "      <td>-73.952917</td>\n",
       "      <td>40.821412</td>\n",
       "    </tr>\n",
       "    <tr>\n",
       "      <th>198</th>\n",
       "      <td>198</td>\n",
       "      <td>-73.921458</td>\n",
       "      <td>40.766268</td>\n",
       "    </tr>\n",
       "    <tr>\n",
       "      <th>199</th>\n",
       "      <td>199</td>\n",
       "      <td>-73.954672</td>\n",
       "      <td>40.764705</td>\n",
       "    </tr>\n",
       "  </tbody>\n",
       "</table>\n",
       "<p>200 rows × 3 columns</p>\n",
       "</div>"
      ],
      "text/plain": [
       "     cluster       long        lat\n",
       "0          0 -73.985449  40.768315\n",
       "1          1 -73.980528  40.743721\n",
       "2          2 -73.962149  40.772138\n",
       "3          3 -73.958187  40.771045\n",
       "4          4 -73.989685  40.735725\n",
       "..       ...        ...        ...\n",
       "195      195 -73.978759  40.784894\n",
       "196      196 -74.009429  40.718558\n",
       "197      197 -73.952917  40.821412\n",
       "198      198 -73.921458  40.766268\n",
       "199      199 -73.954672  40.764705\n",
       "\n",
       "[200 rows x 3 columns]"
      ]
     },
     "execution_count": 35,
     "metadata": {},
     "output_type": "execute_result"
    }
   ],
   "source": [
    "df_cen.insert(0, 'cluster', range(0, 0 + len(df_cen)))\n",
    "df_cen"
   ]
  },
  {
   "cell_type": "code",
   "execution_count": 36,
   "id": "090f739f",
   "metadata": {
    "execution": {
     "iopub.execute_input": "2023-10-12T01:38:46.934116Z",
     "iopub.status.busy": "2023-10-12T01:38:46.933607Z",
     "iopub.status.idle": "2023-10-12T01:38:46.941626Z",
     "shell.execute_reply": "2023-10-12T01:38:46.940681Z"
    },
    "papermill": {
     "duration": 0.035505,
     "end_time": "2023-10-12T01:38:46.943795",
     "exception": false,
     "start_time": "2023-10-12T01:38:46.908290",
     "status": "completed"
    },
    "tags": []
   },
   "outputs": [],
   "source": [
    "df_cen.to_csv('centroid.csv', index=False)"
   ]
  },
  {
   "cell_type": "code",
   "execution_count": 37,
   "id": "83fc3cad",
   "metadata": {
    "execution": {
     "iopub.execute_input": "2023-10-12T01:38:46.999556Z",
     "iopub.status.busy": "2023-10-12T01:38:46.998596Z",
     "iopub.status.idle": "2023-10-12T01:38:47.003010Z",
     "shell.execute_reply": "2023-10-12T01:38:47.002173Z"
    },
    "papermill": {
     "duration": 0.034729,
     "end_time": "2023-10-12T01:38:47.004730",
     "exception": false,
     "start_time": "2023-10-12T01:38:46.970001",
     "status": "completed"
    },
    "tags": []
   },
   "outputs": [],
   "source": [
    "#  for i in range__dir__(999952):\n",
    "#         j = df.iloc[i]['pickup_cluster']\n",
    "#         df['cen_x_pickup'] = cen_x_pickup[j]\n",
    "#         df['cen_y_pickup'] = cen_y_pickup[j]"
   ]
  },
  {
   "cell_type": "code",
   "execution_count": null,
   "id": "3e9d1962",
   "metadata": {
    "papermill": {
     "duration": 0.025836,
     "end_time": "2023-10-12T01:38:47.055995",
     "exception": false,
     "start_time": "2023-10-12T01:38:47.030159",
     "status": "completed"
    },
    "tags": []
   },
   "outputs": [],
   "source": []
  },
  {
   "cell_type": "raw",
   "id": "0e848bac",
   "metadata": {
    "papermill": {
     "duration": 0.023622,
     "end_time": "2023-10-12T01:38:47.106022",
     "exception": false,
     "start_time": "2023-10-12T01:38:47.082400",
     "status": "completed"
    },
    "tags": []
   },
   "source": [
    "#kmeans dropoff"
   ]
  },
  {
   "cell_type": "code",
   "execution_count": 38,
   "id": "31ee5723",
   "metadata": {
    "execution": {
     "iopub.execute_input": "2023-10-12T01:38:47.158726Z",
     "iopub.status.busy": "2023-10-12T01:38:47.157803Z",
     "iopub.status.idle": "2023-10-12T01:42:06.700618Z",
     "shell.execute_reply": "2023-10-12T01:42:06.699655Z"
    },
    "papermill": {
     "duration": 199.572823,
     "end_time": "2023-10-12T01:42:06.702925",
     "exception": false,
     "start_time": "2023-10-12T01:38:47.130102",
     "status": "completed"
    },
    "tags": []
   },
   "outputs": [],
   "source": [
    "kmeans1 = KMeans(init=\"random\",n_clusters=200,max_iter=100,random_state=42 )\n",
    "a1 =  df[['dropoff_longitude','dropoff_latitude']]\n",
    "df['dropoff_cluster'] = kmeans1.fit_predict(a1)"
   ]
  },
  {
   "cell_type": "code",
   "execution_count": 39,
   "id": "7085ccf2",
   "metadata": {
    "execution": {
     "iopub.execute_input": "2023-10-12T01:42:06.755042Z",
     "iopub.status.busy": "2023-10-12T01:42:06.754694Z",
     "iopub.status.idle": "2023-10-12T01:42:06.758785Z",
     "shell.execute_reply": "2023-10-12T01:42:06.757919Z"
    },
    "papermill": {
     "duration": 0.033605,
     "end_time": "2023-10-12T01:42:06.760498",
     "exception": false,
     "start_time": "2023-10-12T01:42:06.726893",
     "status": "completed"
    },
    "tags": []
   },
   "outputs": [],
   "source": [
    "centroids_dropoff = kmeans1.cluster_centers_"
   ]
  },
  {
   "cell_type": "code",
   "execution_count": 40,
   "id": "bcf6a2c5",
   "metadata": {
    "execution": {
     "iopub.execute_input": "2023-10-12T01:42:06.807042Z",
     "iopub.status.busy": "2023-10-12T01:42:06.806644Z",
     "iopub.status.idle": "2023-10-12T01:42:06.810976Z",
     "shell.execute_reply": "2023-10-12T01:42:06.810117Z"
    },
    "papermill": {
     "duration": 0.029407,
     "end_time": "2023-10-12T01:42:06.812647",
     "exception": false,
     "start_time": "2023-10-12T01:42:06.783240",
     "status": "completed"
    },
    "tags": []
   },
   "outputs": [],
   "source": [
    "cen_x_dropoff = [i[0] for i in centroids_dropoff] \n",
    "cen_y_dropoff = [i[1] for i in centroids_dropoff]"
   ]
  },
  {
   "cell_type": "code",
   "execution_count": 41,
   "id": "f07c7faa",
   "metadata": {
    "execution": {
     "iopub.execute_input": "2023-10-12T01:42:06.861829Z",
     "iopub.status.busy": "2023-10-12T01:42:06.861403Z",
     "iopub.status.idle": "2023-10-12T01:42:06.865005Z",
     "shell.execute_reply": "2023-10-12T01:42:06.864208Z"
    },
    "papermill": {
     "duration": 0.030031,
     "end_time": "2023-10-12T01:42:06.866573",
     "exception": false,
     "start_time": "2023-10-12T01:42:06.836542",
     "status": "completed"
    },
    "tags": []
   },
   "outputs": [],
   "source": [
    "# for i in range(999952):\n",
    "#         j = df['dropoff_cluster'][i]\n",
    "#         df['cen_y_dropoff'] = cen_y_dropoff[j]\n",
    "#         df['cen_x_dropoff'] = cen_x_dropoff[j]"
   ]
  },
  {
   "cell_type": "code",
   "execution_count": 42,
   "id": "cce272e7",
   "metadata": {
    "execution": {
     "iopub.execute_input": "2023-10-12T01:42:06.916735Z",
     "iopub.status.busy": "2023-10-12T01:42:06.916033Z",
     "iopub.status.idle": "2023-10-12T01:42:06.933255Z",
     "shell.execute_reply": "2023-10-12T01:42:06.932508Z"
    },
    "papermill": {
     "duration": 0.044558,
     "end_time": "2023-10-12T01:42:06.935033",
     "exception": false,
     "start_time": "2023-10-12T01:42:06.890475",
     "status": "completed"
    },
    "tags": []
   },
   "outputs": [
    {
     "data": {
      "text/html": [
       "<div>\n",
       "<style scoped>\n",
       "    .dataframe tbody tr th:only-of-type {\n",
       "        vertical-align: middle;\n",
       "    }\n",
       "\n",
       "    .dataframe tbody tr th {\n",
       "        vertical-align: top;\n",
       "    }\n",
       "\n",
       "    .dataframe thead th {\n",
       "        text-align: right;\n",
       "    }\n",
       "</style>\n",
       "<table border=\"1\" class=\"dataframe\">\n",
       "  <thead>\n",
       "    <tr style=\"text-align: right;\">\n",
       "      <th></th>\n",
       "      <th>key</th>\n",
       "      <th>fare_amount</th>\n",
       "      <th>pickup_datetime</th>\n",
       "      <th>pickup_longitude</th>\n",
       "      <th>pickup_latitude</th>\n",
       "      <th>dropoff_longitude</th>\n",
       "      <th>dropoff_latitude</th>\n",
       "      <th>passenger_count</th>\n",
       "      <th>Year</th>\n",
       "      <th>Month</th>\n",
       "      <th>Date</th>\n",
       "      <th>Day of Week</th>\n",
       "      <th>Hour</th>\n",
       "      <th>pickup_cluster</th>\n",
       "      <th>dropoff_cluster</th>\n",
       "    </tr>\n",
       "  </thead>\n",
       "  <tbody>\n",
       "    <tr>\n",
       "      <th>0</th>\n",
       "      <td>2009-06-15 17:26:21.000000100</td>\n",
       "      <td>4.5</td>\n",
       "      <td>2009-06-15 17:26:21+00:00</td>\n",
       "      <td>-73.844311</td>\n",
       "      <td>40.721319</td>\n",
       "      <td>-73.841610</td>\n",
       "      <td>40.712278</td>\n",
       "      <td>1</td>\n",
       "      <td>2009</td>\n",
       "      <td>6</td>\n",
       "      <td>15</td>\n",
       "      <td>Monday</td>\n",
       "      <td>17</td>\n",
       "      <td>102</td>\n",
       "      <td>22</td>\n",
       "    </tr>\n",
       "    <tr>\n",
       "      <th>1</th>\n",
       "      <td>2010-01-05 16:52:16.000000200</td>\n",
       "      <td>16.9</td>\n",
       "      <td>2010-01-05 16:52:16+00:00</td>\n",
       "      <td>-74.016048</td>\n",
       "      <td>40.711303</td>\n",
       "      <td>-73.979268</td>\n",
       "      <td>40.782004</td>\n",
       "      <td>1</td>\n",
       "      <td>2010</td>\n",
       "      <td>1</td>\n",
       "      <td>5</td>\n",
       "      <td>Tuesday</td>\n",
       "      <td>16</td>\n",
       "      <td>119</td>\n",
       "      <td>188</td>\n",
       "    </tr>\n",
       "    <tr>\n",
       "      <th>2</th>\n",
       "      <td>2011-08-18 00:35:00.000000490</td>\n",
       "      <td>5.7</td>\n",
       "      <td>2011-08-18 00:35:00+00:00</td>\n",
       "      <td>-73.982738</td>\n",
       "      <td>40.761270</td>\n",
       "      <td>-73.991242</td>\n",
       "      <td>40.750562</td>\n",
       "      <td>2</td>\n",
       "      <td>2011</td>\n",
       "      <td>8</td>\n",
       "      <td>18</td>\n",
       "      <td>Thursday</td>\n",
       "      <td>0</td>\n",
       "      <td>166</td>\n",
       "      <td>118</td>\n",
       "    </tr>\n",
       "    <tr>\n",
       "      <th>3</th>\n",
       "      <td>2012-04-21 04:30:42.000000100</td>\n",
       "      <td>7.7</td>\n",
       "      <td>2012-04-21 04:30:42+00:00</td>\n",
       "      <td>-73.987130</td>\n",
       "      <td>40.733143</td>\n",
       "      <td>-73.991567</td>\n",
       "      <td>40.758092</td>\n",
       "      <td>1</td>\n",
       "      <td>2012</td>\n",
       "      <td>4</td>\n",
       "      <td>21</td>\n",
       "      <td>Saturday</td>\n",
       "      <td>4</td>\n",
       "      <td>129</td>\n",
       "      <td>124</td>\n",
       "    </tr>\n",
       "    <tr>\n",
       "      <th>4</th>\n",
       "      <td>2010-03-09 07:51:00.000000135</td>\n",
       "      <td>5.3</td>\n",
       "      <td>2010-03-09 07:51:00+00:00</td>\n",
       "      <td>-73.968095</td>\n",
       "      <td>40.768008</td>\n",
       "      <td>-73.956655</td>\n",
       "      <td>40.783762</td>\n",
       "      <td>1</td>\n",
       "      <td>2010</td>\n",
       "      <td>3</td>\n",
       "      <td>9</td>\n",
       "      <td>Tuesday</td>\n",
       "      <td>7</td>\n",
       "      <td>189</td>\n",
       "      <td>142</td>\n",
       "    </tr>\n",
       "  </tbody>\n",
       "</table>\n",
       "</div>"
      ],
      "text/plain": [
       "                            key  fare_amount           pickup_datetime  \\\n",
       "0 2009-06-15 17:26:21.000000100          4.5 2009-06-15 17:26:21+00:00   \n",
       "1 2010-01-05 16:52:16.000000200         16.9 2010-01-05 16:52:16+00:00   \n",
       "2 2011-08-18 00:35:00.000000490          5.7 2011-08-18 00:35:00+00:00   \n",
       "3 2012-04-21 04:30:42.000000100          7.7 2012-04-21 04:30:42+00:00   \n",
       "4 2010-03-09 07:51:00.000000135          5.3 2010-03-09 07:51:00+00:00   \n",
       "\n",
       "   pickup_longitude  pickup_latitude  dropoff_longitude  dropoff_latitude  \\\n",
       "0        -73.844311        40.721319         -73.841610         40.712278   \n",
       "1        -74.016048        40.711303         -73.979268         40.782004   \n",
       "2        -73.982738        40.761270         -73.991242         40.750562   \n",
       "3        -73.987130        40.733143         -73.991567         40.758092   \n",
       "4        -73.968095        40.768008         -73.956655         40.783762   \n",
       "\n",
       "   passenger_count  Year  Month  Date Day of Week  Hour  pickup_cluster  \\\n",
       "0                1  2009      6    15      Monday    17             102   \n",
       "1                1  2010      1     5     Tuesday    16             119   \n",
       "2                2  2011      8    18    Thursday     0             166   \n",
       "3                1  2012      4    21    Saturday     4             129   \n",
       "4                1  2010      3     9     Tuesday     7             189   \n",
       "\n",
       "   dropoff_cluster  \n",
       "0               22  \n",
       "1              188  \n",
       "2              118  \n",
       "3              124  \n",
       "4              142  "
      ]
     },
     "execution_count": 42,
     "metadata": {},
     "output_type": "execute_result"
    }
   ],
   "source": [
    "df.head()"
   ]
  },
  {
   "cell_type": "code",
   "execution_count": 43,
   "id": "178f5252",
   "metadata": {
    "execution": {
     "iopub.execute_input": "2023-10-12T01:42:06.985287Z",
     "iopub.status.busy": "2023-10-12T01:42:06.984847Z",
     "iopub.status.idle": "2023-10-12T01:42:07.065109Z",
     "shell.execute_reply": "2023-10-12T01:42:07.063813Z"
    },
    "papermill": {
     "duration": 0.107149,
     "end_time": "2023-10-12T01:42:07.066988",
     "exception": false,
     "start_time": "2023-10-12T01:42:06.959839",
     "status": "completed"
    },
    "tags": []
   },
   "outputs": [
    {
     "name": "stdout",
     "output_type": "stream",
     "text": [
      "<class 'pandas.core.frame.DataFrame'>\n",
      "Int64Index: 999951 entries, 0 to 999999\n",
      "Data columns (total 15 columns):\n",
      " #   Column             Non-Null Count   Dtype              \n",
      "---  ------             --------------   -----              \n",
      " 0   key                999951 non-null  datetime64[ns]     \n",
      " 1   fare_amount        999951 non-null  float64            \n",
      " 2   pickup_datetime    999951 non-null  datetime64[ns, UTC]\n",
      " 3   pickup_longitude   999951 non-null  float64            \n",
      " 4   pickup_latitude    999951 non-null  float64            \n",
      " 5   dropoff_longitude  999951 non-null  float64            \n",
      " 6   dropoff_latitude   999951 non-null  float64            \n",
      " 7   passenger_count    999951 non-null  int64              \n",
      " 8   Year               999951 non-null  int64              \n",
      " 9   Month              999951 non-null  int64              \n",
      " 10  Date               999951 non-null  int64              \n",
      " 11  Day of Week        999951 non-null  object             \n",
      " 12  Hour               999951 non-null  int64              \n",
      " 13  pickup_cluster     999951 non-null  int32              \n",
      " 14  dropoff_cluster    999951 non-null  int32              \n",
      "dtypes: datetime64[ns, UTC](1), datetime64[ns](1), float64(5), int32(2), int64(5), object(1)\n",
      "memory usage: 146.7+ MB\n"
     ]
    }
   ],
   "source": [
    "df.info()"
   ]
  },
  {
   "cell_type": "markdown",
   "id": "2d5b1df8",
   "metadata": {
    "papermill": {
     "duration": 0.02397,
     "end_time": "2023-10-12T01:42:07.114839",
     "exception": false,
     "start_time": "2023-10-12T01:42:07.090869",
     "status": "completed"
    },
    "tags": []
   },
   "source": [
    "# Busiest Area"
   ]
  },
  {
   "cell_type": "markdown",
   "id": "d5c1e767",
   "metadata": {
    "papermill": {
     "duration": 0.024385,
     "end_time": "2023-10-12T01:42:07.163593",
     "exception": false,
     "start_time": "2023-10-12T01:42:07.139208",
     "status": "completed"
    },
    "tags": []
   },
   "source": []
  },
  {
   "cell_type": "code",
   "execution_count": 44,
   "id": "1de8f728",
   "metadata": {
    "execution": {
     "iopub.execute_input": "2023-10-12T01:42:07.217122Z",
     "iopub.status.busy": "2023-10-12T01:42:07.216287Z",
     "iopub.status.idle": "2023-10-12T01:42:07.243503Z",
     "shell.execute_reply": "2023-10-12T01:42:07.242617Z"
    },
    "papermill": {
     "duration": 0.056471,
     "end_time": "2023-10-12T01:42:07.246119",
     "exception": false,
     "start_time": "2023-10-12T01:42:07.189648",
     "status": "completed"
    },
    "tags": []
   },
   "outputs": [
    {
     "name": "stdout",
     "output_type": "stream",
     "text": [
      "     pickup_cluster  counts\n",
      "120             120    4978\n",
      "121             121       2\n",
      "top 5\n",
      "╒═════╤══════════════════╤══════════╕\n",
      "│     │   pickup_cluster │   counts │\n",
      "╞═════╪══════════════════╪══════════╡\n",
      "│  75 │               75 │    19464 │\n",
      "├─────┼──────────────────┼──────────┤\n",
      "│  43 │               43 │    18950 │\n",
      "├─────┼──────────────────┼──────────┤\n",
      "│ 170 │              170 │    15943 │\n",
      "├─────┼──────────────────┼──────────┤\n",
      "│  94 │               94 │    15447 │\n",
      "├─────┼──────────────────┼──────────┤\n",
      "│ 118 │              118 │    11586 │\n",
      "╘═════╧══════════════════╧══════════╛\n",
      "\n",
      "bottom 5\n",
      "╒═════╤══════════════════╤══════════╕\n",
      "│     │   pickup_cluster │   counts │\n",
      "╞═════╪══════════════════╪══════════╡\n",
      "│ 135 │              135 │        1 │\n",
      "├─────┼──────────────────┼──────────┤\n",
      "│  74 │               74 │        1 │\n",
      "├─────┼──────────────────┼──────────┤\n",
      "│ 109 │              109 │        1 │\n",
      "├─────┼──────────────────┼──────────┤\n",
      "│  72 │               72 │        1 │\n",
      "├─────┼──────────────────┼──────────┤\n",
      "│ 174 │              174 │        1 │\n",
      "╘═════╧══════════════════╧══════════╛\n"
     ]
    }
   ],
   "source": [
    "pd1_count_area = df.groupby(['pickup_cluster']).size().reset_index(name='counts')\n",
    "sorted_day = pd1_count_area.sort_values('counts',ascending=False)\n",
    "print(pd1_count_area[120:122])\n",
    "print(\"top 5\")\n",
    "print(tabulate(sorted_day[0:5], headers = 'keys', tablefmt = 'fancy_grid'))\n",
    "\n",
    "print()\n",
    "\n",
    "\n",
    "\n",
    "print(\"bottom 5\")\n",
    "print(tabulate(sorted_day[-5:], headers = 'keys', tablefmt = 'fancy_grid'))"
   ]
  },
  {
   "cell_type": "code",
   "execution_count": 45,
   "id": "cf446a9e",
   "metadata": {
    "execution": {
     "iopub.execute_input": "2023-10-12T01:42:07.296125Z",
     "iopub.status.busy": "2023-10-12T01:42:07.295688Z",
     "iopub.status.idle": "2023-10-12T01:42:07.736604Z",
     "shell.execute_reply": "2023-10-12T01:42:07.735739Z"
    },
    "papermill": {
     "duration": 0.468671,
     "end_time": "2023-10-12T01:42:07.738789",
     "exception": false,
     "start_time": "2023-10-12T01:42:07.270118",
     "status": "completed"
    },
    "tags": []
   },
   "outputs": [
    {
     "data": {
      "text/html": [
       "<div>\n",
       "<style scoped>\n",
       "    .dataframe tbody tr th:only-of-type {\n",
       "        vertical-align: middle;\n",
       "    }\n",
       "\n",
       "    .dataframe tbody tr th {\n",
       "        vertical-align: top;\n",
       "    }\n",
       "\n",
       "    .dataframe thead th {\n",
       "        text-align: right;\n",
       "    }\n",
       "</style>\n",
       "<table border=\"1\" class=\"dataframe\">\n",
       "  <thead>\n",
       "    <tr style=\"text-align: right;\">\n",
       "      <th></th>\n",
       "      <th>key</th>\n",
       "      <th>fare_amount</th>\n",
       "      <th>pickup_datetime</th>\n",
       "      <th>pickup_longitude</th>\n",
       "      <th>pickup_latitude</th>\n",
       "      <th>dropoff_longitude</th>\n",
       "      <th>dropoff_latitude</th>\n",
       "      <th>passenger_count</th>\n",
       "      <th>Year</th>\n",
       "      <th>Month</th>\n",
       "      <th>Date</th>\n",
       "      <th>Day of Week</th>\n",
       "      <th>Hour</th>\n",
       "      <th>pickup_cluster</th>\n",
       "      <th>dropoff_cluster</th>\n",
       "      <th>counts</th>\n",
       "    </tr>\n",
       "  </thead>\n",
       "  <tbody>\n",
       "    <tr>\n",
       "      <th>0</th>\n",
       "      <td>2009-06-15 17:26:21.000000100</td>\n",
       "      <td>4.5</td>\n",
       "      <td>2009-06-15 17:26:21+00:00</td>\n",
       "      <td>-73.844311</td>\n",
       "      <td>40.721319</td>\n",
       "      <td>-73.841610</td>\n",
       "      <td>40.712278</td>\n",
       "      <td>1</td>\n",
       "      <td>2009</td>\n",
       "      <td>6</td>\n",
       "      <td>15</td>\n",
       "      <td>Monday</td>\n",
       "      <td>17</td>\n",
       "      <td>102</td>\n",
       "      <td>22</td>\n",
       "      <td>1595</td>\n",
       "    </tr>\n",
       "    <tr>\n",
       "      <th>1</th>\n",
       "      <td>2014-03-12 18:12:44.000000600</td>\n",
       "      <td>12.0</td>\n",
       "      <td>2014-03-12 18:12:44+00:00</td>\n",
       "      <td>-73.844904</td>\n",
       "      <td>40.736318</td>\n",
       "      <td>-73.844904</td>\n",
       "      <td>40.736318</td>\n",
       "      <td>1</td>\n",
       "      <td>2014</td>\n",
       "      <td>3</td>\n",
       "      <td>12</td>\n",
       "      <td>Wednesday</td>\n",
       "      <td>18</td>\n",
       "      <td>102</td>\n",
       "      <td>22</td>\n",
       "      <td>1595</td>\n",
       "    </tr>\n",
       "    <tr>\n",
       "      <th>2</th>\n",
       "      <td>2012-01-17 13:23:00.000000196</td>\n",
       "      <td>8.9</td>\n",
       "      <td>2012-01-17 13:23:00+00:00</td>\n",
       "      <td>-73.844280</td>\n",
       "      <td>40.721353</td>\n",
       "      <td>-73.810493</td>\n",
       "      <td>40.735507</td>\n",
       "      <td>5</td>\n",
       "      <td>2012</td>\n",
       "      <td>1</td>\n",
       "      <td>17</td>\n",
       "      <td>Tuesday</td>\n",
       "      <td>13</td>\n",
       "      <td>102</td>\n",
       "      <td>22</td>\n",
       "      <td>1595</td>\n",
       "    </tr>\n",
       "    <tr>\n",
       "      <th>3</th>\n",
       "      <td>2011-12-16 01:34:00.000000330</td>\n",
       "      <td>4.9</td>\n",
       "      <td>2011-12-16 01:34:00+00:00</td>\n",
       "      <td>-73.844307</td>\n",
       "      <td>40.721327</td>\n",
       "      <td>-73.859050</td>\n",
       "      <td>40.718952</td>\n",
       "      <td>5</td>\n",
       "      <td>2011</td>\n",
       "      <td>12</td>\n",
       "      <td>16</td>\n",
       "      <td>Friday</td>\n",
       "      <td>1</td>\n",
       "      <td>102</td>\n",
       "      <td>22</td>\n",
       "      <td>1595</td>\n",
       "    </tr>\n",
       "    <tr>\n",
       "      <th>4</th>\n",
       "      <td>2009-08-28 14:07:50.000000400</td>\n",
       "      <td>23.7</td>\n",
       "      <td>2009-08-28 14:07:50+00:00</td>\n",
       "      <td>-73.844472</td>\n",
       "      <td>40.721396</td>\n",
       "      <td>-73.790328</td>\n",
       "      <td>40.643789</td>\n",
       "      <td>1</td>\n",
       "      <td>2009</td>\n",
       "      <td>8</td>\n",
       "      <td>28</td>\n",
       "      <td>Friday</td>\n",
       "      <td>14</td>\n",
       "      <td>102</td>\n",
       "      <td>81</td>\n",
       "      <td>1595</td>\n",
       "    </tr>\n",
       "    <tr>\n",
       "      <th>...</th>\n",
       "      <td>...</td>\n",
       "      <td>...</td>\n",
       "      <td>...</td>\n",
       "      <td>...</td>\n",
       "      <td>...</td>\n",
       "      <td>...</td>\n",
       "      <td>...</td>\n",
       "      <td>...</td>\n",
       "      <td>...</td>\n",
       "      <td>...</td>\n",
       "      <td>...</td>\n",
       "      <td>...</td>\n",
       "      <td>...</td>\n",
       "      <td>...</td>\n",
       "      <td>...</td>\n",
       "      <td>...</td>\n",
       "    </tr>\n",
       "    <tr>\n",
       "      <th>999946</th>\n",
       "      <td>2011-10-28 13:53:00.000000178</td>\n",
       "      <td>5.3</td>\n",
       "      <td>2011-10-28 13:53:00+00:00</td>\n",
       "      <td>-3377.680935</td>\n",
       "      <td>-113.019497</td>\n",
       "      <td>-554.918693</td>\n",
       "      <td>314.794180</td>\n",
       "      <td>1</td>\n",
       "      <td>2011</td>\n",
       "      <td>10</td>\n",
       "      <td>28</td>\n",
       "      <td>Friday</td>\n",
       "      <td>13</td>\n",
       "      <td>74</td>\n",
       "      <td>190</td>\n",
       "      <td>1</td>\n",
       "    </tr>\n",
       "    <tr>\n",
       "      <th>999947</th>\n",
       "      <td>2011-10-28 10:53:00.000000800</td>\n",
       "      <td>16.9</td>\n",
       "      <td>2011-10-28 10:53:00+00:00</td>\n",
       "      <td>-1452.988333</td>\n",
       "      <td>40.776000</td>\n",
       "      <td>-73.989487</td>\n",
       "      <td>40.740667</td>\n",
       "      <td>2</td>\n",
       "      <td>2011</td>\n",
       "      <td>10</td>\n",
       "      <td>28</td>\n",
       "      <td>Friday</td>\n",
       "      <td>10</td>\n",
       "      <td>174</td>\n",
       "      <td>185</td>\n",
       "      <td>1</td>\n",
       "    </tr>\n",
       "    <tr>\n",
       "      <th>999948</th>\n",
       "      <td>2012-03-22 21:40:00.000000188</td>\n",
       "      <td>17.3</td>\n",
       "      <td>2012-03-22 21:40:00+00:00</td>\n",
       "      <td>2522.271325</td>\n",
       "      <td>2621.628430</td>\n",
       "      <td>-1718.117653</td>\n",
       "      <td>-2864.471003</td>\n",
       "      <td>1</td>\n",
       "      <td>2012</td>\n",
       "      <td>3</td>\n",
       "      <td>22</td>\n",
       "      <td>Thursday</td>\n",
       "      <td>21</td>\n",
       "      <td>72</td>\n",
       "      <td>50</td>\n",
       "      <td>1</td>\n",
       "    </tr>\n",
       "    <tr>\n",
       "      <th>999949</th>\n",
       "      <td>2012-01-21 10:19:00.000000124</td>\n",
       "      <td>7.7</td>\n",
       "      <td>2012-01-21 10:19:00+00:00</td>\n",
       "      <td>-90.239125</td>\n",
       "      <td>47.890090</td>\n",
       "      <td>-90.239125</td>\n",
       "      <td>47.890090</td>\n",
       "      <td>1</td>\n",
       "      <td>2012</td>\n",
       "      <td>1</td>\n",
       "      <td>21</td>\n",
       "      <td>Saturday</td>\n",
       "      <td>10</td>\n",
       "      <td>121</td>\n",
       "      <td>55</td>\n",
       "      <td>2</td>\n",
       "    </tr>\n",
       "    <tr>\n",
       "      <th>999950</th>\n",
       "      <td>2012-04-20 13:11:00.000000143</td>\n",
       "      <td>10.5</td>\n",
       "      <td>2012-04-20 13:11:00+00:00</td>\n",
       "      <td>-94.366665</td>\n",
       "      <td>40.711132</td>\n",
       "      <td>-73.997302</td>\n",
       "      <td>40.722352</td>\n",
       "      <td>5</td>\n",
       "      <td>2012</td>\n",
       "      <td>4</td>\n",
       "      <td>20</td>\n",
       "      <td>Friday</td>\n",
       "      <td>13</td>\n",
       "      <td>121</td>\n",
       "      <td>57</td>\n",
       "      <td>2</td>\n",
       "    </tr>\n",
       "  </tbody>\n",
       "</table>\n",
       "<p>999951 rows × 16 columns</p>\n",
       "</div>"
      ],
      "text/plain": [
       "                                 key  fare_amount           pickup_datetime  \\\n",
       "0      2009-06-15 17:26:21.000000100          4.5 2009-06-15 17:26:21+00:00   \n",
       "1      2014-03-12 18:12:44.000000600         12.0 2014-03-12 18:12:44+00:00   \n",
       "2      2012-01-17 13:23:00.000000196          8.9 2012-01-17 13:23:00+00:00   \n",
       "3      2011-12-16 01:34:00.000000330          4.9 2011-12-16 01:34:00+00:00   \n",
       "4      2009-08-28 14:07:50.000000400         23.7 2009-08-28 14:07:50+00:00   \n",
       "...                              ...          ...                       ...   \n",
       "999946 2011-10-28 13:53:00.000000178          5.3 2011-10-28 13:53:00+00:00   \n",
       "999947 2011-10-28 10:53:00.000000800         16.9 2011-10-28 10:53:00+00:00   \n",
       "999948 2012-03-22 21:40:00.000000188         17.3 2012-03-22 21:40:00+00:00   \n",
       "999949 2012-01-21 10:19:00.000000124          7.7 2012-01-21 10:19:00+00:00   \n",
       "999950 2012-04-20 13:11:00.000000143         10.5 2012-04-20 13:11:00+00:00   \n",
       "\n",
       "        pickup_longitude  pickup_latitude  dropoff_longitude  \\\n",
       "0             -73.844311        40.721319         -73.841610   \n",
       "1             -73.844904        40.736318         -73.844904   \n",
       "2             -73.844280        40.721353         -73.810493   \n",
       "3             -73.844307        40.721327         -73.859050   \n",
       "4             -73.844472        40.721396         -73.790328   \n",
       "...                  ...              ...                ...   \n",
       "999946      -3377.680935      -113.019497        -554.918693   \n",
       "999947      -1452.988333        40.776000         -73.989487   \n",
       "999948       2522.271325      2621.628430       -1718.117653   \n",
       "999949        -90.239125        47.890090         -90.239125   \n",
       "999950        -94.366665        40.711132         -73.997302   \n",
       "\n",
       "        dropoff_latitude  passenger_count  Year  Month  Date Day of Week  \\\n",
       "0              40.712278                1  2009      6    15      Monday   \n",
       "1              40.736318                1  2014      3    12   Wednesday   \n",
       "2              40.735507                5  2012      1    17     Tuesday   \n",
       "3              40.718952                5  2011     12    16      Friday   \n",
       "4              40.643789                1  2009      8    28      Friday   \n",
       "...                  ...              ...   ...    ...   ...         ...   \n",
       "999946        314.794180                1  2011     10    28      Friday   \n",
       "999947         40.740667                2  2011     10    28      Friday   \n",
       "999948      -2864.471003                1  2012      3    22    Thursday   \n",
       "999949         47.890090                1  2012      1    21    Saturday   \n",
       "999950         40.722352                5  2012      4    20      Friday   \n",
       "\n",
       "        Hour  pickup_cluster  dropoff_cluster  counts  \n",
       "0         17             102               22    1595  \n",
       "1         18             102               22    1595  \n",
       "2         13             102               22    1595  \n",
       "3          1             102               22    1595  \n",
       "4         14             102               81    1595  \n",
       "...      ...             ...              ...     ...  \n",
       "999946    13              74              190       1  \n",
       "999947    10             174              185       1  \n",
       "999948    21              72               50       1  \n",
       "999949    10             121               55       2  \n",
       "999950    13             121               57       2  \n",
       "\n",
       "[999951 rows x 16 columns]"
      ]
     },
     "execution_count": 45,
     "metadata": {},
     "output_type": "execute_result"
    }
   ],
   "source": [
    "df = pd.merge(df,pd1_count_area,on='pickup_cluster',how='inner')\n",
    "df"
   ]
  },
  {
   "cell_type": "code",
   "execution_count": 46,
   "id": "50b14896",
   "metadata": {
    "execution": {
     "iopub.execute_input": "2023-10-12T01:42:07.795086Z",
     "iopub.status.busy": "2023-10-12T01:42:07.794758Z",
     "iopub.status.idle": "2023-10-12T01:42:23.578194Z",
     "shell.execute_reply": "2023-10-12T01:42:23.577228Z"
    },
    "papermill": {
     "duration": 15.811754,
     "end_time": "2023-10-12T01:42:23.580973",
     "exception": false,
     "start_time": "2023-10-12T01:42:07.769219",
     "status": "completed"
    },
    "tags": []
   },
   "outputs": [],
   "source": [
    "df.to_csv('file1.csv', index=False)\n"
   ]
  },
  {
   "cell_type": "code",
   "execution_count": 47,
   "id": "054e8759",
   "metadata": {
    "execution": {
     "iopub.execute_input": "2023-10-12T01:42:23.654256Z",
     "iopub.status.busy": "2023-10-12T01:42:23.653842Z",
     "iopub.status.idle": "2023-10-12T01:42:23.727704Z",
     "shell.execute_reply": "2023-10-12T01:42:23.726804Z"
    },
    "papermill": {
     "duration": 0.103522,
     "end_time": "2023-10-12T01:42:23.730017",
     "exception": false,
     "start_time": "2023-10-12T01:42:23.626495",
     "status": "completed"
    },
    "tags": []
   },
   "outputs": [],
   "source": [
    "new_df = df[['pickup_cluster','counts']].copy()"
   ]
  },
  {
   "cell_type": "markdown",
   "id": "7103c4c8",
   "metadata": {
    "papermill": {
     "duration": 0.026216,
     "end_time": "2023-10-12T01:42:23.781449",
     "exception": false,
     "start_time": "2023-10-12T01:42:23.755233",
     "status": "completed"
    },
    "tags": []
   },
   "source": [
    "# LINEAR REGRESSION"
   ]
  },
  {
   "cell_type": "code",
   "execution_count": 48,
   "id": "040279e4",
   "metadata": {
    "execution": {
     "iopub.execute_input": "2023-10-12T01:42:23.896616Z",
     "iopub.status.busy": "2023-10-12T01:42:23.895512Z",
     "iopub.status.idle": "2023-10-12T01:42:23.933977Z",
     "shell.execute_reply": "2023-10-12T01:42:23.933019Z"
    },
    "papermill": {
     "duration": 0.127163,
     "end_time": "2023-10-12T01:42:23.936104",
     "exception": false,
     "start_time": "2023-10-12T01:42:23.808941",
     "status": "completed"
    },
    "tags": []
   },
   "outputs": [
    {
     "data": {
      "text/plain": [
       "array([[ 0.05603679, -1.47819405],\n",
       "       [ 0.05603679, -1.47819405],\n",
       "       [ 0.05603679, -1.47819405],\n",
       "       ...,\n",
       "       [-0.45172459, -1.9256108 ],\n",
       "       [ 0.37761899, -1.92533011],\n",
       "       [ 0.37761899, -1.92533011]])"
      ]
     },
     "execution_count": 48,
     "metadata": {},
     "output_type": "execute_result"
    }
   ],
   "source": [
    "from sklearn.preprocessing import StandardScaler\n",
    "scaler = StandardScaler()\n",
    "scaler.fit(new_df)\n",
    "scaler.transform(new_df)"
   ]
  },
  {
   "cell_type": "code",
   "execution_count": 49,
   "id": "e02e1984",
   "metadata": {
    "execution": {
     "iopub.execute_input": "2023-10-12T01:42:23.989292Z",
     "iopub.status.busy": "2023-10-12T01:42:23.988300Z",
     "iopub.status.idle": "2023-10-12T01:42:23.992932Z",
     "shell.execute_reply": "2023-10-12T01:42:23.992021Z"
    },
    "papermill": {
     "duration": 0.032465,
     "end_time": "2023-10-12T01:42:23.994568",
     "exception": false,
     "start_time": "2023-10-12T01:42:23.962103",
     "status": "completed"
    },
    "tags": []
   },
   "outputs": [],
   "source": [
    "from sklearn.preprocessing import StandardScaler\n",
    "from sklearn.model_selection import train_test_split\n",
    "from sklearn.linear_model import LinearRegression\n",
    "from sklearn.metrics import mean_squared_error"
   ]
  },
  {
   "cell_type": "code",
   "execution_count": 50,
   "id": "0590cf29",
   "metadata": {
    "execution": {
     "iopub.execute_input": "2023-10-12T01:42:24.044280Z",
     "iopub.status.busy": "2023-10-12T01:42:24.043928Z",
     "iopub.status.idle": "2023-10-12T01:42:24.130677Z",
     "shell.execute_reply": "2023-10-12T01:42:24.129854Z"
    },
    "papermill": {
     "duration": 0.114938,
     "end_time": "2023-10-12T01:42:24.132736",
     "exception": false,
     "start_time": "2023-10-12T01:42:24.017798",
     "status": "completed"
    },
    "tags": []
   },
   "outputs": [],
   "source": [
    "x= new_df[['pickup_cluster']]\n",
    "y = new_df['counts']\n",
    "\n",
    "\n",
    "X_train, X_test, y_train, y_test = train_test_split(x, y, test_size=0.2, random_state=1)"
   ]
  },
  {
   "cell_type": "code",
   "execution_count": 51,
   "id": "76204ca9",
   "metadata": {
    "execution": {
     "iopub.execute_input": "2023-10-12T01:42:24.182491Z",
     "iopub.status.busy": "2023-10-12T01:42:24.181614Z",
     "iopub.status.idle": "2023-10-12T01:42:24.225532Z",
     "shell.execute_reply": "2023-10-12T01:42:24.224624Z"
    },
    "papermill": {
     "duration": 0.070759,
     "end_time": "2023-10-12T01:42:24.227674",
     "exception": false,
     "start_time": "2023-10-12T01:42:24.156915",
     "status": "completed"
    },
    "tags": []
   },
   "outputs": [
    {
     "data": {
      "text/plain": [
       "LinearRegression()"
      ]
     },
     "execution_count": 51,
     "metadata": {},
     "output_type": "execute_result"
    }
   ],
   "source": [
    "model = LinearRegression()\n",
    "model.fit(X_train, y_train)"
   ]
  },
  {
   "cell_type": "code",
   "execution_count": 52,
   "id": "4dfb59a9",
   "metadata": {
    "execution": {
     "iopub.execute_input": "2023-10-12T01:42:24.278727Z",
     "iopub.status.busy": "2023-10-12T01:42:24.278383Z",
     "iopub.status.idle": "2023-10-12T01:42:24.284105Z",
     "shell.execute_reply": "2023-10-12T01:42:24.283298Z"
    },
    "papermill": {
     "duration": 0.033024,
     "end_time": "2023-10-12T01:42:24.286125",
     "exception": false,
     "start_time": "2023-10-12T01:42:24.253101",
     "status": "completed"
    },
    "tags": []
   },
   "outputs": [
    {
     "data": {
      "text/plain": [
       "{'copy_X': True,\n",
       " 'fit_intercept': True,\n",
       " 'n_jobs': None,\n",
       " 'normalize': 'deprecated',\n",
       " 'positive': False}"
      ]
     },
     "execution_count": 52,
     "metadata": {},
     "output_type": "execute_result"
    }
   ],
   "source": [
    "model.get_params()"
   ]
  },
  {
   "cell_type": "code",
   "execution_count": 53,
   "id": "4da44ecd",
   "metadata": {
    "execution": {
     "iopub.execute_input": "2023-10-12T01:42:24.338930Z",
     "iopub.status.busy": "2023-10-12T01:42:24.338447Z",
     "iopub.status.idle": "2023-10-12T01:42:25.192846Z",
     "shell.execute_reply": "2023-10-12T01:42:25.191913Z"
    },
    "papermill": {
     "duration": 0.882664,
     "end_time": "2023-10-12T01:42:25.195111",
     "exception": false,
     "start_time": "2023-10-12T01:42:24.312447",
     "status": "completed"
    },
    "tags": []
   },
   "outputs": [
    {
     "data": {
      "text/plain": [
       "GridSearchCV(estimator=LinearRegression(),\n",
       "             param_grid={'copy_X': ('True', 'False'),\n",
       "                         'fit_intercept': ('True', 'False')})"
      ]
     },
     "execution_count": 53,
     "metadata": {},
     "output_type": "execute_result"
    }
   ],
   "source": [
    "from sklearn import svm, datasets\n",
    "from sklearn.model_selection import GridSearchCV\n",
    "\n",
    "parameters = {'copy_X':('True', 'False'), 'fit_intercept':('True', 'False')}\n",
    "\n",
    "clf = GridSearchCV(model, parameters)\n",
    "clf.fit(X_train,y_train)"
   ]
  },
  {
   "cell_type": "code",
   "execution_count": 54,
   "id": "c6fa06c9",
   "metadata": {
    "execution": {
     "iopub.execute_input": "2023-10-12T01:42:25.247070Z",
     "iopub.status.busy": "2023-10-12T01:42:25.246743Z",
     "iopub.status.idle": "2023-10-12T01:42:25.252086Z",
     "shell.execute_reply": "2023-10-12T01:42:25.251377Z"
    },
    "papermill": {
     "duration": 0.032087,
     "end_time": "2023-10-12T01:42:25.253850",
     "exception": false,
     "start_time": "2023-10-12T01:42:25.221763",
     "status": "completed"
    },
    "tags": []
   },
   "outputs": [
    {
     "data": {
      "text/plain": [
       "['mean_fit_time',\n",
       " 'mean_score_time',\n",
       " 'mean_test_score',\n",
       " 'param_copy_X',\n",
       " 'param_fit_intercept',\n",
       " 'params',\n",
       " 'rank_test_score',\n",
       " 'split0_test_score',\n",
       " 'split1_test_score',\n",
       " 'split2_test_score',\n",
       " 'split3_test_score',\n",
       " 'split4_test_score',\n",
       " 'std_fit_time',\n",
       " 'std_score_time',\n",
       " 'std_test_score']"
      ]
     },
     "execution_count": 54,
     "metadata": {},
     "output_type": "execute_result"
    }
   ],
   "source": [
    "sorted(clf.cv_results_.keys())"
   ]
  },
  {
   "cell_type": "code",
   "execution_count": 55,
   "id": "a61a206e",
   "metadata": {
    "execution": {
     "iopub.execute_input": "2023-10-12T01:42:25.304759Z",
     "iopub.status.busy": "2023-10-12T01:42:25.304312Z",
     "iopub.status.idle": "2023-10-12T01:42:25.309383Z",
     "shell.execute_reply": "2023-10-12T01:42:25.308667Z"
    },
    "papermill": {
     "duration": 0.033189,
     "end_time": "2023-10-12T01:42:25.311003",
     "exception": false,
     "start_time": "2023-10-12T01:42:25.277814",
     "status": "completed"
    },
    "tags": []
   },
   "outputs": [
    {
     "data": {
      "text/plain": [
       "{'copy_X': 'True', 'fit_intercept': 'True'}"
      ]
     },
     "execution_count": 55,
     "metadata": {},
     "output_type": "execute_result"
    }
   ],
   "source": [
    "clf.best_params_"
   ]
  },
  {
   "cell_type": "code",
   "execution_count": 56,
   "id": "daafbd9d",
   "metadata": {
    "execution": {
     "iopub.execute_input": "2023-10-12T01:42:25.362462Z",
     "iopub.status.busy": "2023-10-12T01:42:25.362074Z",
     "iopub.status.idle": "2023-10-12T01:42:25.368605Z",
     "shell.execute_reply": "2023-10-12T01:42:25.367872Z"
    },
    "papermill": {
     "duration": 0.03482,
     "end_time": "2023-10-12T01:42:25.370220",
     "exception": false,
     "start_time": "2023-10-12T01:42:25.335400",
     "status": "completed"
    },
    "tags": []
   },
   "outputs": [],
   "source": [
    "y_pred = model.predict(X_test)"
   ]
  },
  {
   "cell_type": "code",
   "execution_count": 57,
   "id": "e0041817",
   "metadata": {
    "execution": {
     "iopub.execute_input": "2023-10-12T01:42:25.423435Z",
     "iopub.status.busy": "2023-10-12T01:42:25.422954Z",
     "iopub.status.idle": "2023-10-12T01:42:25.430927Z",
     "shell.execute_reply": "2023-10-12T01:42:25.430099Z"
    },
    "papermill": {
     "duration": 0.036551,
     "end_time": "2023-10-12T01:42:25.432632",
     "exception": false,
     "start_time": "2023-10-12T01:42:25.396081",
     "status": "completed"
    },
    "tags": []
   },
   "outputs": [
    {
     "data": {
      "text/plain": [
       "12686876.144868191"
      ]
     },
     "execution_count": 57,
     "metadata": {},
     "output_type": "execute_result"
    }
   ],
   "source": [
    "mean_squared_error(y_test, y_pred)"
   ]
  },
  {
   "cell_type": "code",
   "execution_count": 58,
   "id": "b510037f",
   "metadata": {
    "execution": {
     "iopub.execute_input": "2023-10-12T01:42:25.483466Z",
     "iopub.status.busy": "2023-10-12T01:42:25.483006Z",
     "iopub.status.idle": "2023-10-12T01:42:25.722863Z",
     "shell.execute_reply": "2023-10-12T01:42:25.722061Z"
    },
    "papermill": {
     "duration": 0.268124,
     "end_time": "2023-10-12T01:42:25.725372",
     "exception": false,
     "start_time": "2023-10-12T01:42:25.457248",
     "status": "completed"
    },
    "tags": []
   },
   "outputs": [
    {
     "data": {
      "text/plain": [
       "<matplotlib.legend.Legend at 0x7a8cd3911650>"
      ]
     },
     "execution_count": 58,
     "metadata": {},
     "output_type": "execute_result"
    },
    {
     "data": {
      "image/png": "[encoded data removed]",
      "text/plain": [
       "<Figure size 1152x576 with 1 Axes>"
      ]
     },
     "metadata": {
      "needs_background": "light"
     },
     "output_type": "display_data"
    }
   ],
   "source": [
    "test = pd.DataFrame({'Predicted value':y_pred, 'Actual value':y_test})\n",
    "fig= plt.figure(figsize=(16,8))\n",
    "test = test.reset_index()\n",
    "test = test.drop(['index'],axis=1)\n",
    "plt.plot(test[:50])\n",
    "plt.legend(['Actual value','Predicted value'])"
   ]
  },
  {
   "cell_type": "markdown",
   "id": "a0f3074a",
   "metadata": {
    "papermill": {
     "duration": 0.025366,
     "end_time": "2023-10-12T01:42:25.777553",
     "exception": false,
     "start_time": "2023-10-12T01:42:25.752187",
     "status": "completed"
    },
    "tags": []
   },
   "source": [
    "# Random Forest"
   ]
  },
  {
   "cell_type": "code",
   "execution_count": 59,
   "id": "60c35cca",
   "metadata": {
    "execution": {
     "iopub.execute_input": "2023-10-12T01:42:25.831241Z",
     "iopub.status.busy": "2023-10-12T01:42:25.830850Z",
     "iopub.status.idle": "2023-10-12T01:42:37.333949Z",
     "shell.execute_reply": "2023-10-12T01:42:37.333120Z"
    },
    "papermill": {
     "duration": 11.532646,
     "end_time": "2023-10-12T01:42:37.335924",
     "exception": false,
     "start_time": "2023-10-12T01:42:25.803278",
     "status": "completed"
    },
    "tags": []
   },
   "outputs": [
    {
     "data": {
      "text/plain": [
       "RandomForestRegressor(max_depth=2, random_state=0)"
      ]
     },
     "execution_count": 59,
     "metadata": {},
     "output_type": "execute_result"
    }
   ],
   "source": [
    "from sklearn.ensemble import RandomForestRegressor\n",
    "\n",
    "regr = RandomForestRegressor(max_depth=2, random_state=0)\n",
    "regr.fit(X_train, y_train)"
   ]
  },
  {
   "cell_type": "code",
   "execution_count": 60,
   "id": "db1a070b",
   "metadata": {
    "execution": {
     "iopub.execute_input": "2023-10-12T01:42:37.391527Z",
     "iopub.status.busy": "2023-10-12T01:42:37.390690Z",
     "iopub.status.idle": "2023-10-12T01:42:37.872623Z",
     "shell.execute_reply": "2023-10-12T01:42:37.871655Z"
    },
    "papermill": {
     "duration": 0.511961,
     "end_time": "2023-10-12T01:42:37.874796",
     "exception": false,
     "start_time": "2023-10-12T01:42:37.362835",
     "status": "completed"
    },
    "tags": []
   },
   "outputs": [],
   "source": [
    "y_pred1 = regr.predict(X_test)"
   ]
  },
  {
   "cell_type": "code",
   "execution_count": 61,
   "id": "5e9b1f9d",
   "metadata": {
    "execution": {
     "iopub.execute_input": "2023-10-12T01:42:37.932185Z",
     "iopub.status.busy": "2023-10-12T01:42:37.931224Z",
     "iopub.status.idle": "2023-10-12T01:42:37.940316Z",
     "shell.execute_reply": "2023-10-12T01:42:37.939464Z"
    },
    "papermill": {
     "duration": 0.038821,
     "end_time": "2023-10-12T01:42:37.942114",
     "exception": false,
     "start_time": "2023-10-12T01:42:37.903293",
     "status": "completed"
    },
    "tags": []
   },
   "outputs": [
    {
     "data": {
      "text/plain": [
       "11305099.871706054"
      ]
     },
     "execution_count": 61,
     "metadata": {},
     "output_type": "execute_result"
    }
   ],
   "source": [
    "mean_squared_error(y_test, y_pred1)"
   ]
  },
  {
   "cell_type": "code",
   "execution_count": 62,
   "id": "d6a5b1fa",
   "metadata": {
    "execution": {
     "iopub.execute_input": "2023-10-12T01:42:37.996705Z",
     "iopub.status.busy": "2023-10-12T01:42:37.996364Z",
     "iopub.status.idle": "2023-10-12T01:42:38.245106Z",
     "shell.execute_reply": "2023-10-12T01:42:38.244370Z"
    },
    "papermill": {
     "duration": 0.278841,
     "end_time": "2023-10-12T01:42:38.247590",
     "exception": false,
     "start_time": "2023-10-12T01:42:37.968749",
     "status": "completed"
    },
    "tags": []
   },
   "outputs": [
    {
     "data": {
      "text/plain": [
       "<matplotlib.legend.Legend at 0x7a8cd3c06f10>"
      ]
     },
     "execution_count": 62,
     "metadata": {},
     "output_type": "execute_result"
    },
    {
     "data": {
      "image/png": "[encoded data removed]",
      "text/plain": [
       "<Figure size 1152x576 with 1 Axes>"
      ]
     },
     "metadata": {
      "needs_background": "light"
     },
     "output_type": "display_data"
    }
   ],
   "source": [
    "test = pd.DataFrame({'Predicted value':y_pred1, 'Actual value':y_test})\n",
    "fig= plt.figure(figsize=(16,8))\n",
    "test = test.reset_index()\n",
    "test = test.drop(['index'],axis=1)\n",
    "plt.plot(test[:50])\n",
    "plt.legend(['Actual value','Predicted value'])"
   ]
  },
  {
   "cell_type": "code",
   "execution_count": 63,
   "id": "d457ba60",
   "metadata": {
    "execution": {
     "iopub.execute_input": "2023-10-12T01:42:38.305672Z",
     "iopub.status.busy": "2023-10-12T01:42:38.305325Z",
     "iopub.status.idle": "2023-10-12T01:42:38.309814Z",
     "shell.execute_reply": "2023-10-12T01:42:38.308919Z"
    },
    "papermill": {
     "duration": 0.036294,
     "end_time": "2023-10-12T01:42:38.311617",
     "exception": false,
     "start_time": "2023-10-12T01:42:38.275323",
     "status": "completed"
    },
    "tags": []
   },
   "outputs": [],
   "source": [
    "param_grid = { \n",
    "    'n_estimators': [200, 500],\n",
    "    'max_features': ['auto', 'sqrt', 'log2'],\n",
    "    'max_depth' : [4,5,6,7,8],\n",
    "    \n",
    "}"
   ]
  },
  {
   "cell_type": "code",
   "execution_count": 64,
   "id": "a775d317",
   "metadata": {
    "execution": {
     "iopub.execute_input": "2023-10-12T01:42:38.370698Z",
     "iopub.status.busy": "2023-10-12T01:42:38.369754Z",
     "iopub.status.idle": "2023-10-12T01:42:38.374096Z",
     "shell.execute_reply": "2023-10-12T01:42:38.373271Z"
    },
    "papermill": {
     "duration": 0.035569,
     "end_time": "2023-10-12T01:42:38.375845",
     "exception": false,
     "start_time": "2023-10-12T01:42:38.340276",
     "status": "completed"
    },
    "tags": []
   },
   "outputs": [],
   "source": [
    "# CV_rfc = GridSearchCV(estimator=regr, param_grid=param_grid, cv= 5)\n",
    "# CV_rfc.fit(X_train, y_train)"
   ]
  },
  {
   "cell_type": "code",
   "execution_count": 65,
   "id": "a4bf1197",
   "metadata": {
    "execution": {
     "iopub.execute_input": "2023-10-12T01:42:38.432367Z",
     "iopub.status.busy": "2023-10-12T01:42:38.431885Z",
     "iopub.status.idle": "2023-10-12T01:43:25.387351Z",
     "shell.execute_reply": "2023-10-12T01:43:25.386475Z"
    },
    "papermill": {
     "duration": 47.015268,
     "end_time": "2023-10-12T01:43:25.419830",
     "exception": false,
     "start_time": "2023-10-12T01:42:38.404562",
     "status": "completed"
    },
    "tags": []
   },
   "outputs": [
    {
     "data": {
      "text/plain": [
       "RandomForestRegressor(max_depth=8, n_estimators=200, random_state=42)"
      ]
     },
     "execution_count": 65,
     "metadata": {},
     "output_type": "execute_result"
    }
   ],
   "source": [
    "regr1=RandomForestRegressor(random_state=42, max_features='auto', n_estimators= 200, max_depth=8)\n",
    "regr1.fit(X_train, y_train)"
   ]
  },
  {
   "cell_type": "code",
   "execution_count": 66,
   "id": "95e40444",
   "metadata": {
    "execution": {
     "iopub.execute_input": "2023-10-12T01:43:25.479007Z",
     "iopub.status.busy": "2023-10-12T01:43:25.478254Z",
     "iopub.status.idle": "2023-10-12T01:43:28.266336Z",
     "shell.execute_reply": "2023-10-12T01:43:28.265518Z"
    },
    "papermill": {
     "duration": 2.819745,
     "end_time": "2023-10-12T01:43:28.268491",
     "exception": false,
     "start_time": "2023-10-12T01:43:25.448746",
     "status": "completed"
    },
    "tags": []
   },
   "outputs": [],
   "source": [
    "y_pred4 = regr1.predict(X_test)"
   ]
  },
  {
   "cell_type": "code",
   "execution_count": 67,
   "id": "161c5281",
   "metadata": {
    "execution": {
     "iopub.execute_input": "2023-10-12T01:43:28.326327Z",
     "iopub.status.busy": "2023-10-12T01:43:28.325468Z",
     "iopub.status.idle": "2023-10-12T01:43:28.333697Z",
     "shell.execute_reply": "2023-10-12T01:43:28.332825Z"
    },
    "papermill": {
     "duration": 0.038885,
     "end_time": "2023-10-12T01:43:28.335477",
     "exception": false,
     "start_time": "2023-10-12T01:43:28.296592",
     "status": "completed"
    },
    "tags": []
   },
   "outputs": [
    {
     "data": {
      "text/plain": [
       "740055.1322205449"
      ]
     },
     "execution_count": 67,
     "metadata": {},
     "output_type": "execute_result"
    }
   ],
   "source": [
    "mean_squared_error(y_test, y_pred4)"
   ]
  },
  {
   "cell_type": "code",
   "execution_count": 68,
   "id": "95aa2239",
   "metadata": {
    "execution": {
     "iopub.execute_input": "2023-10-12T01:43:28.393638Z",
     "iopub.status.busy": "2023-10-12T01:43:28.392876Z",
     "iopub.status.idle": "2023-10-12T01:43:28.632779Z",
     "shell.execute_reply": "2023-10-12T01:43:28.631963Z"
    },
    "papermill": {
     "duration": 0.272029,
     "end_time": "2023-10-12T01:43:28.635725",
     "exception": false,
     "start_time": "2023-10-12T01:43:28.363696",
     "status": "completed"
    },
    "tags": []
   },
   "outputs": [
    {
     "data": {
      "text/plain": [
       "<matplotlib.legend.Legend at 0x7a8cd39ec890>"
      ]
     },
     "execution_count": 68,
     "metadata": {},
     "output_type": "execute_result"
    },
    {
     "data": {
      "image/png": "[encoded data removed]",
      "text/plain": [
       "<Figure size 1152x576 with 1 Axes>"
      ]
     },
     "metadata": {
      "needs_background": "light"
     },
     "output_type": "display_data"
    }
   ],
   "source": [
    "test = pd.DataFrame({'Predicted value':y_pred4, 'Actual value':y_test})\n",
    "fig= plt.figure(figsize=(16,8))\n",
    "test = test.reset_index()\n",
    "test = test.drop(['index'],axis=1)\n",
    "plt.plot(test[:50])\n",
    "plt.legend(['Actual value','Predicted value'])"
   ]
  },
  {
   "cell_type": "markdown",
   "id": "3504c837",
   "metadata": {
    "papermill": {
     "duration": 0.029828,
     "end_time": "2023-10-12T01:43:28.696306",
     "exception": false,
     "start_time": "2023-10-12T01:43:28.666478",
     "status": "completed"
    },
    "tags": []
   },
   "source": [
    "# XGB"
   ]
  },
  {
   "cell_type": "code",
   "execution_count": 69,
   "id": "242e32be",
   "metadata": {
    "execution": {
     "iopub.execute_input": "2023-10-12T01:43:28.755339Z",
     "iopub.status.busy": "2023-10-12T01:43:28.754963Z",
     "iopub.status.idle": "2023-10-12T01:43:54.496186Z",
     "shell.execute_reply": "2023-10-12T01:43:54.495307Z"
    },
    "papermill": {
     "duration": 25.772233,
     "end_time": "2023-10-12T01:43:54.498096",
     "exception": false,
     "start_time": "2023-10-12T01:43:28.725863",
     "status": "completed"
    },
    "tags": []
   },
   "outputs": [
    {
     "data": {
      "text/plain": [
       "GradientBoostingRegressor()"
      ]
     },
     "execution_count": 69,
     "metadata": {},
     "output_type": "execute_result"
    }
   ],
   "source": [
    "from sklearn import ensemble\n",
    "reg = ensemble.GradientBoostingRegressor()\n",
    "reg.fit(X_train, y_train)"
   ]
  },
  {
   "cell_type": "code",
   "execution_count": 70,
   "id": "09923dd3",
   "metadata": {
    "execution": {
     "iopub.execute_input": "2023-10-12T01:43:54.557514Z",
     "iopub.status.busy": "2023-10-12T01:43:54.557120Z",
     "iopub.status.idle": "2023-10-12T01:43:54.793587Z",
     "shell.execute_reply": "2023-10-12T01:43:54.792610Z"
    },
    "papermill": {
     "duration": 0.268072,
     "end_time": "2023-10-12T01:43:54.795819",
     "exception": false,
     "start_time": "2023-10-12T01:43:54.527747",
     "status": "completed"
    },
    "tags": []
   },
   "outputs": [],
   "source": [
    "y_pred2 = reg.predict(X_test)"
   ]
  },
  {
   "cell_type": "code",
   "execution_count": 71,
   "id": "052667ce",
   "metadata": {
    "execution": {
     "iopub.execute_input": "2023-10-12T01:43:54.854555Z",
     "iopub.status.busy": "2023-10-12T01:43:54.853782Z",
     "iopub.status.idle": "2023-10-12T01:43:54.862056Z",
     "shell.execute_reply": "2023-10-12T01:43:54.861214Z"
    },
    "papermill": {
     "duration": 0.038519,
     "end_time": "2023-10-12T01:43:54.863755",
     "exception": false,
     "start_time": "2023-10-12T01:43:54.825236",
     "status": "completed"
    },
    "tags": []
   },
   "outputs": [
    {
     "data": {
      "text/plain": [
       "1572608.000475794"
      ]
     },
     "execution_count": 71,
     "metadata": {},
     "output_type": "execute_result"
    }
   ],
   "source": [
    "mean_squared_error(y_test, y_pred2)"
   ]
  },
  {
   "cell_type": "code",
   "execution_count": 72,
   "id": "c162c060",
   "metadata": {
    "execution": {
     "iopub.execute_input": "2023-10-12T01:43:54.923010Z",
     "iopub.status.busy": "2023-10-12T01:43:54.922343Z",
     "iopub.status.idle": "2023-10-12T01:43:55.159407Z",
     "shell.execute_reply": "2023-10-12T01:43:55.158516Z"
    },
    "papermill": {
     "duration": 0.269829,
     "end_time": "2023-10-12T01:43:55.162155",
     "exception": false,
     "start_time": "2023-10-12T01:43:54.892326",
     "status": "completed"
    },
    "tags": []
   },
   "outputs": [
    {
     "data": {
      "text/plain": [
       "<matplotlib.legend.Legend at 0x7a8cd3944550>"
      ]
     },
     "execution_count": 72,
     "metadata": {},
     "output_type": "execute_result"
    },
    {
     "data": {
      "image/png": "[encoded data removed]",
      "text/plain": [
       "<Figure size 1152x576 with 1 Axes>"
      ]
     },
     "metadata": {
      "needs_background": "light"
     },
     "output_type": "display_data"
    }
   ],
   "source": [
    "test = pd.DataFrame({'Predicted value':y_pred2, 'Actual value':y_test})\n",
    "fig= plt.figure(figsize=(16,8))\n",
    "test = test.reset_index()\n",
    "test = test.drop(['index'],axis=1)\n",
    "plt.plot(test[:50])\n",
    "plt.legend(['Actual value','Predicted value'])"
   ]
  },
  {
   "cell_type": "code",
   "execution_count": 73,
   "id": "65fa7007",
   "metadata": {
    "execution": {
     "iopub.execute_input": "2023-10-12T01:43:55.259272Z",
     "iopub.status.busy": "2023-10-12T01:43:55.258855Z",
     "iopub.status.idle": "2023-10-12T01:43:55.262725Z",
     "shell.execute_reply": "2023-10-12T01:43:55.261964Z"
    },
    "papermill": {
     "duration": 0.038207,
     "end_time": "2023-10-12T01:43:55.264466",
     "exception": false,
     "start_time": "2023-10-12T01:43:55.226259",
     "status": "completed"
    },
    "tags": []
   },
   "outputs": [],
   "source": [
    "# parameters = {'learning_rate': [0.01,0.02,0.03,0.04],\n",
    "#                   'subsample'    : [0.9, 0.5, 0.2, 0.1],\n",
    "#                   'n_estimators' : [100,500,1000, 1500],\n",
    "#                   'max_depth'    : [4,6,8,10]\n",
    "#                  }"
   ]
  },
  {
   "cell_type": "code",
   "execution_count": 74,
   "id": "fe68dfcd",
   "metadata": {
    "execution": {
     "iopub.execute_input": "2023-10-12T01:43:55.327679Z",
     "iopub.status.busy": "2023-10-12T01:43:55.327228Z",
     "iopub.status.idle": "2023-10-12T01:43:55.330865Z",
     "shell.execute_reply": "2023-10-12T01:43:55.330049Z"
    },
    "papermill": {
     "duration": 0.036991,
     "end_time": "2023-10-12T01:43:55.332554",
     "exception": false,
     "start_time": "2023-10-12T01:43:55.295563",
     "status": "completed"
    },
    "tags": []
   },
   "outputs": [],
   "source": [
    "# grid_GBR = GridSearchCV(estimator=reg, param_grid = parameters, cv = 2, n_jobs=-1)\n",
    "# grid_GBR.fit(X_train, y_train)"
   ]
  },
  {
   "cell_type": "code",
   "execution_count": 75,
   "id": "11aae480",
   "metadata": {
    "execution": {
     "iopub.execute_input": "2023-10-12T01:43:55.394459Z",
     "iopub.status.busy": "2023-10-12T01:43:55.394085Z",
     "iopub.status.idle": "2023-10-12T01:43:55.398414Z",
     "shell.execute_reply": "2023-10-12T01:43:55.397570Z"
    },
    "papermill": {
     "duration": 0.037996,
     "end_time": "2023-10-12T01:43:55.400154",
     "exception": false,
     "start_time": "2023-10-12T01:43:55.362158",
     "status": "completed"
    },
    "tags": []
   },
   "outputs": [],
   "source": [
    "params= {'learning_rate': 0.03, 'max_depth': 10, 'n_estimators': 100, 'subsample': 0.1}"
   ]
  },
  {
   "cell_type": "code",
   "execution_count": 76,
   "id": "1e557464",
   "metadata": {
    "execution": {
     "iopub.execute_input": "2023-10-12T01:43:55.463133Z",
     "iopub.status.busy": "2023-10-12T01:43:55.462768Z",
     "iopub.status.idle": "2023-10-12T01:44:10.709403Z",
     "shell.execute_reply": "2023-10-12T01:44:10.708567Z"
    },
    "papermill": {
     "duration": 15.279803,
     "end_time": "2023-10-12T01:44:10.711305",
     "exception": false,
     "start_time": "2023-10-12T01:43:55.431502",
     "status": "completed"
    },
    "tags": []
   },
   "outputs": [
    {
     "data": {
      "text/plain": [
       "GradientBoostingRegressor(learning_rate=0.03, max_depth=10, subsample=0.1)"
      ]
     },
     "execution_count": 76,
     "metadata": {},
     "output_type": "execute_result"
    }
   ],
   "source": [
    "reg1 = ensemble.GradientBoostingRegressor(**params)\n",
    "reg1.fit(X_train, y_train)"
   ]
  },
  {
   "cell_type": "code",
   "execution_count": 77,
   "id": "66804302",
   "metadata": {
    "execution": {
     "iopub.execute_input": "2023-10-12T01:44:10.773309Z",
     "iopub.status.busy": "2023-10-12T01:44:10.772923Z",
     "iopub.status.idle": "2023-10-12T01:44:12.152777Z",
     "shell.execute_reply": "2023-10-12T01:44:12.152017Z"
    },
    "papermill": {
     "duration": 1.413778,
     "end_time": "2023-10-12T01:44:12.155323",
     "exception": false,
     "start_time": "2023-10-12T01:44:10.741545",
     "status": "completed"
    },
    "tags": []
   },
   "outputs": [
    {
     "data": {
      "text/plain": [
       "<matplotlib.legend.Legend at 0x7a8ccb5e3b50>"
      ]
     },
     "execution_count": 77,
     "metadata": {},
     "output_type": "execute_result"
    },
    {
     "data": {
      "image/png": "[encoded data removed]",
      "text/plain": [
       "<Figure size 1152x576 with 1 Axes>"
      ]
     },
     "metadata": {
      "needs_background": "light"
     },
     "output_type": "display_data"
    }
   ],
   "source": [
    "y_pred3 = reg1.predict(X_test)\n",
    "test = pd.DataFrame({'Predicted value':y_pred3, 'Actual value':y_test})\n",
    "fig= plt.figure(figsize=(16,8))\n",
    "test = test.reset_index()\n",
    "test = test.drop(['index'],axis=1)\n",
    "plt.plot(test[:50])\n",
    "plt.legend(['Actual value','Predicted value'])"
   ]
  },
  {
   "cell_type": "code",
   "execution_count": 78,
   "id": "a3016087",
   "metadata": {
    "execution": {
     "iopub.execute_input": "2023-10-12T01:44:12.222394Z",
     "iopub.status.busy": "2023-10-12T01:44:12.221902Z",
     "iopub.status.idle": "2023-10-12T01:44:12.229601Z",
     "shell.execute_reply": "2023-10-12T01:44:12.228741Z"
    },
    "papermill": {
     "duration": 0.04142,
     "end_time": "2023-10-12T01:44:12.231220",
     "exception": false,
     "start_time": "2023-10-12T01:44:12.189800",
     "status": "completed"
    },
    "tags": []
   },
   "outputs": [
    {
     "data": {
      "text/plain": [
       "63502.44255169684"
      ]
     },
     "execution_count": 78,
     "metadata": {},
     "output_type": "execute_result"
    }
   ],
   "source": [
    "mean_squared_error(y_test, y_pred3)"
   ]
  },
  {
   "cell_type": "code",
   "execution_count": 79,
   "id": "5d6d0f69",
   "metadata": {
    "execution": {
     "iopub.execute_input": "2023-10-12T01:44:12.297297Z",
     "iopub.status.busy": "2023-10-12T01:44:12.296830Z",
     "iopub.status.idle": "2023-10-12T01:44:12.301944Z",
     "shell.execute_reply": "2023-10-12T01:44:12.301186Z"
    },
    "papermill": {
     "duration": 0.041513,
     "end_time": "2023-10-12T01:44:12.303559",
     "exception": false,
     "start_time": "2023-10-12T01:44:12.262046",
     "status": "completed"
    },
    "tags": []
   },
   "outputs": [
    {
     "data": {
      "text/plain": [
       "numpy.ndarray"
      ]
     },
     "execution_count": 79,
     "metadata": {},
     "output_type": "execute_result"
    }
   ],
   "source": [
    "type(y_pred3)"
   ]
  },
  {
   "cell_type": "code",
   "execution_count": 80,
   "id": "54031e5e",
   "metadata": {
    "execution": {
     "iopub.execute_input": "2023-10-12T01:44:12.367071Z",
     "iopub.status.busy": "2023-10-12T01:44:12.366622Z",
     "iopub.status.idle": "2023-10-12T01:44:12.370641Z",
     "shell.execute_reply": "2023-10-12T01:44:12.369795Z"
    },
    "papermill": {
     "duration": 0.037833,
     "end_time": "2023-10-12T01:44:12.372247",
     "exception": false,
     "start_time": "2023-10-12T01:44:12.334414",
     "status": "completed"
    },
    "tags": []
   },
   "outputs": [],
   "source": [
    "y_test_arr = y_test.to_numpy()"
   ]
  },
  {
   "cell_type": "code",
   "execution_count": 81,
   "id": "7cffb06b",
   "metadata": {
    "execution": {
     "iopub.execute_input": "2023-10-12T01:44:12.437078Z",
     "iopub.status.busy": "2023-10-12T01:44:12.436269Z",
     "iopub.status.idle": "2023-10-12T01:44:12.441499Z",
     "shell.execute_reply": "2023-10-12T01:44:12.440725Z"
    },
    "papermill": {
     "duration": 0.039228,
     "end_time": "2023-10-12T01:44:12.443199",
     "exception": false,
     "start_time": "2023-10-12T01:44:12.403971",
     "status": "completed"
    },
    "tags": []
   },
   "outputs": [
    {
     "data": {
      "text/plain": [
       "numpy.ndarray"
      ]
     },
     "execution_count": 81,
     "metadata": {},
     "output_type": "execute_result"
    }
   ],
   "source": [
    "type(y_test_arr)"
   ]
  },
  {
   "cell_type": "code",
   "execution_count": 82,
   "id": "95feea34",
   "metadata": {
    "execution": {
     "iopub.execute_input": "2023-10-12T01:44:12.506752Z",
     "iopub.status.busy": "2023-10-12T01:44:12.506036Z",
     "iopub.status.idle": "2023-10-12T01:44:12.520095Z",
     "shell.execute_reply": "2023-10-12T01:44:12.519090Z"
    },
    "papermill": {
     "duration": 0.04798,
     "end_time": "2023-10-12T01:44:12.522144",
     "exception": false,
     "start_time": "2023-10-12T01:44:12.474164",
     "status": "completed"
    },
    "tags": []
   },
   "outputs": [
    {
     "data": {
      "text/html": [
       "<div>\n",
       "<style scoped>\n",
       "    .dataframe tbody tr th:only-of-type {\n",
       "        vertical-align: middle;\n",
       "    }\n",
       "\n",
       "    .dataframe tbody tr th {\n",
       "        vertical-align: top;\n",
       "    }\n",
       "\n",
       "    .dataframe thead th {\n",
       "        text-align: right;\n",
       "    }\n",
       "</style>\n",
       "<table border=\"1\" class=\"dataframe\">\n",
       "  <thead>\n",
       "    <tr style=\"text-align: right;\">\n",
       "      <th></th>\n",
       "      <th>Predictions</th>\n",
       "      <th>Actual</th>\n",
       "      <th>Diff</th>\n",
       "    </tr>\n",
       "  </thead>\n",
       "  <tbody>\n",
       "    <tr>\n",
       "      <th>0</th>\n",
       "      <td>5238.559702</td>\n",
       "      <td>5034</td>\n",
       "      <td>204.559702</td>\n",
       "    </tr>\n",
       "    <tr>\n",
       "      <th>1</th>\n",
       "      <td>4976.969227</td>\n",
       "      <td>4782</td>\n",
       "      <td>194.969227</td>\n",
       "    </tr>\n",
       "    <tr>\n",
       "      <th>2</th>\n",
       "      <td>4658.793964</td>\n",
       "      <td>4522</td>\n",
       "      <td>136.793964</td>\n",
       "    </tr>\n",
       "    <tr>\n",
       "      <th>3</th>\n",
       "      <td>3780.815157</td>\n",
       "      <td>3609</td>\n",
       "      <td>171.815157</td>\n",
       "    </tr>\n",
       "    <tr>\n",
       "      <th>4</th>\n",
       "      <td>8356.245101</td>\n",
       "      <td>8709</td>\n",
       "      <td>352.754899</td>\n",
       "    </tr>\n",
       "  </tbody>\n",
       "</table>\n",
       "</div>"
      ],
      "text/plain": [
       "   Predictions  Actual        Diff\n",
       "0  5238.559702    5034  204.559702\n",
       "1  4976.969227    4782  194.969227\n",
       "2  4658.793964    4522  136.793964\n",
       "3  3780.815157    3609  171.815157\n",
       "4  8356.245101    8709  352.754899"
      ]
     },
     "execution_count": 82,
     "metadata": {},
     "output_type": "execute_result"
    }
   ],
   "source": [
    "a = pd.DataFrame(y_test_arr, columns=['Actual'])\n",
    "b = pd.DataFrame(y_pred3, columns=['Predictions'])\n",
    "\n",
    "result = pd.concat([b, a,],axis=1)\n",
    "result['Diff'] = abs(result['Actual']-result['Predictions'])\n",
    "result.head()\n"
   ]
  },
  {
   "cell_type": "code",
   "execution_count": 83,
   "id": "fcfe6ed9",
   "metadata": {
    "execution": {
     "iopub.execute_input": "2023-10-12T01:44:12.587544Z",
     "iopub.status.busy": "2023-10-12T01:44:12.586843Z",
     "iopub.status.idle": "2023-10-12T01:44:13.313866Z",
     "shell.execute_reply": "2023-10-12T01:44:13.312899Z"
    },
    "papermill": {
     "duration": 0.762056,
     "end_time": "2023-10-12T01:44:13.316225",
     "exception": false,
     "start_time": "2023-10-12T01:44:12.554169",
     "status": "completed"
    },
    "tags": []
   },
   "outputs": [],
   "source": [
    "result.to_csv('file2.csv', index=False)\n"
   ]
  },
  {
   "cell_type": "markdown",
   "id": "07fe4e94",
   "metadata": {
    "papermill": {
     "duration": 0.033577,
     "end_time": "2023-10-12T01:44:13.383366",
     "exception": false,
     "start_time": "2023-10-12T01:44:13.349789",
     "status": "completed"
    },
    "tags": []
   },
   "source": [
    "# TIMEWISE analysis\n"
   ]
  },
  {
   "cell_type": "code",
   "execution_count": 84,
   "id": "7bcfc7af",
   "metadata": {
    "execution": {
     "iopub.execute_input": "2023-10-12T01:44:13.448712Z",
     "iopub.status.busy": "2023-10-12T01:44:13.447723Z",
     "iopub.status.idle": "2023-10-12T01:44:13.526006Z",
     "shell.execute_reply": "2023-10-12T01:44:13.525193Z"
    },
    "papermill": {
     "duration": 0.112858,
     "end_time": "2023-10-12T01:44:13.527903",
     "exception": false,
     "start_time": "2023-10-12T01:44:13.415045",
     "status": "completed"
    },
    "tags": []
   },
   "outputs": [
    {
     "data": {
      "text/html": [
       "<div>\n",
       "<style scoped>\n",
       "    .dataframe tbody tr th:only-of-type {\n",
       "        vertical-align: middle;\n",
       "    }\n",
       "\n",
       "    .dataframe tbody tr th {\n",
       "        vertical-align: top;\n",
       "    }\n",
       "\n",
       "    .dataframe thead th {\n",
       "        text-align: right;\n",
       "    }\n",
       "</style>\n",
       "<table border=\"1\" class=\"dataframe\">\n",
       "  <thead>\n",
       "    <tr style=\"text-align: right;\">\n",
       "      <th></th>\n",
       "      <th>pickup_cluster</th>\n",
       "      <th>Hour</th>\n",
       "      <th>counts</th>\n",
       "    </tr>\n",
       "  </thead>\n",
       "  <tbody>\n",
       "    <tr>\n",
       "      <th>19</th>\n",
       "      <td>0</td>\n",
       "      <td>19</td>\n",
       "      <td>389</td>\n",
       "    </tr>\n",
       "    <tr>\n",
       "      <th>43</th>\n",
       "      <td>1</td>\n",
       "      <td>19</td>\n",
       "      <td>303</td>\n",
       "    </tr>\n",
       "    <tr>\n",
       "      <th>56</th>\n",
       "      <td>2</td>\n",
       "      <td>8</td>\n",
       "      <td>368</td>\n",
       "    </tr>\n",
       "    <tr>\n",
       "      <th>90</th>\n",
       "      <td>3</td>\n",
       "      <td>18</td>\n",
       "      <td>404</td>\n",
       "    </tr>\n",
       "    <tr>\n",
       "      <th>115</th>\n",
       "      <td>4</td>\n",
       "      <td>19</td>\n",
       "      <td>623</td>\n",
       "    </tr>\n",
       "    <tr>\n",
       "      <th>...</th>\n",
       "      <td>...</td>\n",
       "      <td>...</td>\n",
       "      <td>...</td>\n",
       "    </tr>\n",
       "    <tr>\n",
       "      <th>4441</th>\n",
       "      <td>195</td>\n",
       "      <td>18</td>\n",
       "      <td>615</td>\n",
       "    </tr>\n",
       "    <tr>\n",
       "      <th>4469</th>\n",
       "      <td>196</td>\n",
       "      <td>22</td>\n",
       "      <td>647</td>\n",
       "    </tr>\n",
       "    <tr>\n",
       "      <th>4479</th>\n",
       "      <td>197</td>\n",
       "      <td>8</td>\n",
       "      <td>198</td>\n",
       "    </tr>\n",
       "    <tr>\n",
       "      <th>4502</th>\n",
       "      <td>198</td>\n",
       "      <td>7</td>\n",
       "      <td>240</td>\n",
       "    </tr>\n",
       "    <tr>\n",
       "      <th>4538</th>\n",
       "      <td>199</td>\n",
       "      <td>19</td>\n",
       "      <td>326</td>\n",
       "    </tr>\n",
       "  </tbody>\n",
       "</table>\n",
       "<p>200 rows × 3 columns</p>\n",
       "</div>"
      ],
      "text/plain": [
       "      pickup_cluster  Hour  counts\n",
       "19                 0    19     389\n",
       "43                 1    19     303\n",
       "56                 2     8     368\n",
       "90                 3    18     404\n",
       "115                4    19     623\n",
       "...              ...   ...     ...\n",
       "4441             195    18     615\n",
       "4469             196    22     647\n",
       "4479             197     8     198\n",
       "4502             198     7     240\n",
       "4538             199    19     326\n",
       "\n",
       "[200 rows x 3 columns]"
      ]
     },
     "execution_count": 84,
     "metadata": {},
     "output_type": "execute_result"
    }
   ],
   "source": [
    "pd1 = df.groupby(['pickup_cluster','Hour']).size().reset_index(name='counts')\n",
    "pd1.loc[pd1.groupby([\"pickup_cluster\"])[\"counts\"].idxmax()]\n"
   ]
  },
  {
   "cell_type": "code",
   "execution_count": 85,
   "id": "1d5551bd",
   "metadata": {
    "execution": {
     "iopub.execute_input": "2023-10-12T01:44:13.595195Z",
     "iopub.status.busy": "2023-10-12T01:44:13.594699Z",
     "iopub.status.idle": "2023-10-12T01:44:13.807681Z",
     "shell.execute_reply": "2023-10-12T01:44:13.806921Z"
    },
    "papermill": {
     "duration": 0.248376,
     "end_time": "2023-10-12T01:44:13.809491",
     "exception": false,
     "start_time": "2023-10-12T01:44:13.561115",
     "status": "completed"
    },
    "tags": []
   },
   "outputs": [
    {
     "data": {
      "text/html": [
       "<div>\n",
       "<style scoped>\n",
       "    .dataframe tbody tr th:only-of-type {\n",
       "        vertical-align: middle;\n",
       "    }\n",
       "\n",
       "    .dataframe tbody tr th {\n",
       "        vertical-align: top;\n",
       "    }\n",
       "\n",
       "    .dataframe thead th {\n",
       "        text-align: right;\n",
       "    }\n",
       "</style>\n",
       "<table border=\"1\" class=\"dataframe\">\n",
       "  <thead>\n",
       "    <tr style=\"text-align: right;\">\n",
       "      <th></th>\n",
       "      <th>pickup_cluster</th>\n",
       "      <th>Month</th>\n",
       "      <th>counts</th>\n",
       "    </tr>\n",
       "  </thead>\n",
       "  <tbody>\n",
       "    <tr>\n",
       "      <th>4</th>\n",
       "      <td>0</td>\n",
       "      <td>5</td>\n",
       "      <td>517</td>\n",
       "    </tr>\n",
       "    <tr>\n",
       "      <th>16</th>\n",
       "      <td>1</td>\n",
       "      <td>5</td>\n",
       "      <td>447</td>\n",
       "    </tr>\n",
       "    <tr>\n",
       "      <th>27</th>\n",
       "      <td>2</td>\n",
       "      <td>4</td>\n",
       "      <td>496</td>\n",
       "    </tr>\n",
       "    <tr>\n",
       "      <th>36</th>\n",
       "      <td>3</td>\n",
       "      <td>1</td>\n",
       "      <td>663</td>\n",
       "    </tr>\n",
       "    <tr>\n",
       "      <th>50</th>\n",
       "      <td>4</td>\n",
       "      <td>3</td>\n",
       "      <td>861</td>\n",
       "    </tr>\n",
       "    <tr>\n",
       "      <th>...</th>\n",
       "      <td>...</td>\n",
       "      <td>...</td>\n",
       "      <td>...</td>\n",
       "    </tr>\n",
       "    <tr>\n",
       "      <th>2216</th>\n",
       "      <td>195</td>\n",
       "      <td>1</td>\n",
       "      <td>807</td>\n",
       "    </tr>\n",
       "    <tr>\n",
       "      <th>2230</th>\n",
       "      <td>196</td>\n",
       "      <td>3</td>\n",
       "      <td>761</td>\n",
       "    </tr>\n",
       "    <tr>\n",
       "      <th>2244</th>\n",
       "      <td>197</td>\n",
       "      <td>5</td>\n",
       "      <td>361</td>\n",
       "    </tr>\n",
       "    <tr>\n",
       "      <th>2257</th>\n",
       "      <td>198</td>\n",
       "      <td>6</td>\n",
       "      <td>344</td>\n",
       "    </tr>\n",
       "    <tr>\n",
       "      <th>2264</th>\n",
       "      <td>199</td>\n",
       "      <td>1</td>\n",
       "      <td>430</td>\n",
       "    </tr>\n",
       "  </tbody>\n",
       "</table>\n",
       "<p>200 rows × 3 columns</p>\n",
       "</div>"
      ],
      "text/plain": [
       "      pickup_cluster  Month  counts\n",
       "4                  0      5     517\n",
       "16                 1      5     447\n",
       "27                 2      4     496\n",
       "36                 3      1     663\n",
       "50                 4      3     861\n",
       "...              ...    ...     ...\n",
       "2216             195      1     807\n",
       "2230             196      3     761\n",
       "2244             197      5     361\n",
       "2257             198      6     344\n",
       "2264             199      1     430\n",
       "\n",
       "[200 rows x 3 columns]"
      ]
     },
     "execution_count": 85,
     "metadata": {},
     "output_type": "execute_result"
    }
   ],
   "source": [
    "pd1 = df.groupby(['pickup_cluster','Month']).size().reset_index(name='counts')\n",
    "pd1.loc[pd1.groupby([\"pickup_cluster\"])[\"counts\"].idxmax()]\n"
   ]
  },
  {
   "cell_type": "code",
   "execution_count": 86,
   "id": "98034429",
   "metadata": {
    "execution": {
     "iopub.execute_input": "2023-10-12T01:44:13.877005Z",
     "iopub.status.busy": "2023-10-12T01:44:13.875974Z",
     "iopub.status.idle": "2023-10-12T01:44:13.968831Z",
     "shell.execute_reply": "2023-10-12T01:44:13.967908Z"
    },
    "papermill": {
     "duration": 0.12829,
     "end_time": "2023-10-12T01:44:13.970672",
     "exception": false,
     "start_time": "2023-10-12T01:44:13.842382",
     "status": "completed"
    },
    "tags": []
   },
   "outputs": [
    {
     "data": {
      "text/html": [
       "<div>\n",
       "<style scoped>\n",
       "    .dataframe tbody tr th:only-of-type {\n",
       "        vertical-align: middle;\n",
       "    }\n",
       "\n",
       "    .dataframe tbody tr th {\n",
       "        vertical-align: top;\n",
       "    }\n",
       "\n",
       "    .dataframe thead th {\n",
       "        text-align: right;\n",
       "    }\n",
       "</style>\n",
       "<table border=\"1\" class=\"dataframe\">\n",
       "  <thead>\n",
       "    <tr style=\"text-align: right;\">\n",
       "      <th></th>\n",
       "      <th>pickup_cluster</th>\n",
       "      <th>Date</th>\n",
       "      <th>counts</th>\n",
       "    </tr>\n",
       "  </thead>\n",
       "  <tbody>\n",
       "    <tr>\n",
       "      <th>12</th>\n",
       "      <td>0</td>\n",
       "      <td>13</td>\n",
       "      <td>203</td>\n",
       "    </tr>\n",
       "    <tr>\n",
       "      <th>52</th>\n",
       "      <td>1</td>\n",
       "      <td>22</td>\n",
       "      <td>179</td>\n",
       "    </tr>\n",
       "    <tr>\n",
       "      <th>70</th>\n",
       "      <td>2</td>\n",
       "      <td>9</td>\n",
       "      <td>197</td>\n",
       "    </tr>\n",
       "    <tr>\n",
       "      <th>105</th>\n",
       "      <td>3</td>\n",
       "      <td>13</td>\n",
       "      <td>248</td>\n",
       "    </tr>\n",
       "    <tr>\n",
       "      <th>146</th>\n",
       "      <td>4</td>\n",
       "      <td>23</td>\n",
       "      <td>350</td>\n",
       "    </tr>\n",
       "    <tr>\n",
       "      <th>...</th>\n",
       "      <td>...</td>\n",
       "      <td>...</td>\n",
       "      <td>...</td>\n",
       "    </tr>\n",
       "    <tr>\n",
       "      <th>5704</th>\n",
       "      <td>195</td>\n",
       "      <td>17</td>\n",
       "      <td>302</td>\n",
       "    </tr>\n",
       "    <tr>\n",
       "      <th>5731</th>\n",
       "      <td>196</td>\n",
       "      <td>13</td>\n",
       "      <td>301</td>\n",
       "    </tr>\n",
       "    <tr>\n",
       "      <th>5769</th>\n",
       "      <td>197</td>\n",
       "      <td>20</td>\n",
       "      <td>134</td>\n",
       "    </tr>\n",
       "    <tr>\n",
       "      <th>5796</th>\n",
       "      <td>198</td>\n",
       "      <td>16</td>\n",
       "      <td>140</td>\n",
       "    </tr>\n",
       "    <tr>\n",
       "      <th>5823</th>\n",
       "      <td>199</td>\n",
       "      <td>12</td>\n",
       "      <td>166</td>\n",
       "    </tr>\n",
       "  </tbody>\n",
       "</table>\n",
       "<p>200 rows × 3 columns</p>\n",
       "</div>"
      ],
      "text/plain": [
       "      pickup_cluster  Date  counts\n",
       "12                 0    13     203\n",
       "52                 1    22     179\n",
       "70                 2     9     197\n",
       "105                3    13     248\n",
       "146                4    23     350\n",
       "...              ...   ...     ...\n",
       "5704             195    17     302\n",
       "5731             196    13     301\n",
       "5769             197    20     134\n",
       "5796             198    16     140\n",
       "5823             199    12     166\n",
       "\n",
       "[200 rows x 3 columns]"
      ]
     },
     "execution_count": 86,
     "metadata": {},
     "output_type": "execute_result"
    }
   ],
   "source": [
    "pd1 = df.groupby(['pickup_cluster','Date']).size().reset_index(name='counts')\n",
    "pd1.loc[pd1.groupby([\"pickup_cluster\"])[\"counts\"].idxmax()]"
   ]
  },
  {
   "cell_type": "code",
   "execution_count": 87,
   "id": "bc26b86f",
   "metadata": {
    "execution": {
     "iopub.execute_input": "2023-10-12T01:44:14.039834Z",
     "iopub.status.busy": "2023-10-12T01:44:14.038988Z",
     "iopub.status.idle": "2023-10-12T01:44:14.373578Z",
     "shell.execute_reply": "2023-10-12T01:44:14.372665Z"
    },
    "papermill": {
     "duration": 0.37078,
     "end_time": "2023-10-12T01:44:14.375494",
     "exception": false,
     "start_time": "2023-10-12T01:44:14.004714",
     "status": "completed"
    },
    "tags": []
   },
   "outputs": [
    {
     "data": {
      "text/html": [
       "<div>\n",
       "<style scoped>\n",
       "    .dataframe tbody tr th:only-of-type {\n",
       "        vertical-align: middle;\n",
       "    }\n",
       "\n",
       "    .dataframe tbody tr th {\n",
       "        vertical-align: top;\n",
       "    }\n",
       "\n",
       "    .dataframe thead th {\n",
       "        text-align: right;\n",
       "    }\n",
       "</style>\n",
       "<table border=\"1\" class=\"dataframe\">\n",
       "  <thead>\n",
       "    <tr style=\"text-align: right;\">\n",
       "      <th></th>\n",
       "      <th>pickup_cluster</th>\n",
       "      <th>Day of Week</th>\n",
       "      <th>counts</th>\n",
       "    </tr>\n",
       "  </thead>\n",
       "  <tbody>\n",
       "    <tr>\n",
       "      <th>4</th>\n",
       "      <td>0</td>\n",
       "      <td>Thursday</td>\n",
       "      <td>868</td>\n",
       "    </tr>\n",
       "    <tr>\n",
       "      <th>9</th>\n",
       "      <td>1</td>\n",
       "      <td>Saturday</td>\n",
       "      <td>893</td>\n",
       "    </tr>\n",
       "    <tr>\n",
       "      <th>18</th>\n",
       "      <td>2</td>\n",
       "      <td>Thursday</td>\n",
       "      <td>872</td>\n",
       "    </tr>\n",
       "    <tr>\n",
       "      <th>21</th>\n",
       "      <td>3</td>\n",
       "      <td>Friday</td>\n",
       "      <td>1039</td>\n",
       "    </tr>\n",
       "    <tr>\n",
       "      <th>30</th>\n",
       "      <td>4</td>\n",
       "      <td>Saturday</td>\n",
       "      <td>1482</td>\n",
       "    </tr>\n",
       "    <tr>\n",
       "      <th>...</th>\n",
       "      <td>...</td>\n",
       "      <td>...</td>\n",
       "      <td>...</td>\n",
       "    </tr>\n",
       "    <tr>\n",
       "      <th>1310</th>\n",
       "      <td>195</td>\n",
       "      <td>Friday</td>\n",
       "      <td>1314</td>\n",
       "    </tr>\n",
       "    <tr>\n",
       "      <th>1321</th>\n",
       "      <td>196</td>\n",
       "      <td>Thursday</td>\n",
       "      <td>1318</td>\n",
       "    </tr>\n",
       "    <tr>\n",
       "      <th>1326</th>\n",
       "      <td>197</td>\n",
       "      <td>Saturday</td>\n",
       "      <td>602</td>\n",
       "    </tr>\n",
       "    <tr>\n",
       "      <th>1333</th>\n",
       "      <td>198</td>\n",
       "      <td>Saturday</td>\n",
       "      <td>720</td>\n",
       "    </tr>\n",
       "    <tr>\n",
       "      <th>1342</th>\n",
       "      <td>199</td>\n",
       "      <td>Thursday</td>\n",
       "      <td>757</td>\n",
       "    </tr>\n",
       "  </tbody>\n",
       "</table>\n",
       "<p>200 rows × 3 columns</p>\n",
       "</div>"
      ],
      "text/plain": [
       "      pickup_cluster Day of Week  counts\n",
       "4                  0    Thursday     868\n",
       "9                  1    Saturday     893\n",
       "18                 2    Thursday     872\n",
       "21                 3      Friday    1039\n",
       "30                 4    Saturday    1482\n",
       "...              ...         ...     ...\n",
       "1310             195      Friday    1314\n",
       "1321             196    Thursday    1318\n",
       "1326             197    Saturday     602\n",
       "1333             198    Saturday     720\n",
       "1342             199    Thursday     757\n",
       "\n",
       "[200 rows x 3 columns]"
      ]
     },
     "execution_count": 87,
     "metadata": {},
     "output_type": "execute_result"
    }
   ],
   "source": [
    "pd1 = df.groupby(['pickup_cluster','Day of Week']).size().reset_index(name='counts')\n",
    "pd1.loc[pd1.groupby([\"pickup_cluster\"])[\"counts\"].idxmax()]"
   ]
  },
  {
   "cell_type": "markdown",
   "id": "0640c169",
   "metadata": {
    "papermill": {
     "duration": 0.031884,
     "end_time": "2023-10-12T01:44:14.439627",
     "exception": false,
     "start_time": "2023-10-12T01:44:14.407743",
     "status": "completed"
    },
    "tags": []
   },
   "source": [
    "DAY HOUR MONTH WISE"
   ]
  },
  {
   "cell_type": "code",
   "execution_count": 88,
   "id": "ea58ff90",
   "metadata": {
    "execution": {
     "iopub.execute_input": "2023-10-12T01:44:14.505547Z",
     "iopub.status.busy": "2023-10-12T01:44:14.504500Z",
     "iopub.status.idle": "2023-10-12T01:44:14.588804Z",
     "shell.execute_reply": "2023-10-12T01:44:14.587882Z"
    },
    "papermill": {
     "duration": 0.119764,
     "end_time": "2023-10-12T01:44:14.591532",
     "exception": false,
     "start_time": "2023-10-12T01:44:14.471768",
     "status": "completed"
    },
    "tags": []
   },
   "outputs": [
    {
     "name": "stdout",
     "output_type": "stream",
     "text": [
      "╒══════╤══════════════════╤════════╤══════════╕\n",
      "│      │   pickup_cluster │   Hour │   counts │\n",
      "╞══════╪══════════════════╪════════╪══════════╡\n",
      "│ 1698 │               75 │     18 │     1287 │\n",
      "├──────┼──────────────────┼────────┼──────────┤\n",
      "│ 1702 │               75 │     22 │     1275 │\n",
      "├──────┼──────────────────┼────────┼──────────┤\n",
      "│ 1701 │               75 │     21 │     1241 │\n",
      "├──────┼──────────────────┼────────┼──────────┤\n",
      "│ 1699 │               75 │     19 │     1238 │\n",
      "├──────┼──────────────────┼────────┼──────────┤\n",
      "│ 1697 │               75 │     17 │     1216 │\n",
      "╘══════╧══════════════════╧════════╧══════════╛\n",
      "╒══════╤══════════════════╤════════╤══════════╕\n",
      "│      │   pickup_cluster │   Hour │   counts │\n",
      "╞══════╪══════════════════╪════════╪══════════╡\n",
      "│ 3613 │              160 │      2 │      822 │\n",
      "├──────┼──────────────────┼────────┼──────────┤\n",
      "│ 2504 │              111 │      6 │      795 │\n",
      "├──────┼──────────────────┼────────┼──────────┤\n",
      "│ 4138 │              183 │      3 │      729 │\n",
      "├──────┼──────────────────┼────────┼──────────┤\n",
      "│ 2141 │               94 │      5 │      370 │\n",
      "├──────┼──────────────────┼────────┼──────────┤\n",
      "│ 3615 │              160 │      4 │      369 │\n",
      "╘══════╧══════════════════╧════════╧══════════╛\n"
     ]
    }
   ],
   "source": [
    "pd1 = df.groupby(['pickup_cluster','Hour']).size().reset_index(name='counts')\n",
    "pd1= pd1.loc[pd1.groupby([\"Hour\"])[\"counts\"].idxmax()]\n",
    "pd1 = pd1.sort_values('counts',ascending=False)\n",
    "print(tabulate(pd1[0:5], headers = 'keys', tablefmt = 'fancy_grid'))\n",
    "\n",
    "print(tabulate(pd1[-5:], headers = 'keys', tablefmt = 'fancy_grid'))"
   ]
  },
  {
   "cell_type": "code",
   "execution_count": 89,
   "id": "c16d97c9",
   "metadata": {
    "execution": {
     "iopub.execute_input": "2023-10-12T01:44:14.665178Z",
     "iopub.status.busy": "2023-10-12T01:44:14.664779Z",
     "iopub.status.idle": "2023-10-12T01:44:14.746221Z",
     "shell.execute_reply": "2023-10-12T01:44:14.745212Z"
    },
    "papermill": {
     "duration": 0.122291,
     "end_time": "2023-10-12T01:44:14.749596",
     "exception": false,
     "start_time": "2023-10-12T01:44:14.627305",
     "status": "completed"
    },
    "tags": []
   },
   "outputs": [
    {
     "name": "stdout",
     "output_type": "stream",
     "text": [
      "╒═════╤══════════════════╤═════════╤══════════╕\n",
      "│     │   pickup_cluster │   Month │   counts │\n",
      "╞═════╪══════════════════╪═════════╪══════════╡\n",
      "│ 853 │               75 │       5 │     1932 │\n",
      "├─────┼──────────────────┼─────────┼──────────┤\n",
      "│ 854 │               75 │       6 │     1876 │\n",
      "├─────┼──────────────────┼─────────┼──────────┤\n",
      "│ 509 │               43 │       3 │     1789 │\n",
      "├─────┼──────────────────┼─────────┼──────────┤\n",
      "│ 852 │               75 │       4 │     1737 │\n",
      "├─────┼──────────────────┼─────────┼──────────┤\n",
      "│ 508 │               43 │       2 │     1611 │\n",
      "╘═════╧══════════════════╧═════════╧══════════╛\n",
      "╒═════╤══════════════════╤═════════╤══════════╕\n",
      "│     │   pickup_cluster │   Month │   counts │\n",
      "╞═════╪══════════════════╪═════════╪══════════╡\n",
      "│ 857 │               75 │       9 │     1570 │\n",
      "├─────┼──────────────────┼─────────┼──────────┤\n",
      "│ 513 │               43 │       7 │     1521 │\n",
      "├─────┼──────────────────┼─────────┼──────────┤\n",
      "│ 860 │               75 │      12 │     1519 │\n",
      "├─────┼──────────────────┼─────────┼──────────┤\n",
      "│ 859 │               75 │      11 │     1511 │\n",
      "├─────┼──────────────────┼─────────┼──────────┤\n",
      "│ 514 │               43 │       8 │     1494 │\n",
      "╘═════╧══════════════════╧═════════╧══════════╛\n"
     ]
    }
   ],
   "source": [
    "pd1 = df.groupby(['pickup_cluster','Month']).size().reset_index(name='counts')\n",
    "pd1 = pd1.loc[pd1.groupby([\"Month\"])[\"counts\"].idxmax()]\n",
    "pd1 = pd1.sort_values('counts',ascending=False)\n",
    "print(tabulate(pd1[0:5], headers = 'keys', tablefmt = 'fancy_grid'))\n",
    "\n",
    "print(tabulate(pd1[-5:], headers = 'keys', tablefmt = 'fancy_grid'))"
   ]
  },
  {
   "cell_type": "code",
   "execution_count": 90,
   "id": "63d77197",
   "metadata": {
    "execution": {
     "iopub.execute_input": "2023-10-12T01:44:14.817889Z",
     "iopub.status.busy": "2023-10-12T01:44:14.817498Z",
     "iopub.status.idle": "2023-10-12T01:44:15.142469Z",
     "shell.execute_reply": "2023-10-12T01:44:15.141099Z"
    },
    "papermill": {
     "duration": 0.36165,
     "end_time": "2023-10-12T01:44:15.144583",
     "exception": false,
     "start_time": "2023-10-12T01:44:14.782933",
     "status": "completed"
    },
    "tags": []
   },
   "outputs": [
    {
     "name": "stdout",
     "output_type": "stream",
     "text": [
      "╒═════╤══════════════════╤═══════════════╤══════════╕\n",
      "│     │   pickup_cluster │ Day of Week   │   counts │\n",
      "╞═════╪══════════════════╪═══════════════╪══════════╡\n",
      "│ 503 │               75 │ Monday        │     3396 │\n",
      "├─────┼──────────────────┼───────────────┼──────────┤\n",
      "│ 506 │               75 │ Thursday      │     3003 │\n",
      "├─────┼──────────────────┼───────────────┼──────────┤\n",
      "│ 507 │               75 │ Tuesday       │     3003 │\n",
      "├─────┼──────────────────┼───────────────┼──────────┤\n",
      "│ 300 │               43 │ Friday        │     2898 │\n",
      "├─────┼──────────────────┼───────────────┼──────────┤\n",
      "│ 302 │               43 │ Saturday      │     2824 │\n",
      "╘═════╧══════════════════╧═══════════════╧══════════╛\n"
     ]
    }
   ],
   "source": [
    "pd1 = df.groupby(['pickup_cluster','Day of Week']).size().reset_index(name='counts')\n",
    "pd1 = pd1.loc[pd1.groupby([\"Day of Week\"])[\"counts\"].idxmax()]\n",
    "pd1 = pd1.sort_values('counts',ascending=False)\n",
    "print(tabulate(pd1[0:5], headers = 'keys', tablefmt = 'fancy_grid'))"
   ]
  },
  {
   "cell_type": "markdown",
   "id": "db0a56e4",
   "metadata": {
    "papermill": {
     "duration": 0.032205,
     "end_time": "2023-10-12T01:44:15.211325",
     "exception": false,
     "start_time": "2023-10-12T01:44:15.179120",
     "status": "completed"
    },
    "tags": []
   },
   "source": [
    "# Expensive AREA"
   ]
  },
  {
   "cell_type": "code",
   "execution_count": 91,
   "id": "e4320f62",
   "metadata": {
    "execution": {
     "iopub.execute_input": "2023-10-12T01:44:15.276678Z",
     "iopub.status.busy": "2023-10-12T01:44:15.276025Z",
     "iopub.status.idle": "2023-10-12T01:44:15.321073Z",
     "shell.execute_reply": "2023-10-12T01:44:15.320190Z"
    },
    "papermill": {
     "duration": 0.081409,
     "end_time": "2023-10-12T01:44:15.324405",
     "exception": false,
     "start_time": "2023-10-12T01:44:15.242996",
     "status": "completed"
    },
    "tags": []
   },
   "outputs": [
    {
     "name": "stdout",
     "output_type": "stream",
     "text": [
      "top 5\n",
      "╒══════════════════╤═══════════════╕\n",
      "│   pickup_cluster │   fare_amount │\n",
      "╞══════════════════╪═══════════════╡\n",
      "│              161 │       56.0557 │\n",
      "├──────────────────┼───────────────┤\n",
      "│               83 │       48.5321 │\n",
      "├──────────────────┼───────────────┤\n",
      "│               94 │       43.228  │\n",
      "├──────────────────┼───────────────┤\n",
      "│               96 │       37.8463 │\n",
      "├──────────────────┼───────────────┤\n",
      "│              104 │       35.6725 │\n",
      "╘══════════════════╧═══════════════╛\n",
      "\n",
      "bottom 5\n",
      "╒══════════════════╤═══════════════╕\n",
      "│   pickup_cluster │   fare_amount │\n",
      "╞══════════════════╪═══════════════╡\n",
      "│               92 │       8.19526 │\n",
      "├──────────────────┼───────────────┤\n",
      "│              150 │       7.16667 │\n",
      "├──────────────────┼───────────────┤\n",
      "│               57 │       5.7     │\n",
      "├──────────────────┼───────────────┤\n",
      "│               74 │       5.3     │\n",
      "├──────────────────┼───────────────┤\n",
      "│              103 │       4.1     │\n",
      "╘══════════════════╧═══════════════╛\n"
     ]
    }
   ],
   "source": [
    "pd1 =  df[['pickup_cluster','fare_amount']].groupby('pickup_cluster').mean()\n",
    "\n",
    "sorted_day = pd1.sort_values('fare_amount',ascending=False)\n",
    "\n",
    "print(\"top 5\")\n",
    "print(tabulate(sorted_day[0:5], headers = 'keys', tablefmt = 'fancy_grid'))\n",
    "\n",
    "print()\n",
    "\n",
    "print(\"bottom 5\")\n",
    "print(tabulate(sorted_day[-5:], headers = 'keys', tablefmt = 'fancy_grid'))"
   ]
  },
  {
   "cell_type": "code",
   "execution_count": 92,
   "id": "9c9355b3",
   "metadata": {
    "execution": {
     "iopub.execute_input": "2023-10-12T01:44:15.406426Z",
     "iopub.status.busy": "2023-10-12T01:44:15.405539Z",
     "iopub.status.idle": "2023-10-12T01:44:15.438843Z",
     "shell.execute_reply": "2023-10-12T01:44:15.437936Z"
    },
    "papermill": {
     "duration": 0.071307,
     "end_time": "2023-10-12T01:44:15.440950",
     "exception": false,
     "start_time": "2023-10-12T01:44:15.369643",
     "status": "completed"
    },
    "tags": []
   },
   "outputs": [
    {
     "name": "stdout",
     "output_type": "stream",
     "text": [
      "top 5\n",
      "                 fare_amount\n",
      "dropoff_cluster             \n",
      "109                66.960282\n",
      "77                 65.123152\n",
      "95                 55.893858\n",
      "81                 43.558977\n",
      "72                 38.532711\n",
      "\n",
      "bottom 5\n",
      "                 fare_amount\n",
      "dropoff_cluster             \n",
      "26                  8.174560\n",
      "70                  8.094087\n",
      "155                 6.900000\n",
      "190                 5.100000\n",
      "48                  4.100000\n"
     ]
    }
   ],
   "source": [
    "pd1 =  df[['dropoff_cluster','fare_amount']].groupby('dropoff_cluster').mean()\n",
    "\n",
    "sorted_day = pd1.sort_values('fare_amount',ascending=False)\n",
    "\n",
    "print(\"top 5\")\n",
    "print(sorted_day[0:5])\n",
    "\n",
    "print()\n",
    "\n",
    "print(\"bottom 5\")\n",
    "print(sorted_day[-5:])"
   ]
  },
  {
   "cell_type": "code",
   "execution_count": 93,
   "id": "0d081512",
   "metadata": {
    "execution": {
     "iopub.execute_input": "2023-10-12T01:44:15.514194Z",
     "iopub.status.busy": "2023-10-12T01:44:15.513217Z",
     "iopub.status.idle": "2023-10-12T01:44:15.601840Z",
     "shell.execute_reply": "2023-10-12T01:44:15.600927Z"
    },
    "papermill": {
     "duration": 0.126188,
     "end_time": "2023-10-12T01:44:15.603706",
     "exception": false,
     "start_time": "2023-10-12T01:44:15.477518",
     "status": "completed"
    },
    "tags": []
   },
   "outputs": [
    {
     "data": {
      "text/html": [
       "<div>\n",
       "<style scoped>\n",
       "    .dataframe tbody tr th:only-of-type {\n",
       "        vertical-align: middle;\n",
       "    }\n",
       "\n",
       "    .dataframe tbody tr th {\n",
       "        vertical-align: top;\n",
       "    }\n",
       "\n",
       "    .dataframe thead th {\n",
       "        text-align: right;\n",
       "    }\n",
       "</style>\n",
       "<table border=\"1\" class=\"dataframe\">\n",
       "  <thead>\n",
       "    <tr style=\"text-align: right;\">\n",
       "      <th></th>\n",
       "      <th>pickup_cluster</th>\n",
       "      <th>Hour</th>\n",
       "      <th>fare_amount</th>\n",
       "    </tr>\n",
       "  </thead>\n",
       "  <tbody>\n",
       "    <tr>\n",
       "      <th>3</th>\n",
       "      <td>0</td>\n",
       "      <td>3</td>\n",
       "      <td>13.061194</td>\n",
       "    </tr>\n",
       "    <tr>\n",
       "      <th>28</th>\n",
       "      <td>1</td>\n",
       "      <td>4</td>\n",
       "      <td>12.105641</td>\n",
       "    </tr>\n",
       "    <tr>\n",
       "      <th>52</th>\n",
       "      <td>2</td>\n",
       "      <td>4</td>\n",
       "      <td>22.020556</td>\n",
       "    </tr>\n",
       "    <tr>\n",
       "      <th>77</th>\n",
       "      <td>3</td>\n",
       "      <td>5</td>\n",
       "      <td>13.300937</td>\n",
       "    </tr>\n",
       "    <tr>\n",
       "      <th>101</th>\n",
       "      <td>4</td>\n",
       "      <td>5</td>\n",
       "      <td>15.403448</td>\n",
       "    </tr>\n",
       "    <tr>\n",
       "      <th>...</th>\n",
       "      <td>...</td>\n",
       "      <td>...</td>\n",
       "      <td>...</td>\n",
       "    </tr>\n",
       "    <tr>\n",
       "      <th>4427</th>\n",
       "      <td>195</td>\n",
       "      <td>4</td>\n",
       "      <td>15.911250</td>\n",
       "    </tr>\n",
       "    <tr>\n",
       "      <th>4452</th>\n",
       "      <td>196</td>\n",
       "      <td>5</td>\n",
       "      <td>15.031154</td>\n",
       "    </tr>\n",
       "    <tr>\n",
       "      <th>4477</th>\n",
       "      <td>197</td>\n",
       "      <td>6</td>\n",
       "      <td>16.136606</td>\n",
       "    </tr>\n",
       "    <tr>\n",
       "      <th>4511</th>\n",
       "      <td>198</td>\n",
       "      <td>16</td>\n",
       "      <td>17.891882</td>\n",
       "    </tr>\n",
       "    <tr>\n",
       "      <th>4523</th>\n",
       "      <td>199</td>\n",
       "      <td>4</td>\n",
       "      <td>15.031500</td>\n",
       "    </tr>\n",
       "  </tbody>\n",
       "</table>\n",
       "<p>200 rows × 3 columns</p>\n",
       "</div>"
      ],
      "text/plain": [
       "      pickup_cluster  Hour  fare_amount\n",
       "3                  0     3    13.061194\n",
       "28                 1     4    12.105641\n",
       "52                 2     4    22.020556\n",
       "77                 3     5    13.300937\n",
       "101                4     5    15.403448\n",
       "...              ...   ...          ...\n",
       "4427             195     4    15.911250\n",
       "4452             196     5    15.031154\n",
       "4477             197     6    16.136606\n",
       "4511             198    16    17.891882\n",
       "4523             199     4    15.031500\n",
       "\n",
       "[200 rows x 3 columns]"
      ]
     },
     "execution_count": 93,
     "metadata": {},
     "output_type": "execute_result"
    }
   ],
   "source": [
    "pd1 = df.groupby(['pickup_cluster','Hour'])['fare_amount'].mean().reset_index()\n",
    "pd1.loc[pd1.groupby([\"pickup_cluster\"])[\"fare_amount\"].idxmax()]"
   ]
  },
  {
   "cell_type": "code",
   "execution_count": 94,
   "id": "836bc1e8",
   "metadata": {
    "execution": {
     "iopub.execute_input": "2023-10-12T01:44:15.677616Z",
     "iopub.status.busy": "2023-10-12T01:44:15.676550Z",
     "iopub.status.idle": "2023-10-12T01:44:15.776090Z",
     "shell.execute_reply": "2023-10-12T01:44:15.775231Z"
    },
    "papermill": {
     "duration": 0.137903,
     "end_time": "2023-10-12T01:44:15.778648",
     "exception": false,
     "start_time": "2023-10-12T01:44:15.640745",
     "status": "completed"
    },
    "tags": []
   },
   "outputs": [
    {
     "data": {
      "text/html": [
       "<div>\n",
       "<style scoped>\n",
       "    .dataframe tbody tr th:only-of-type {\n",
       "        vertical-align: middle;\n",
       "    }\n",
       "\n",
       "    .dataframe tbody tr th {\n",
       "        vertical-align: top;\n",
       "    }\n",
       "\n",
       "    .dataframe thead th {\n",
       "        text-align: right;\n",
       "    }\n",
       "</style>\n",
       "<table border=\"1\" class=\"dataframe\">\n",
       "  <thead>\n",
       "    <tr style=\"text-align: right;\">\n",
       "      <th></th>\n",
       "      <th>pickup_cluster</th>\n",
       "      <th>Month</th>\n",
       "      <th>fare_amount</th>\n",
       "    </tr>\n",
       "  </thead>\n",
       "  <tbody>\n",
       "    <tr>\n",
       "      <th>3</th>\n",
       "      <td>0</td>\n",
       "      <td>4</td>\n",
       "      <td>11.077074</td>\n",
       "    </tr>\n",
       "    <tr>\n",
       "      <th>21</th>\n",
       "      <td>1</td>\n",
       "      <td>10</td>\n",
       "      <td>9.433190</td>\n",
       "    </tr>\n",
       "    <tr>\n",
       "      <th>32</th>\n",
       "      <td>2</td>\n",
       "      <td>9</td>\n",
       "      <td>9.468182</td>\n",
       "    </tr>\n",
       "    <tr>\n",
       "      <th>44</th>\n",
       "      <td>3</td>\n",
       "      <td>9</td>\n",
       "      <td>10.450312</td>\n",
       "    </tr>\n",
       "    <tr>\n",
       "      <th>57</th>\n",
       "      <td>4</td>\n",
       "      <td>10</td>\n",
       "      <td>10.350562</td>\n",
       "    </tr>\n",
       "    <tr>\n",
       "      <th>...</th>\n",
       "      <td>...</td>\n",
       "      <td>...</td>\n",
       "      <td>...</td>\n",
       "    </tr>\n",
       "    <tr>\n",
       "      <th>2222</th>\n",
       "      <td>195</td>\n",
       "      <td>7</td>\n",
       "      <td>10.251545</td>\n",
       "    </tr>\n",
       "    <tr>\n",
       "      <th>2237</th>\n",
       "      <td>196</td>\n",
       "      <td>10</td>\n",
       "      <td>12.218781</td>\n",
       "    </tr>\n",
       "    <tr>\n",
       "      <th>2245</th>\n",
       "      <td>197</td>\n",
       "      <td>6</td>\n",
       "      <td>14.339212</td>\n",
       "    </tr>\n",
       "    <tr>\n",
       "      <th>2254</th>\n",
       "      <td>198</td>\n",
       "      <td>3</td>\n",
       "      <td>14.384037</td>\n",
       "    </tr>\n",
       "    <tr>\n",
       "      <th>2275</th>\n",
       "      <td>199</td>\n",
       "      <td>12</td>\n",
       "      <td>12.359783</td>\n",
       "    </tr>\n",
       "  </tbody>\n",
       "</table>\n",
       "<p>200 rows × 3 columns</p>\n",
       "</div>"
      ],
      "text/plain": [
       "      pickup_cluster  Month  fare_amount\n",
       "3                  0      4    11.077074\n",
       "21                 1     10     9.433190\n",
       "32                 2      9     9.468182\n",
       "44                 3      9    10.450312\n",
       "57                 4     10    10.350562\n",
       "...              ...    ...          ...\n",
       "2222             195      7    10.251545\n",
       "2237             196     10    12.218781\n",
       "2245             197      6    14.339212\n",
       "2254             198      3    14.384037\n",
       "2275             199     12    12.359783\n",
       "\n",
       "[200 rows x 3 columns]"
      ]
     },
     "execution_count": 94,
     "metadata": {},
     "output_type": "execute_result"
    }
   ],
   "source": [
    "pd1 = df.groupby(['pickup_cluster','Month'])['fare_amount'].mean().reset_index()\n",
    "pd1.loc[pd1.groupby([\"pickup_cluster\"])[\"fare_amount\"].idxmax()]"
   ]
  },
  {
   "cell_type": "code",
   "execution_count": 95,
   "id": "450ec0dd",
   "metadata": {
    "execution": {
     "iopub.execute_input": "2023-10-12T01:44:15.850597Z",
     "iopub.status.busy": "2023-10-12T01:44:15.850251Z",
     "iopub.status.idle": "2023-10-12T01:44:15.949458Z",
     "shell.execute_reply": "2023-10-12T01:44:15.948581Z"
    },
    "papermill": {
     "duration": 0.137064,
     "end_time": "2023-10-12T01:44:15.951336",
     "exception": false,
     "start_time": "2023-10-12T01:44:15.814272",
     "status": "completed"
    },
    "tags": []
   },
   "outputs": [
    {
     "data": {
      "text/html": [
       "<div>\n",
       "<style scoped>\n",
       "    .dataframe tbody tr th:only-of-type {\n",
       "        vertical-align: middle;\n",
       "    }\n",
       "\n",
       "    .dataframe tbody tr th {\n",
       "        vertical-align: top;\n",
       "    }\n",
       "\n",
       "    .dataframe thead th {\n",
       "        text-align: right;\n",
       "    }\n",
       "</style>\n",
       "<table border=\"1\" class=\"dataframe\">\n",
       "  <thead>\n",
       "    <tr style=\"text-align: right;\">\n",
       "      <th></th>\n",
       "      <th>pickup_cluster</th>\n",
       "      <th>Date</th>\n",
       "      <th>fare_amount</th>\n",
       "    </tr>\n",
       "  </thead>\n",
       "  <tbody>\n",
       "    <tr>\n",
       "      <th>27</th>\n",
       "      <td>0</td>\n",
       "      <td>28</td>\n",
       "      <td>11.630000</td>\n",
       "    </tr>\n",
       "    <tr>\n",
       "      <th>39</th>\n",
       "      <td>1</td>\n",
       "      <td>9</td>\n",
       "      <td>10.062439</td>\n",
       "    </tr>\n",
       "    <tr>\n",
       "      <th>69</th>\n",
       "      <td>2</td>\n",
       "      <td>8</td>\n",
       "      <td>9.709301</td>\n",
       "    </tr>\n",
       "    <tr>\n",
       "      <th>108</th>\n",
       "      <td>3</td>\n",
       "      <td>16</td>\n",
       "      <td>10.175022</td>\n",
       "    </tr>\n",
       "    <tr>\n",
       "      <th>152</th>\n",
       "      <td>4</td>\n",
       "      <td>29</td>\n",
       "      <td>11.137314</td>\n",
       "    </tr>\n",
       "    <tr>\n",
       "      <th>...</th>\n",
       "      <td>...</td>\n",
       "      <td>...</td>\n",
       "      <td>...</td>\n",
       "    </tr>\n",
       "    <tr>\n",
       "      <th>5710</th>\n",
       "      <td>195</td>\n",
       "      <td>23</td>\n",
       "      <td>10.817727</td>\n",
       "    </tr>\n",
       "    <tr>\n",
       "      <th>5726</th>\n",
       "      <td>196</td>\n",
       "      <td>8</td>\n",
       "      <td>12.559025</td>\n",
       "    </tr>\n",
       "    <tr>\n",
       "      <th>5771</th>\n",
       "      <td>197</td>\n",
       "      <td>22</td>\n",
       "      <td>15.427008</td>\n",
       "    </tr>\n",
       "    <tr>\n",
       "      <th>5791</th>\n",
       "      <td>198</td>\n",
       "      <td>11</td>\n",
       "      <td>16.607422</td>\n",
       "    </tr>\n",
       "    <tr>\n",
       "      <th>5816</th>\n",
       "      <td>199</td>\n",
       "      <td>5</td>\n",
       "      <td>12.515493</td>\n",
       "    </tr>\n",
       "  </tbody>\n",
       "</table>\n",
       "<p>200 rows × 3 columns</p>\n",
       "</div>"
      ],
      "text/plain": [
       "      pickup_cluster  Date  fare_amount\n",
       "27                 0    28    11.630000\n",
       "39                 1     9    10.062439\n",
       "69                 2     8     9.709301\n",
       "108                3    16    10.175022\n",
       "152                4    29    11.137314\n",
       "...              ...   ...          ...\n",
       "5710             195    23    10.817727\n",
       "5726             196     8    12.559025\n",
       "5771             197    22    15.427008\n",
       "5791             198    11    16.607422\n",
       "5816             199     5    12.515493\n",
       "\n",
       "[200 rows x 3 columns]"
      ]
     },
     "execution_count": 95,
     "metadata": {},
     "output_type": "execute_result"
    }
   ],
   "source": [
    "pd1 = df.groupby(['pickup_cluster','Date'])['fare_amount'].mean().reset_index()\n",
    "pd1.loc[pd1.groupby([\"pickup_cluster\"])[\"fare_amount\"].idxmax()]"
   ]
  },
  {
   "cell_type": "code",
   "execution_count": 96,
   "id": "365c81ca",
   "metadata": {
    "execution": {
     "iopub.execute_input": "2023-10-12T01:44:16.022243Z",
     "iopub.status.busy": "2023-10-12T01:44:16.021702Z",
     "iopub.status.idle": "2023-10-12T01:44:16.367230Z",
     "shell.execute_reply": "2023-10-12T01:44:16.366332Z"
    },
    "papermill": {
     "duration": 0.382978,
     "end_time": "2023-10-12T01:44:16.369172",
     "exception": false,
     "start_time": "2023-10-12T01:44:15.986194",
     "status": "completed"
    },
    "tags": []
   },
   "outputs": [
    {
     "data": {
      "text/html": [
       "<div>\n",
       "<style scoped>\n",
       "    .dataframe tbody tr th:only-of-type {\n",
       "        vertical-align: middle;\n",
       "    }\n",
       "\n",
       "    .dataframe tbody tr th {\n",
       "        vertical-align: top;\n",
       "    }\n",
       "\n",
       "    .dataframe thead th {\n",
       "        text-align: right;\n",
       "    }\n",
       "</style>\n",
       "<table border=\"1\" class=\"dataframe\">\n",
       "  <thead>\n",
       "    <tr style=\"text-align: right;\">\n",
       "      <th></th>\n",
       "      <th>pickup_cluster</th>\n",
       "      <th>Day of Week</th>\n",
       "      <th>fare_amount</th>\n",
       "    </tr>\n",
       "  </thead>\n",
       "  <tbody>\n",
       "    <tr>\n",
       "      <th>4</th>\n",
       "      <td>0</td>\n",
       "      <td>Thursday</td>\n",
       "      <td>11.023906</td>\n",
       "    </tr>\n",
       "    <tr>\n",
       "      <th>9</th>\n",
       "      <td>1</td>\n",
       "      <td>Saturday</td>\n",
       "      <td>9.275196</td>\n",
       "    </tr>\n",
       "    <tr>\n",
       "      <th>16</th>\n",
       "      <td>2</td>\n",
       "      <td>Saturday</td>\n",
       "      <td>9.200490</td>\n",
       "    </tr>\n",
       "    <tr>\n",
       "      <th>23</th>\n",
       "      <td>3</td>\n",
       "      <td>Saturday</td>\n",
       "      <td>9.710838</td>\n",
       "    </tr>\n",
       "    <tr>\n",
       "      <th>28</th>\n",
       "      <td>4</td>\n",
       "      <td>Friday</td>\n",
       "      <td>10.155515</td>\n",
       "    </tr>\n",
       "    <tr>\n",
       "      <th>...</th>\n",
       "      <td>...</td>\n",
       "      <td>...</td>\n",
       "      <td>...</td>\n",
       "    </tr>\n",
       "    <tr>\n",
       "      <th>1313</th>\n",
       "      <td>195</td>\n",
       "      <td>Sunday</td>\n",
       "      <td>10.179490</td>\n",
       "    </tr>\n",
       "    <tr>\n",
       "      <th>1321</th>\n",
       "      <td>196</td>\n",
       "      <td>Thursday</td>\n",
       "      <td>11.912929</td>\n",
       "    </tr>\n",
       "    <tr>\n",
       "      <th>1324</th>\n",
       "      <td>197</td>\n",
       "      <td>Friday</td>\n",
       "      <td>14.422519</td>\n",
       "    </tr>\n",
       "    <tr>\n",
       "      <th>1337</th>\n",
       "      <td>198</td>\n",
       "      <td>Wednesday</td>\n",
       "      <td>14.642482</td>\n",
       "    </tr>\n",
       "    <tr>\n",
       "      <th>1341</th>\n",
       "      <td>199</td>\n",
       "      <td>Sunday</td>\n",
       "      <td>11.829148</td>\n",
       "    </tr>\n",
       "  </tbody>\n",
       "</table>\n",
       "<p>200 rows × 3 columns</p>\n",
       "</div>"
      ],
      "text/plain": [
       "      pickup_cluster Day of Week  fare_amount\n",
       "4                  0    Thursday    11.023906\n",
       "9                  1    Saturday     9.275196\n",
       "16                 2    Saturday     9.200490\n",
       "23                 3    Saturday     9.710838\n",
       "28                 4      Friday    10.155515\n",
       "...              ...         ...          ...\n",
       "1313             195      Sunday    10.179490\n",
       "1321             196    Thursday    11.912929\n",
       "1324             197      Friday    14.422519\n",
       "1337             198   Wednesday    14.642482\n",
       "1341             199      Sunday    11.829148\n",
       "\n",
       "[200 rows x 3 columns]"
      ]
     },
     "execution_count": 96,
     "metadata": {},
     "output_type": "execute_result"
    }
   ],
   "source": [
    "pd1 = df.groupby(['pickup_cluster','Day of Week'])['fare_amount'].mean().reset_index()\n",
    "pd1.loc[pd1.groupby([\"pickup_cluster\"])[\"fare_amount\"].idxmax()]"
   ]
  },
  {
   "cell_type": "markdown",
   "id": "521a2b22",
   "metadata": {
    "papermill": {
     "duration": 0.034643,
     "end_time": "2023-10-12T01:44:16.439971",
     "exception": false,
     "start_time": "2023-10-12T01:44:16.405328",
     "status": "completed"
    },
    "tags": []
   },
   "source": [
    "HOUR DAY MONTH WISE"
   ]
  },
  {
   "cell_type": "code",
   "execution_count": 97,
   "id": "1fdb2ff9",
   "metadata": {
    "execution": {
     "iopub.execute_input": "2023-10-12T01:44:16.512245Z",
     "iopub.status.busy": "2023-10-12T01:44:16.511397Z",
     "iopub.status.idle": "2023-10-12T01:44:16.594629Z",
     "shell.execute_reply": "2023-10-12T01:44:16.593741Z"
    },
    "papermill": {
     "duration": 0.121449,
     "end_time": "2023-10-12T01:44:16.597078",
     "exception": false,
     "start_time": "2023-10-12T01:44:16.475629",
     "status": "completed"
    },
    "tags": []
   },
   "outputs": [
    {
     "name": "stdout",
     "output_type": "stream",
     "text": [
      "╒══════╤══════════════════╤═════════╤═══════════════╕\n",
      "│      │   pickup_cluster │   Month │   fare_amount │\n",
      "╞══════╪══════════════════╪═════════╪═══════════════╡\n",
      "│ 1826 │              161 │       7 │      110.762  │\n",
      "├──────┼──────────────────┼─────────┼───────────────┤\n",
      "│  948 │               83 │       4 │      101.883  │\n",
      "├──────┼──────────────────┼─────────┼───────────────┤\n",
      "│ 1824 │              161 │       5 │       83.5    │\n",
      "├──────┼──────────────────┼─────────┼───────────────┤\n",
      "│ 1829 │              161 │      10 │       77.166  │\n",
      "├──────┼──────────────────┼─────────┼───────────────┤\n",
      "│ 1821 │              161 │       2 │       76.6375 │\n",
      "╘══════╧══════════════════╧═════════╧═══════════════╛\n"
     ]
    }
   ],
   "source": [
    "pd1 = df.groupby(['pickup_cluster','Month'])['fare_amount'].mean().reset_index()\n",
    "pd1 = pd1.loc[pd1.groupby([\"Month\"])[\"fare_amount\"].idxmax()]\n",
    "pd1 = pd1.sort_values('fare_amount',ascending=False)\n",
    "print(tabulate(pd1[0:5], headers = 'keys', tablefmt = 'fancy_grid'))"
   ]
  },
  {
   "cell_type": "code",
   "execution_count": 98,
   "id": "1b719ee1",
   "metadata": {
    "execution": {
     "iopub.execute_input": "2023-10-12T01:44:16.671041Z",
     "iopub.status.busy": "2023-10-12T01:44:16.670675Z",
     "iopub.status.idle": "2023-10-12T01:44:16.754013Z",
     "shell.execute_reply": "2023-10-12T01:44:16.753105Z"
    },
    "papermill": {
     "duration": 0.122514,
     "end_time": "2023-10-12T01:44:16.756566",
     "exception": false,
     "start_time": "2023-10-12T01:44:16.634052",
     "status": "completed"
    },
    "tags": []
   },
   "outputs": [
    {
     "name": "stdout",
     "output_type": "stream",
     "text": [
      "╒══════╤══════════════════╤════════╤═══════════════╕\n",
      "│      │   pickup_cluster │   Hour │   fare_amount │\n",
      "╞══════╪══════════════════╪════════╪═══════════════╡\n",
      "│ 1874 │               83 │      2 │       162.5   │\n",
      "├──────┼──────────────────┼────────┼───────────────┤\n",
      "│ 3749 │              165 │     22 │       130     │\n",
      "├──────┼──────────────────┼────────┼───────────────┤\n",
      "│ 3635 │              161 │      0 │       108.854 │\n",
      "├──────┼──────────────────┼────────┼───────────────┤\n",
      "│ 1889 │               83 │     17 │       103.217 │\n",
      "├──────┼──────────────────┼────────┼───────────────┤\n",
      "│ 3638 │              161 │      3 │       102.667 │\n",
      "╘══════╧══════════════════╧════════╧═══════════════╛\n"
     ]
    }
   ],
   "source": [
    "pd1 = df.groupby(['pickup_cluster','Hour'])['fare_amount'].mean().reset_index()\n",
    "pd1 = pd1.loc[pd1.groupby([\"Hour\"])[\"fare_amount\"].idxmax()]\n",
    "pd1 = pd1.sort_values('fare_amount',ascending=False)\n",
    "print(tabulate(pd1[0:5], headers = 'keys', tablefmt = 'fancy_grid'))"
   ]
  },
  {
   "cell_type": "code",
   "execution_count": 99,
   "id": "f03fc0d7",
   "metadata": {
    "execution": {
     "iopub.execute_input": "2023-10-12T01:44:16.828363Z",
     "iopub.status.busy": "2023-10-12T01:44:16.827352Z",
     "iopub.status.idle": "2023-10-12T01:44:17.151027Z",
     "shell.execute_reply": "2023-10-12T01:44:17.150120Z"
    },
    "papermill": {
     "duration": 0.363065,
     "end_time": "2023-10-12T01:44:17.153780",
     "exception": false,
     "start_time": "2023-10-12T01:44:16.790715",
     "status": "completed"
    },
    "tags": []
   },
   "outputs": [
    {
     "name": "stdout",
     "output_type": "stream",
     "text": [
      "╒══════╤══════════════════╤═══════════════╤═══════════════╕\n",
      "│      │   pickup_cluster │ Day of Week   │   fare_amount │\n",
      "╞══════╪══════════════════╪═══════════════╪═══════════════╡\n",
      "│  560 │               83 │ Saturday      │       80.9142 │\n",
      "├──────┼──────────────────┼───────────────┼───────────────┤\n",
      "│  562 │               83 │ Thursday      │       79.7267 │\n",
      "├──────┼──────────────────┼───────────────┼───────────────┤\n",
      "│ 1079 │              161 │ Monday        │       73.5736 │\n",
      "├──────┼──────────────────┼───────────────┼───────────────┤\n",
      "│ 1084 │              161 │ Wednesday     │       68.0979 │\n",
      "├──────┼──────────────────┼───────────────┼───────────────┤\n",
      "│ 1083 │              161 │ Tuesday       │       62.3    │\n",
      "╘══════╧══════════════════╧═══════════════╧═══════════════╛\n"
     ]
    }
   ],
   "source": [
    "pd1 = df.groupby(['pickup_cluster','Day of Week'])['fare_amount'].mean().reset_index()\n",
    "pd1 = pd1.loc[pd1.groupby([\"Day of Week\"])[\"fare_amount\"].idxmax()]\n",
    "pd1 = pd1.sort_values('fare_amount',ascending=False)\n",
    "print(tabulate(pd1[0:5], headers = 'keys', tablefmt = 'fancy_grid'))"
   ]
  },
  {
   "cell_type": "markdown",
   "id": "c14bab04",
   "metadata": {
    "papermill": {
     "duration": 0.035236,
     "end_time": "2023-10-12T01:44:17.225992",
     "exception": false,
     "start_time": "2023-10-12T01:44:17.190756",
     "status": "completed"
    },
    "tags": []
   },
   "source": [
    "# Distance"
   ]
  },
  {
   "cell_type": "code",
   "execution_count": 100,
   "id": "f9960ef9",
   "metadata": {
    "execution": {
     "iopub.execute_input": "2023-10-12T01:44:17.297041Z",
     "iopub.status.busy": "2023-10-12T01:44:17.296434Z",
     "iopub.status.idle": "2023-10-12T01:44:17.302064Z",
     "shell.execute_reply": "2023-10-12T01:44:17.301225Z"
    },
    "papermill": {
     "duration": 0.043554,
     "end_time": "2023-10-12T01:44:17.303894",
     "exception": false,
     "start_time": "2023-10-12T01:44:17.260340",
     "status": "completed"
    },
    "tags": []
   },
   "outputs": [],
   "source": [
    "a = kmeans.cluster_centers_\n",
    "b= kmeans1.cluster_centers_\n"
   ]
  },
  {
   "cell_type": "code",
   "execution_count": 101,
   "id": "ab5bcf5a",
   "metadata": {
    "execution": {
     "iopub.execute_input": "2023-10-12T01:44:17.376723Z",
     "iopub.status.busy": "2023-10-12T01:44:17.375920Z",
     "iopub.status.idle": "2023-10-12T01:44:17.383002Z",
     "shell.execute_reply": "2023-10-12T01:44:17.382176Z"
    },
    "papermill": {
     "duration": 0.046024,
     "end_time": "2023-10-12T01:44:17.384701",
     "exception": false,
     "start_time": "2023-10-12T01:44:17.338677",
     "status": "completed"
    },
    "tags": []
   },
   "outputs": [],
   "source": [
    "from scipy.spatial import distance_matrix\n",
    "\n",
    "dist_mat1 = distance_matrix(a,a,p=2)"
   ]
  },
  {
   "cell_type": "code",
   "execution_count": 102,
   "id": "8499de47",
   "metadata": {
    "execution": {
     "iopub.execute_input": "2023-10-12T01:44:17.455597Z",
     "iopub.status.busy": "2023-10-12T01:44:17.454623Z",
     "iopub.status.idle": "2023-10-12T01:44:17.462617Z",
     "shell.execute_reply": "2023-10-12T01:44:17.461806Z"
    },
    "papermill": {
     "duration": 0.045504,
     "end_time": "2023-10-12T01:44:17.464400",
     "exception": false,
     "start_time": "2023-10-12T01:44:17.418896",
     "status": "completed"
    },
    "tags": []
   },
   "outputs": [],
   "source": [
    "dist_mat2 = distance_matrix(b,b,p=2)"
   ]
  },
  {
   "cell_type": "code",
   "execution_count": 103,
   "id": "f653a689",
   "metadata": {
    "execution": {
     "iopub.execute_input": "2023-10-12T01:44:17.532319Z",
     "iopub.status.busy": "2023-10-12T01:44:17.531932Z",
     "iopub.status.idle": "2023-10-12T01:44:17.538448Z",
     "shell.execute_reply": "2023-10-12T01:44:17.537645Z"
    },
    "papermill": {
     "duration": 0.041881,
     "end_time": "2023-10-12T01:44:17.540291",
     "exception": false,
     "start_time": "2023-10-12T01:44:17.498410",
     "status": "completed"
    },
    "tags": []
   },
   "outputs": [],
   "source": [
    "dist_mat3 = distance_matrix(a,b,p=2)"
   ]
  },
  {
   "cell_type": "code",
   "execution_count": 104,
   "id": "9b71da8d",
   "metadata": {
    "execution": {
     "iopub.execute_input": "2023-10-12T01:44:17.611328Z",
     "iopub.status.busy": "2023-10-12T01:44:17.610757Z",
     "iopub.status.idle": "2023-10-12T01:44:17.617472Z",
     "shell.execute_reply": "2023-10-12T01:44:17.616544Z"
    },
    "papermill": {
     "duration": 0.045396,
     "end_time": "2023-10-12T01:44:17.620077",
     "exception": false,
     "start_time": "2023-10-12T01:44:17.574681",
     "status": "completed"
    },
    "tags": []
   },
   "outputs": [
    {
     "data": {
      "text/plain": [
       "array([[0.        , 0.02508144, 0.02361087, ..., 0.06227017, 0.06402337,\n",
       "        0.03098801],\n",
       "       [0.02508144, 0.        , 0.03384226, ..., 0.08245153, 0.063227  ,\n",
       "        0.03330023],\n",
       "       [0.02361087, 0.03384226, 0.        , ..., 0.0501316 , 0.04111247,\n",
       "        0.01054314],\n",
       "       ...,\n",
       "       [0.06227017, 0.08245153, 0.0501316 , ..., 0.        , 0.06348661,\n",
       "        0.05673382],\n",
       "       [0.06402337, 0.063227  , 0.04111247, ..., 0.06348661, 0.        ,\n",
       "        0.03325033],\n",
       "       [0.03098801, 0.03330023, 0.01054314, ..., 0.05673382, 0.03325033,\n",
       "        0.        ]])"
      ]
     },
     "execution_count": 104,
     "metadata": {},
     "output_type": "execute_result"
    }
   ],
   "source": [
    "dist_mat1"
   ]
  },
  {
   "cell_type": "code",
   "execution_count": 105,
   "id": "96a1be19",
   "metadata": {
    "execution": {
     "iopub.execute_input": "2023-10-12T01:44:17.695775Z",
     "iopub.status.busy": "2023-10-12T01:44:17.694812Z",
     "iopub.status.idle": "2023-10-12T01:44:17.701537Z",
     "shell.execute_reply": "2023-10-12T01:44:17.700560Z"
    },
    "papermill": {
     "duration": 0.045126,
     "end_time": "2023-10-12T01:44:17.703460",
     "exception": false,
     "start_time": "2023-10-12T01:44:17.658334",
     "status": "completed"
    },
    "tags": []
   },
   "outputs": [
    {
     "data": {
      "text/plain": [
       "array([[0.        , 0.04346744, 0.05747849, ..., 0.04128954, 0.07470323,\n",
       "        0.02619253],\n",
       "       [0.04346744, 0.        , 0.01991828, ..., 0.00223744, 0.0933472 ,\n",
       "        0.03756751],\n",
       "       [0.05747849, 0.01991828, 0.        , ..., 0.02165427, 0.08999858,\n",
       "        0.05690105],\n",
       "       ...,\n",
       "       [0.04128954, 0.00223744, 0.02165427, ..., 0.        , 0.09241201,\n",
       "        0.03553363],\n",
       "       [0.07470323, 0.0933472 , 0.08999858, ..., 0.09241201, 0.        ,\n",
       "        0.09975346],\n",
       "       [0.02619253, 0.03756751, 0.05690105, ..., 0.03553363, 0.09975346,\n",
       "        0.        ]])"
      ]
     },
     "execution_count": 105,
     "metadata": {},
     "output_type": "execute_result"
    }
   ],
   "source": [
    "dist_mat2"
   ]
  },
  {
   "cell_type": "code",
   "execution_count": 106,
   "id": "91dd61e1",
   "metadata": {
    "execution": {
     "iopub.execute_input": "2023-10-12T01:44:17.778717Z",
     "iopub.status.busy": "2023-10-12T01:44:17.777893Z",
     "iopub.status.idle": "2023-10-12T01:44:17.784498Z",
     "shell.execute_reply": "2023-10-12T01:44:17.783646Z"
    },
    "papermill": {
     "duration": 0.046568,
     "end_time": "2023-10-12T01:44:17.786731",
     "exception": false,
     "start_time": "2023-10-12T01:44:17.740163",
     "status": "completed"
    },
    "tags": []
   },
   "outputs": [
    {
     "data": {
      "text/plain": [
       "array([[0.04689678, 0.00868653, 0.0259848 , ..., 0.00916364, 0.10154612,\n",
       "        0.03573833],\n",
       "       [0.02347808, 0.02021572, 0.03470527, ..., 0.0181176 , 0.0804724 ,\n",
       "        0.0266643 ],\n",
       "       [0.05690022, 0.01795171, 0.00259012, ..., 0.01980568, 0.09173823,\n",
       "        0.05524934],\n",
       "       ...,\n",
       "       [0.10592788, 0.06286642, 0.05041773, ..., 0.06510143, 0.13485083,\n",
       "        0.09790865],\n",
       "       [0.08027493, 0.05663476, 0.03854461, ..., 0.05774541, 0.07565489,\n",
       "        0.0894618 ],\n",
       "       [0.05462451, 0.02338482, 0.00838193, ..., 0.02453235, 0.08176729,\n",
       "        0.05788741]])"
      ]
     },
     "execution_count": 106,
     "metadata": {},
     "output_type": "execute_result"
    }
   ],
   "source": [
    "dist_mat3"
   ]
  },
  {
   "cell_type": "code",
   "execution_count": 107,
   "id": "3b7d5246",
   "metadata": {
    "execution": {
     "iopub.execute_input": "2023-10-12T01:44:17.859530Z",
     "iopub.status.busy": "2023-10-12T01:44:17.858610Z",
     "iopub.status.idle": "2023-10-12T01:44:17.864205Z",
     "shell.execute_reply": "2023-10-12T01:44:17.863360Z"
    },
    "papermill": {
     "duration": 0.043561,
     "end_time": "2023-10-12T01:44:17.866073",
     "exception": false,
     "start_time": "2023-10-12T01:44:17.822512",
     "status": "completed"
    },
    "tags": []
   },
   "outputs": [
    {
     "data": {
      "text/plain": [
       "(200, 200)"
      ]
     },
     "execution_count": 107,
     "metadata": {},
     "output_type": "execute_result"
    }
   ],
   "source": [
    "dist_mat3.shape"
   ]
  },
  {
   "cell_type": "code",
   "execution_count": 108,
   "id": "3a249c8a",
   "metadata": {
    "execution": {
     "iopub.execute_input": "2023-10-12T01:44:17.935517Z",
     "iopub.status.busy": "2023-10-12T01:44:17.935100Z",
     "iopub.status.idle": "2023-10-12T01:44:17.942419Z",
     "shell.execute_reply": "2023-10-12T01:44:17.941569Z"
    },
    "papermill": {
     "duration": 0.043335,
     "end_time": "2023-10-12T01:44:17.944268",
     "exception": false,
     "start_time": "2023-10-12T01:44:17.900933",
     "status": "completed"
    },
    "tags": []
   },
   "outputs": [],
   "source": [
    "from scipy.spatial.distance import squareform\n",
    "\n",
    "df_temp = pd.DataFrame({'cluster':range(200)})\n",
    "\n",
    "\n",
    "\n",
    "pd_pickup = (pd.DataFrame(\n",
    "    dist_mat1,\n",
    "    columns = [df_temp.cluster],\n",
    "    index = [df_temp.cluster]))"
   ]
  },
  {
   "cell_type": "code",
   "execution_count": 109,
   "id": "bb89d98b",
   "metadata": {
    "execution": {
     "iopub.execute_input": "2023-10-12T01:44:18.013463Z",
     "iopub.status.busy": "2023-10-12T01:44:18.012599Z",
     "iopub.status.idle": "2023-10-12T01:44:18.046942Z",
     "shell.execute_reply": "2023-10-12T01:44:18.046113Z"
    },
    "papermill": {
     "duration": 0.070729,
     "end_time": "2023-10-12T01:44:18.048818",
     "exception": false,
     "start_time": "2023-10-12T01:44:17.978089",
     "status": "completed"
    },
    "tags": []
   },
   "outputs": [
    {
     "data": {
      "text/html": [
       "<div>\n",
       "<style scoped>\n",
       "    .dataframe tbody tr th:only-of-type {\n",
       "        vertical-align: middle;\n",
       "    }\n",
       "\n",
       "    .dataframe tbody tr th {\n",
       "        vertical-align: top;\n",
       "    }\n",
       "\n",
       "    .dataframe thead tr th {\n",
       "        text-align: left;\n",
       "    }\n",
       "\n",
       "    .dataframe thead tr:last-of-type th {\n",
       "        text-align: right;\n",
       "    }\n",
       "</style>\n",
       "<table border=\"1\" class=\"dataframe\">\n",
       "  <thead>\n",
       "    <tr>\n",
       "      <th>cluster</th>\n",
       "      <th>0</th>\n",
       "      <th>1</th>\n",
       "      <th>2</th>\n",
       "      <th>3</th>\n",
       "      <th>4</th>\n",
       "      <th>5</th>\n",
       "      <th>6</th>\n",
       "      <th>7</th>\n",
       "      <th>8</th>\n",
       "      <th>9</th>\n",
       "      <th>...</th>\n",
       "      <th>190</th>\n",
       "      <th>191</th>\n",
       "      <th>192</th>\n",
       "      <th>193</th>\n",
       "      <th>194</th>\n",
       "      <th>195</th>\n",
       "      <th>196</th>\n",
       "      <th>197</th>\n",
       "      <th>198</th>\n",
       "      <th>199</th>\n",
       "    </tr>\n",
       "    <tr>\n",
       "      <th>cluster</th>\n",
       "      <th></th>\n",
       "      <th></th>\n",
       "      <th></th>\n",
       "      <th></th>\n",
       "      <th></th>\n",
       "      <th></th>\n",
       "      <th></th>\n",
       "      <th></th>\n",
       "      <th></th>\n",
       "      <th></th>\n",
       "      <th></th>\n",
       "      <th></th>\n",
       "      <th></th>\n",
       "      <th></th>\n",
       "      <th></th>\n",
       "      <th></th>\n",
       "      <th></th>\n",
       "      <th></th>\n",
       "      <th></th>\n",
       "      <th></th>\n",
       "      <th></th>\n",
       "    </tr>\n",
       "  </thead>\n",
       "  <tbody>\n",
       "    <tr>\n",
       "      <th>0</th>\n",
       "      <td>0.000000</td>\n",
       "      <td>0.025081</td>\n",
       "      <td>0.023611</td>\n",
       "      <td>0.027398</td>\n",
       "      <td>0.032864</td>\n",
       "      <td>0.023102</td>\n",
       "      <td>0.060685</td>\n",
       "      <td>0.068817</td>\n",
       "      <td>0.031407</td>\n",
       "      <td>662.723384</td>\n",
       "      <td>...</td>\n",
       "      <td>0.036158</td>\n",
       "      <td>0.022865</td>\n",
       "      <td>0.006147</td>\n",
       "      <td>0.025606</td>\n",
       "      <td>0.016545</td>\n",
       "      <td>0.017877</td>\n",
       "      <td>0.055234</td>\n",
       "      <td>0.062270</td>\n",
       "      <td>0.064023</td>\n",
       "      <td>0.030988</td>\n",
       "    </tr>\n",
       "    <tr>\n",
       "      <th>1</th>\n",
       "      <td>0.025081</td>\n",
       "      <td>0.000000</td>\n",
       "      <td>0.033842</td>\n",
       "      <td>0.035295</td>\n",
       "      <td>0.012156</td>\n",
       "      <td>0.027895</td>\n",
       "      <td>0.042473</td>\n",
       "      <td>0.050828</td>\n",
       "      <td>0.036007</td>\n",
       "      <td>662.728305</td>\n",
       "      <td>...</td>\n",
       "      <td>0.014369</td>\n",
       "      <td>0.013436</td>\n",
       "      <td>0.019478</td>\n",
       "      <td>0.004319</td>\n",
       "      <td>0.027208</td>\n",
       "      <td>0.041211</td>\n",
       "      <td>0.038320</td>\n",
       "      <td>0.082452</td>\n",
       "      <td>0.063227</td>\n",
       "      <td>0.033300</td>\n",
       "    </tr>\n",
       "    <tr>\n",
       "      <th>2</th>\n",
       "      <td>0.023611</td>\n",
       "      <td>0.033842</td>\n",
       "      <td>0.000000</td>\n",
       "      <td>0.004111</td>\n",
       "      <td>0.045651</td>\n",
       "      <td>0.007080</td>\n",
       "      <td>0.076035</td>\n",
       "      <td>0.084414</td>\n",
       "      <td>0.009050</td>\n",
       "      <td>662.746684</td>\n",
       "      <td>...</td>\n",
       "      <td>0.048174</td>\n",
       "      <td>0.040277</td>\n",
       "      <td>0.021928</td>\n",
       "      <td>0.031112</td>\n",
       "      <td>0.039894</td>\n",
       "      <td>0.020943</td>\n",
       "      <td>0.071457</td>\n",
       "      <td>0.050132</td>\n",
       "      <td>0.041112</td>\n",
       "      <td>0.010543</td>\n",
       "    </tr>\n",
       "    <tr>\n",
       "      <th>3</th>\n",
       "      <td>0.027398</td>\n",
       "      <td>0.035295</td>\n",
       "      <td>0.004111</td>\n",
       "      <td>0.000000</td>\n",
       "      <td>0.047324</td>\n",
       "      <td>0.007412</td>\n",
       "      <td>0.077732</td>\n",
       "      <td>0.086100</td>\n",
       "      <td>0.005076</td>\n",
       "      <td>662.750646</td>\n",
       "      <td>...</td>\n",
       "      <td>0.049660</td>\n",
       "      <td>0.042814</td>\n",
       "      <td>0.025228</td>\n",
       "      <td>0.032188</td>\n",
       "      <td>0.043496</td>\n",
       "      <td>0.024799</td>\n",
       "      <td>0.073353</td>\n",
       "      <td>0.050642</td>\n",
       "      <td>0.037038</td>\n",
       "      <td>0.007249</td>\n",
       "    </tr>\n",
       "    <tr>\n",
       "      <th>4</th>\n",
       "      <td>0.032864</td>\n",
       "      <td>0.012156</td>\n",
       "      <td>0.045651</td>\n",
       "      <td>0.047324</td>\n",
       "      <td>0.000000</td>\n",
       "      <td>0.039951</td>\n",
       "      <td>0.030413</td>\n",
       "      <td>0.038787</td>\n",
       "      <td>0.048160</td>\n",
       "      <td>662.719149</td>\n",
       "      <td>...</td>\n",
       "      <td>0.003377</td>\n",
       "      <td>0.011872</td>\n",
       "      <td>0.028426</td>\n",
       "      <td>0.015986</td>\n",
       "      <td>0.028457</td>\n",
       "      <td>0.050367</td>\n",
       "      <td>0.026164</td>\n",
       "      <td>0.093242</td>\n",
       "      <td>0.074751</td>\n",
       "      <td>0.045450</td>\n",
       "    </tr>\n",
       "    <tr>\n",
       "      <th>...</th>\n",
       "      <td>...</td>\n",
       "      <td>...</td>\n",
       "      <td>...</td>\n",
       "      <td>...</td>\n",
       "      <td>...</td>\n",
       "      <td>...</td>\n",
       "      <td>...</td>\n",
       "      <td>...</td>\n",
       "      <td>...</td>\n",
       "      <td>...</td>\n",
       "      <td>...</td>\n",
       "      <td>...</td>\n",
       "      <td>...</td>\n",
       "      <td>...</td>\n",
       "      <td>...</td>\n",
       "      <td>...</td>\n",
       "      <td>...</td>\n",
       "      <td>...</td>\n",
       "      <td>...</td>\n",
       "      <td>...</td>\n",
       "      <td>...</td>\n",
       "    </tr>\n",
       "    <tr>\n",
       "      <th>195</th>\n",
       "      <td>0.017877</td>\n",
       "      <td>0.041211</td>\n",
       "      <td>0.020943</td>\n",
       "      <td>0.024799</td>\n",
       "      <td>0.050367</td>\n",
       "      <td>0.025590</td>\n",
       "      <td>0.078559</td>\n",
       "      <td>0.086675</td>\n",
       "      <td>0.029874</td>\n",
       "      <td>662.730075</td>\n",
       "      <td>...</td>\n",
       "      <td>0.053581</td>\n",
       "      <td>0.040740</td>\n",
       "      <td>0.022023</td>\n",
       "      <td>0.040558</td>\n",
       "      <td>0.031758</td>\n",
       "      <td>0.000000</td>\n",
       "      <td>0.073083</td>\n",
       "      <td>0.044737</td>\n",
       "      <td>0.060252</td>\n",
       "      <td>0.031429</td>\n",
       "    </tr>\n",
       "    <tr>\n",
       "      <th>196</th>\n",
       "      <td>0.055234</td>\n",
       "      <td>0.038320</td>\n",
       "      <td>0.071457</td>\n",
       "      <td>0.073353</td>\n",
       "      <td>0.026164</td>\n",
       "      <td>0.066021</td>\n",
       "      <td>0.006012</td>\n",
       "      <td>0.013605</td>\n",
       "      <td>0.074320</td>\n",
       "      <td>662.699405</td>\n",
       "      <td>...</td>\n",
       "      <td>0.024382</td>\n",
       "      <td>0.032513</td>\n",
       "      <td>0.052263</td>\n",
       "      <td>0.042051</td>\n",
       "      <td>0.044262</td>\n",
       "      <td>0.073083</td>\n",
       "      <td>0.000000</td>\n",
       "      <td>0.117356</td>\n",
       "      <td>0.100075</td>\n",
       "      <td>0.071609</td>\n",
       "    </tr>\n",
       "    <tr>\n",
       "      <th>197</th>\n",
       "      <td>0.062270</td>\n",
       "      <td>0.082452</td>\n",
       "      <td>0.050132</td>\n",
       "      <td>0.050642</td>\n",
       "      <td>0.093242</td>\n",
       "      <td>0.057163</td>\n",
       "      <td>0.122634</td>\n",
       "      <td>0.130878</td>\n",
       "      <td>0.053310</td>\n",
       "      <td>662.755919</td>\n",
       "      <td>...</td>\n",
       "      <td>0.096204</td>\n",
       "      <td>0.084844</td>\n",
       "      <td>0.065197</td>\n",
       "      <td>0.080461</td>\n",
       "      <td>0.076292</td>\n",
       "      <td>0.044737</td>\n",
       "      <td>0.117356</td>\n",
       "      <td>0.000000</td>\n",
       "      <td>0.063487</td>\n",
       "      <td>0.056734</td>\n",
       "    </tr>\n",
       "    <tr>\n",
       "      <th>198</th>\n",
       "      <td>0.064023</td>\n",
       "      <td>0.063227</td>\n",
       "      <td>0.041112</td>\n",
       "      <td>0.037038</td>\n",
       "      <td>0.074751</td>\n",
       "      <td>0.041134</td>\n",
       "      <td>0.103030</td>\n",
       "      <td>0.110917</td>\n",
       "      <td>0.032637</td>\n",
       "      <td>662.787375</td>\n",
       "      <td>...</td>\n",
       "      <td>0.075871</td>\n",
       "      <td>0.074659</td>\n",
       "      <td>0.060765</td>\n",
       "      <td>0.059004</td>\n",
       "      <td>0.079381</td>\n",
       "      <td>0.060252</td>\n",
       "      <td>0.100075</td>\n",
       "      <td>0.063487</td>\n",
       "      <td>0.000000</td>\n",
       "      <td>0.033250</td>\n",
       "    </tr>\n",
       "    <tr>\n",
       "      <th>199</th>\n",
       "      <td>0.030988</td>\n",
       "      <td>0.033300</td>\n",
       "      <td>0.010543</td>\n",
       "      <td>0.007249</td>\n",
       "      <td>0.045450</td>\n",
       "      <td>0.007912</td>\n",
       "      <td>0.075584</td>\n",
       "      <td>0.083884</td>\n",
       "      <td>0.003466</td>\n",
       "      <td>662.754161</td>\n",
       "      <td>...</td>\n",
       "      <td>0.047405</td>\n",
       "      <td>0.042764</td>\n",
       "      <td>0.027516</td>\n",
       "      <td>0.029632</td>\n",
       "      <td>0.046132</td>\n",
       "      <td>0.031429</td>\n",
       "      <td>0.071609</td>\n",
       "      <td>0.056734</td>\n",
       "      <td>0.033250</td>\n",
       "      <td>0.000000</td>\n",
       "    </tr>\n",
       "  </tbody>\n",
       "</table>\n",
       "<p>200 rows × 200 columns</p>\n",
       "</div>"
      ],
      "text/plain": [
       "cluster       0         1         2         3         4         5         6    \\\n",
       "cluster                                                                         \n",
       "0        0.000000  0.025081  0.023611  0.027398  0.032864  0.023102  0.060685   \n",
       "1        0.025081  0.000000  0.033842  0.035295  0.012156  0.027895  0.042473   \n",
       "2        0.023611  0.033842  0.000000  0.004111  0.045651  0.007080  0.076035   \n",
       "3        0.027398  0.035295  0.004111  0.000000  0.047324  0.007412  0.077732   \n",
       "4        0.032864  0.012156  0.045651  0.047324  0.000000  0.039951  0.030413   \n",
       "...           ...       ...       ...       ...       ...       ...       ...   \n",
       "195      0.017877  0.041211  0.020943  0.024799  0.050367  0.025590  0.078559   \n",
       "196      0.055234  0.038320  0.071457  0.073353  0.026164  0.066021  0.006012   \n",
       "197      0.062270  0.082452  0.050132  0.050642  0.093242  0.057163  0.122634   \n",
       "198      0.064023  0.063227  0.041112  0.037038  0.074751  0.041134  0.103030   \n",
       "199      0.030988  0.033300  0.010543  0.007249  0.045450  0.007912  0.075584   \n",
       "\n",
       "cluster       7         8           9    ...       190       191       192  \\\n",
       "cluster                                  ...                                 \n",
       "0        0.068817  0.031407  662.723384  ...  0.036158  0.022865  0.006147   \n",
       "1        0.050828  0.036007  662.728305  ...  0.014369  0.013436  0.019478   \n",
       "2        0.084414  0.009050  662.746684  ...  0.048174  0.040277  0.021928   \n",
       "3        0.086100  0.005076  662.750646  ...  0.049660  0.042814  0.025228   \n",
       "4        0.038787  0.048160  662.719149  ...  0.003377  0.011872  0.028426   \n",
       "...           ...       ...         ...  ...       ...       ...       ...   \n",
       "195      0.086675  0.029874  662.730075  ...  0.053581  0.040740  0.022023   \n",
       "196      0.013605  0.074320  662.699405  ...  0.024382  0.032513  0.052263   \n",
       "197      0.130878  0.053310  662.755919  ...  0.096204  0.084844  0.065197   \n",
       "198      0.110917  0.032637  662.787375  ...  0.075871  0.074659  0.060765   \n",
       "199      0.083884  0.003466  662.754161  ...  0.047405  0.042764  0.027516   \n",
       "\n",
       "cluster       193       194       195       196       197       198       199  \n",
       "cluster                                                                        \n",
       "0        0.025606  0.016545  0.017877  0.055234  0.062270  0.064023  0.030988  \n",
       "1        0.004319  0.027208  0.041211  0.038320  0.082452  0.063227  0.033300  \n",
       "2        0.031112  0.039894  0.020943  0.071457  0.050132  0.041112  0.010543  \n",
       "3        0.032188  0.043496  0.024799  0.073353  0.050642  0.037038  0.007249  \n",
       "4        0.015986  0.028457  0.050367  0.026164  0.093242  0.074751  0.045450  \n",
       "...           ...       ...       ...       ...       ...       ...       ...  \n",
       "195      0.040558  0.031758  0.000000  0.073083  0.044737  0.060252  0.031429  \n",
       "196      0.042051  0.044262  0.073083  0.000000  0.117356  0.100075  0.071609  \n",
       "197      0.080461  0.076292  0.044737  0.117356  0.000000  0.063487  0.056734  \n",
       "198      0.059004  0.079381  0.060252  0.100075  0.063487  0.000000  0.033250  \n",
       "199      0.029632  0.046132  0.031429  0.071609  0.056734  0.033250  0.000000  \n",
       "\n",
       "[200 rows x 200 columns]"
      ]
     },
     "execution_count": 109,
     "metadata": {},
     "output_type": "execute_result"
    }
   ],
   "source": [
    "pd_pickup"
   ]
  },
  {
   "cell_type": "code",
   "execution_count": 110,
   "id": "376ec28a",
   "metadata": {
    "execution": {
     "iopub.execute_input": "2023-10-12T01:44:18.126536Z",
     "iopub.status.busy": "2023-10-12T01:44:18.126182Z",
     "iopub.status.idle": "2023-10-12T01:44:18.134992Z",
     "shell.execute_reply": "2023-10-12T01:44:18.134202Z"
    },
    "papermill": {
     "duration": 0.049883,
     "end_time": "2023-10-12T01:44:18.136941",
     "exception": false,
     "start_time": "2023-10-12T01:44:18.087058",
     "status": "completed"
    },
    "tags": []
   },
   "outputs": [],
   "source": [
    "s1=pd_pickup.idxmax()\n",
    "s2=pd_pickup.max()"
   ]
  },
  {
   "cell_type": "code",
   "execution_count": 111,
   "id": "2457439e",
   "metadata": {
    "execution": {
     "iopub.execute_input": "2023-10-12T01:44:18.212908Z",
     "iopub.status.busy": "2023-10-12T01:44:18.212154Z",
     "iopub.status.idle": "2023-10-12T01:44:18.218110Z",
     "shell.execute_reply": "2023-10-12T01:44:18.217289Z"
    },
    "papermill": {
     "duration": 0.046184,
     "end_time": "2023-10-12T01:44:18.220030",
     "exception": false,
     "start_time": "2023-10-12T01:44:18.173846",
     "status": "completed"
    },
    "tags": []
   },
   "outputs": [],
   "source": [
    "pd_pickup1 = pd.concat([s1,s2],axis=1)\n"
   ]
  },
  {
   "cell_type": "code",
   "execution_count": 112,
   "id": "0e7509c1",
   "metadata": {
    "execution": {
     "iopub.execute_input": "2023-10-12T01:44:18.296701Z",
     "iopub.status.busy": "2023-10-12T01:44:18.296013Z",
     "iopub.status.idle": "2023-10-12T01:44:18.310888Z",
     "shell.execute_reply": "2023-10-12T01:44:18.309982Z"
    },
    "papermill": {
     "duration": 0.055692,
     "end_time": "2023-10-12T01:44:18.313049",
     "exception": false,
     "start_time": "2023-10-12T01:44:18.257357",
     "status": "completed"
    },
    "tags": []
   },
   "outputs": [
    {
     "data": {
      "text/html": [
       "<div>\n",
       "<style scoped>\n",
       "    .dataframe tbody tr th:only-of-type {\n",
       "        vertical-align: middle;\n",
       "    }\n",
       "\n",
       "    .dataframe tbody tr th {\n",
       "        vertical-align: top;\n",
       "    }\n",
       "\n",
       "    .dataframe thead th {\n",
       "        text-align: right;\n",
       "    }\n",
       "</style>\n",
       "<table border=\"1\" class=\"dataframe\">\n",
       "  <thead>\n",
       "    <tr style=\"text-align: right;\">\n",
       "      <th></th>\n",
       "      <th>0</th>\n",
       "      <th>1</th>\n",
       "    </tr>\n",
       "    <tr>\n",
       "      <th>cluster</th>\n",
       "      <th></th>\n",
       "      <th></th>\n",
       "    </tr>\n",
       "  </thead>\n",
       "  <tbody>\n",
       "    <tr>\n",
       "      <th>72</th>\n",
       "      <td>(103,)</td>\n",
       "      <td>6527.596847</td>\n",
       "    </tr>\n",
       "    <tr>\n",
       "      <th>103</th>\n",
       "      <td>(72,)</td>\n",
       "      <td>6527.596847</td>\n",
       "    </tr>\n",
       "    <tr>\n",
       "      <th>74</th>\n",
       "      <td>(72,)</td>\n",
       "      <td>6502.902118</td>\n",
       "    </tr>\n",
       "    <tr>\n",
       "      <th>109</th>\n",
       "      <td>(72,)</td>\n",
       "      <td>6267.815214</td>\n",
       "    </tr>\n",
       "    <tr>\n",
       "      <th>135</th>\n",
       "      <td>(74,)</td>\n",
       "      <td>5809.449290</td>\n",
       "    </tr>\n",
       "  </tbody>\n",
       "</table>\n",
       "</div>"
      ],
      "text/plain": [
       "              0            1\n",
       "cluster                     \n",
       "72       (103,)  6527.596847\n",
       "103       (72,)  6527.596847\n",
       "74        (72,)  6502.902118\n",
       "109       (72,)  6267.815214\n",
       "135       (74,)  5809.449290"
      ]
     },
     "execution_count": 112,
     "metadata": {},
     "output_type": "execute_result"
    }
   ],
   "source": [
    "pd_pickup1.nlargest(5,[1])"
   ]
  },
  {
   "cell_type": "code",
   "execution_count": 113,
   "id": "1ed180bd",
   "metadata": {
    "execution": {
     "iopub.execute_input": "2023-10-12T01:44:18.391207Z",
     "iopub.status.busy": "2023-10-12T01:44:18.390715Z",
     "iopub.status.idle": "2023-10-12T01:44:18.394996Z",
     "shell.execute_reply": "2023-10-12T01:44:18.394110Z"
    },
    "papermill": {
     "duration": 0.044491,
     "end_time": "2023-10-12T01:44:18.396777",
     "exception": false,
     "start_time": "2023-10-12T01:44:18.352286",
     "status": "completed"
    },
    "tags": []
   },
   "outputs": [],
   "source": [
    "keys = ['cluster1','cluster2','Distance']"
   ]
  },
  {
   "cell_type": "code",
   "execution_count": 114,
   "id": "581565e9",
   "metadata": {
    "execution": {
     "iopub.execute_input": "2023-10-12T01:44:18.468281Z",
     "iopub.status.busy": "2023-10-12T01:44:18.467443Z",
     "iopub.status.idle": "2023-10-12T01:44:18.474931Z",
     "shell.execute_reply": "2023-10-12T01:44:18.474106Z"
    },
    "papermill": {
     "duration": 0.045428,
     "end_time": "2023-10-12T01:44:18.477415",
     "exception": false,
     "start_time": "2023-10-12T01:44:18.431987",
     "status": "completed"
    },
    "tags": []
   },
   "outputs": [
    {
     "name": "stdout",
     "output_type": "stream",
     "text": [
      "╒════════╤════════╤═════════╕\n",
      "│        │ 0      │       1 │\n",
      "╞════════╪════════╪═════════╡\n",
      "│ (72,)  │ (103,) │ 6527.6  │\n",
      "├────────┼────────┼─────────┤\n",
      "│ (103,) │ (72,)  │ 6527.6  │\n",
      "├────────┼────────┼─────────┤\n",
      "│ (74,)  │ (72,)  │ 6502.9  │\n",
      "├────────┼────────┼─────────┤\n",
      "│ (109,) │ (72,)  │ 6267.82 │\n",
      "├────────┼────────┼─────────┤\n",
      "│ (135,) │ (74,)  │ 5809.45 │\n",
      "╘════════╧════════╧═════════╛\n"
     ]
    }
   ],
   "source": [
    "print(tabulate(pd_pickup1.nlargest(5,[1]), headers = 'keys', tablefmt = 'fancy_grid'))"
   ]
  },
  {
   "cell_type": "markdown",
   "id": "6ff86d83",
   "metadata": {
    "papermill": {
     "duration": 0.034655,
     "end_time": "2023-10-12T01:44:18.547331",
     "exception": false,
     "start_time": "2023-10-12T01:44:18.512676",
     "status": "completed"
    },
    "tags": []
   },
   "source": [
    "# Time"
   ]
  },
  {
   "cell_type": "code",
   "execution_count": null,
   "id": "5c0ff34d",
   "metadata": {
    "papermill": {
     "duration": 0.035734,
     "end_time": "2023-10-12T01:44:18.619719",
     "exception": false,
     "start_time": "2023-10-12T01:44:18.583985",
     "status": "completed"
    },
    "tags": []
   },
   "outputs": [],
   "source": []
  },
  {
   "cell_type": "markdown",
   "id": "705152ed",
   "metadata": {
    "papermill": {
     "duration": 0.036054,
     "end_time": "2023-10-12T01:44:18.692707",
     "exception": false,
     "start_time": "2023-10-12T01:44:18.656653",
     "status": "completed"
    },
    "tags": []
   },
   "source": [
    "MODEL"
   ]
  },
  {
   "cell_type": "code",
   "execution_count": null,
   "id": "b7d20155",
   "metadata": {
    "papermill": {
     "duration": 0.036499,
     "end_time": "2023-10-12T01:44:18.765355",
     "exception": false,
     "start_time": "2023-10-12T01:44:18.728856",
     "status": "completed"
    },
    "tags": []
   },
   "outputs": [],
   "source": []
  },
  {
   "cell_type": "code",
   "execution_count": 115,
   "id": "2689244d",
   "metadata": {
    "execution": {
     "iopub.execute_input": "2023-10-12T01:44:18.841081Z",
     "iopub.status.busy": "2023-10-12T01:44:18.840253Z",
     "iopub.status.idle": "2023-10-12T01:44:18.843992Z",
     "shell.execute_reply": "2023-10-12T01:44:18.843225Z"
    },
    "papermill": {
     "duration": 0.042246,
     "end_time": "2023-10-12T01:44:18.845645",
     "exception": false,
     "start_time": "2023-10-12T01:44:18.803399",
     "status": "completed"
    },
    "tags": []
   },
   "outputs": [],
   "source": [
    "# x_train = df.iloc[:,df.columns!='fare_amount']\n",
    "# y_train = df['fare_amount'].values\n",
    "# x_test = df_test"
   ]
  },
  {
   "cell_type": "code",
   "execution_count": 116,
   "id": "ee46e609",
   "metadata": {
    "execution": {
     "iopub.execute_input": "2023-10-12T01:44:18.917804Z",
     "iopub.status.busy": "2023-10-12T01:44:18.916812Z",
     "iopub.status.idle": "2023-10-12T01:44:18.921302Z",
     "shell.execute_reply": "2023-10-12T01:44:18.920539Z"
    },
    "papermill": {
     "duration": 0.042725,
     "end_time": "2023-10-12T01:44:18.922922",
     "exception": false,
     "start_time": "2023-10-12T01:44:18.880197",
     "status": "completed"
    },
    "tags": []
   },
   "outputs": [],
   "source": [
    "# x_train.shape"
   ]
  },
  {
   "cell_type": "code",
   "execution_count": 117,
   "id": "7742ceeb",
   "metadata": {
    "execution": {
     "iopub.execute_input": "2023-10-12T01:44:18.994497Z",
     "iopub.status.busy": "2023-10-12T01:44:18.993568Z",
     "iopub.status.idle": "2023-10-12T01:44:18.997739Z",
     "shell.execute_reply": "2023-10-12T01:44:18.996970Z"
    },
    "papermill": {
     "duration": 0.042163,
     "end_time": "2023-10-12T01:44:18.999343",
     "exception": false,
     "start_time": "2023-10-12T01:44:18.957180",
     "status": "completed"
    },
    "tags": []
   },
   "outputs": [],
   "source": [
    "# x_train = x_train.drop(['key','pickup_datetime'], axis = 1)\n",
    "# x_test = x_test.drop(['key','pickup_datetime'], axis = 1)"
   ]
  },
  {
   "cell_type": "code",
   "execution_count": 118,
   "id": "f30b0eca",
   "metadata": {
    "execution": {
     "iopub.execute_input": "2023-10-12T01:44:19.069542Z",
     "iopub.status.busy": "2023-10-12T01:44:19.069150Z",
     "iopub.status.idle": "2023-10-12T01:44:19.072870Z",
     "shell.execute_reply": "2023-10-12T01:44:19.072042Z"
    },
    "papermill": {
     "duration": 0.04138,
     "end_time": "2023-10-12T01:44:19.074609",
     "exception": false,
     "start_time": "2023-10-12T01:44:19.033229",
     "status": "completed"
    },
    "tags": []
   },
   "outputs": [],
   "source": [
    "# x_train.info()"
   ]
  },
  {
   "cell_type": "code",
   "execution_count": 119,
   "id": "309e23ec",
   "metadata": {
    "execution": {
     "iopub.execute_input": "2023-10-12T01:44:19.147261Z",
     "iopub.status.busy": "2023-10-12T01:44:19.146893Z",
     "iopub.status.idle": "2023-10-12T01:44:19.150540Z",
     "shell.execute_reply": "2023-10-12T01:44:19.149727Z"
    },
    "papermill": {
     "duration": 0.042372,
     "end_time": "2023-10-12T01:44:19.152323",
     "exception": false,
     "start_time": "2023-10-12T01:44:19.109951",
     "status": "completed"
    },
    "tags": []
   },
   "outputs": [],
   "source": [
    "# from sklearn.linear_model import LinearRegression\n",
    "\n",
    "# reg = LinearRegression().fit(x_train, y_train)\n",
    "\n",
    "# reg_pred = reg.predict(x_test)"
   ]
  },
  {
   "cell_type": "code",
   "execution_count": 120,
   "id": "ee8888e5",
   "metadata": {
    "execution": {
     "iopub.execute_input": "2023-10-12T01:44:19.225876Z",
     "iopub.status.busy": "2023-10-12T01:44:19.225051Z",
     "iopub.status.idle": "2023-10-12T01:44:19.229005Z",
     "shell.execute_reply": "2023-10-12T01:44:19.228203Z"
    },
    "papermill": {
     "duration": 0.042765,
     "end_time": "2023-10-12T01:44:19.230653",
     "exception": false,
     "start_time": "2023-10-12T01:44:19.187888",
     "status": "completed"
    },
    "tags": []
   },
   "outputs": [],
   "source": [
    "# submission = pd.read_csv('../input/new-york-city-taxi-fare-prediction/sample_submission.csv')\n",
    "# submission['fare_amount'] = reg_pred\n",
    "# submission.to_csv('submission_1.csv', index=False)\n",
    "# submission.head(20)"
   ]
  },
  {
   "cell_type": "code",
   "execution_count": 121,
   "id": "5dd411bf",
   "metadata": {
    "execution": {
     "iopub.execute_input": "2023-10-12T01:44:19.304287Z",
     "iopub.status.busy": "2023-10-12T01:44:19.303398Z",
     "iopub.status.idle": "2023-10-12T01:44:19.308769Z",
     "shell.execute_reply": "2023-10-12T01:44:19.307941Z"
    },
    "papermill": {
     "duration": 0.044505,
     "end_time": "2023-10-12T01:44:19.310533",
     "exception": false,
     "start_time": "2023-10-12T01:44:19.266028",
     "status": "completed"
    },
    "tags": []
   },
   "outputs": [],
   "source": [
    "# from sklearn.ensemble import RandomForestRegressor\n",
    "# rf = RandomForestRegressor()\n",
    "# rf.fit(x_train, y_train)\n",
    "# rf_predict = rf.predict(x_test)"
   ]
  },
  {
   "cell_type": "code",
   "execution_count": 122,
   "id": "7d89195d",
   "metadata": {
    "execution": {
     "iopub.execute_input": "2023-10-12T01:44:19.381476Z",
     "iopub.status.busy": "2023-10-12T01:44:19.380745Z",
     "iopub.status.idle": "2023-10-12T01:44:19.384752Z",
     "shell.execute_reply": "2023-10-12T01:44:19.383892Z"
    },
    "papermill": {
     "duration": 0.041227,
     "end_time": "2023-10-12T01:44:19.386479",
     "exception": false,
     "start_time": "2023-10-12T01:44:19.345252",
     "status": "completed"
    },
    "tags": []
   },
   "outputs": [],
   "source": [
    "# submission = pd.read_csv('../input/new-york-city-taxi-fare-prediction/sample_submission.csv')\n",
    "# submission['fare_amount'] = rf_predict\n",
    "# submission.to_csv('submission_2.csv', index=False)\n",
    "# submission.head(20)\n"
   ]
  }
 ],
 "metadata": {
  "kernelspec": {
   "display_name": "Python 3",
   "language": "python",
   "name": "python3"
  },
  "language_info": {
   "codemirror_mode": {
    "name": "ipython",
    "version": 3
   },
   "file_extension": ".py",
   "mimetype": "text/x-python",
   "name": "python",
   "nbconvert_exporter": "python",
   "pygments_lexer": "ipython3",
   "version": "3.7.12"
  },
  "papermill": {
   "default_parameters": {},
   "duration": 635.771967,
   "end_time": "2023-10-12T01:44:20.243764",
   "environment_variables": {},
   "exception": null,
   "input_path": "__notebook__.ipynb",
   "output_path": "__notebook__.ipynb",
   "parameters": {},
   "start_time": "2023-10-12T01:33:44.471797",
   "version": "2.3.4"
  }
 },
 "nbformat": 4,
 "nbformat_minor": 5
}
