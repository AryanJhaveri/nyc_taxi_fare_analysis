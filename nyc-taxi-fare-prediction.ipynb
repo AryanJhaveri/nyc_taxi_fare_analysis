{
 "cells": [
  {
   "cell_type": "code",
   "execution_count": 1,
   "id": "7d3df340",
   "metadata": {
    "_cell_guid": "b1076dfc-b9ad-4769-8c92-a6c4dae69d19",
    "_uuid": "8f2839f25d086af736a60e9eeb907d3b93b6e0e5",
    "execution": {
     "iopub.execute_input": "2023-10-12T01:34:08.145522Z",
     "iopub.status.busy": "2023-10-12T01:34:08.144954Z",
     "iopub.status.idle": "2023-10-12T01:34:08.506408Z",
     "shell.execute_reply": "2023-10-12T01:34:08.505687Z"
    },
    "papermill": {
     "duration": 0.373468,
     "end_time": "2023-10-12T01:34:08.510727",
     "exception": false,
     "start_time": "2023-10-12T01:34:08.137259",
     "status": "completed"
    },
    "tags": []
   },
   "outputs": [
    {
     "name": "stdout",
     "output_type": "stream",
     "text": [
      "/kaggle/input/new-york-city-taxi-fare-prediction/sample_submission.csv\n",
      "/kaggle/input/new-york-city-taxi-fare-prediction/GCP-Coupons-Instructions.rtf\n",
      "/kaggle/input/new-york-city-taxi-fare-prediction/train.csv\n",
      "/kaggle/input/new-york-city-taxi-fare-prediction/test.csv\n"
     ]
    }
   ],
   "source": [
    "# This Python 3 environment comes with many helpful analytics libraries installed\n",
    "# It is defined by the kaggle/python Docker image: https://github.com/kaggle/docker-python\n",
    "# For example, here's several helpful packages to load\n",
    "\n",
    "import numpy as np # linear algebra\n",
    "import pandas as pd # data processing, CSV file I/O (e.g. pd.read_csv)\n",
    "\n",
    "# Input data files are available in the read-only \"../input/\" directory\n",
    "# For example, running this (by clicking run or pressing Shift+Enter) will list all files under the input directory\n",
    "\n",
    "import os\n",
    "for dirname, _, filenames in os.walk('/kaggle/input'):\n",
    "    for filename in filenames:\n",
    "        print(os.path.join(dirname, filename))\n",
    "\n",
    "# You can write up to 20GB to the current directory (/kaggle/working/) that gets preserved as output when you create a version using \"Save & Run All\" \n",
    "# You can also write temporary files to /kaggle/temp/, but they won't be saved outside of the current session"
   ]
  },
  {
   "cell_type": "code",
   "execution_count": 2,
   "id": "942f3ffb",
   "metadata": {
    "execution": {
     "iopub.execute_input": "2023-10-12T01:34:08.526718Z",
     "iopub.status.busy": "2023-10-12T01:34:08.525683Z",
     "iopub.status.idle": "2023-10-12T01:34:12.278686Z",
     "shell.execute_reply": "2023-10-12T01:34:12.277599Z"
    },
    "papermill": {
     "duration": 3.7626,
     "end_time": "2023-10-12T01:34:12.281168",
     "exception": false,
     "start_time": "2023-10-12T01:34:08.518568",
     "status": "completed"
    },
    "tags": []
   },
   "outputs": [
    {
     "data": {
      "text/html": [
       "<div>\n",
       "<style scoped>\n",
       "    .dataframe tbody tr th:only-of-type {\n",
       "        vertical-align: middle;\n",
       "    }\n",
       "\n",
       "    .dataframe tbody tr th {\n",
       "        vertical-align: top;\n",
       "    }\n",
       "\n",
       "    .dataframe thead th {\n",
       "        text-align: right;\n",
       "    }\n",
       "</style>\n",
       "<table border=\"1\" class=\"dataframe\">\n",
       "  <thead>\n",
       "    <tr style=\"text-align: right;\">\n",
       "      <th></th>\n",
       "      <th>key</th>\n",
       "      <th>fare_amount</th>\n",
       "      <th>pickup_datetime</th>\n",
       "      <th>pickup_longitude</th>\n",
       "      <th>pickup_latitude</th>\n",
       "      <th>dropoff_longitude</th>\n",
       "      <th>dropoff_latitude</th>\n",
       "      <th>passenger_count</th>\n",
       "    </tr>\n",
       "  </thead>\n",
       "  <tbody>\n",
       "    <tr>\n",
       "      <th>0</th>\n",
       "      <td>2009-06-15 17:26:21.0000001</td>\n",
       "      <td>4.5</td>\n",
       "      <td>2009-06-15 17:26:21 UTC</td>\n",
       "      <td>-73.844311</td>\n",
       "      <td>40.721319</td>\n",
       "      <td>-73.841610</td>\n",
       "      <td>40.712278</td>\n",
       "      <td>1</td>\n",
       "    </tr>\n",
       "    <tr>\n",
       "      <th>1</th>\n",
       "      <td>2010-01-05 16:52:16.0000002</td>\n",
       "      <td>16.9</td>\n",
       "      <td>2010-01-05 16:52:16 UTC</td>\n",
       "      <td>-74.016048</td>\n",
       "      <td>40.711303</td>\n",
       "      <td>-73.979268</td>\n",
       "      <td>40.782004</td>\n",
       "      <td>1</td>\n",
       "    </tr>\n",
       "    <tr>\n",
       "      <th>2</th>\n",
       "      <td>2011-08-18 00:35:00.00000049</td>\n",
       "      <td>5.7</td>\n",
       "      <td>2011-08-18 00:35:00 UTC</td>\n",
       "      <td>-73.982738</td>\n",
       "      <td>40.761270</td>\n",
       "      <td>-73.991242</td>\n",
       "      <td>40.750562</td>\n",
       "      <td>2</td>\n",
       "    </tr>\n",
       "    <tr>\n",
       "      <th>3</th>\n",
       "      <td>2012-04-21 04:30:42.0000001</td>\n",
       "      <td>7.7</td>\n",
       "      <td>2012-04-21 04:30:42 UTC</td>\n",
       "      <td>-73.987130</td>\n",
       "      <td>40.733143</td>\n",
       "      <td>-73.991567</td>\n",
       "      <td>40.758092</td>\n",
       "      <td>1</td>\n",
       "    </tr>\n",
       "    <tr>\n",
       "      <th>4</th>\n",
       "      <td>2010-03-09 07:51:00.000000135</td>\n",
       "      <td>5.3</td>\n",
       "      <td>2010-03-09 07:51:00 UTC</td>\n",
       "      <td>-73.968095</td>\n",
       "      <td>40.768008</td>\n",
       "      <td>-73.956655</td>\n",
       "      <td>40.783762</td>\n",
       "      <td>1</td>\n",
       "    </tr>\n",
       "  </tbody>\n",
       "</table>\n",
       "</div>"
      ],
      "text/plain": [
       "                             key  fare_amount          pickup_datetime  \\\n",
       "0    2009-06-15 17:26:21.0000001          4.5  2009-06-15 17:26:21 UTC   \n",
       "1    2010-01-05 16:52:16.0000002         16.9  2010-01-05 16:52:16 UTC   \n",
       "2   2011-08-18 00:35:00.00000049          5.7  2011-08-18 00:35:00 UTC   \n",
       "3    2012-04-21 04:30:42.0000001          7.7  2012-04-21 04:30:42 UTC   \n",
       "4  2010-03-09 07:51:00.000000135          5.3  2010-03-09 07:51:00 UTC   \n",
       "\n",
       "   pickup_longitude  pickup_latitude  dropoff_longitude  dropoff_latitude  \\\n",
       "0        -73.844311        40.721319         -73.841610         40.712278   \n",
       "1        -74.016048        40.711303         -73.979268         40.782004   \n",
       "2        -73.982738        40.761270         -73.991242         40.750562   \n",
       "3        -73.987130        40.733143         -73.991567         40.758092   \n",
       "4        -73.968095        40.768008         -73.956655         40.783762   \n",
       "\n",
       "   passenger_count  \n",
       "0                1  \n",
       "1                1  \n",
       "2                2  \n",
       "3                1  \n",
       "4                1  "
      ]
     },
     "execution_count": 2,
     "metadata": {},
     "output_type": "execute_result"
    }
   ],
   "source": [
    "df = pd.read_csv(\"../input/new-york-city-taxi-fare-prediction/train.csv\",nrows=1000000)\n",
    "df_test= pd.read_csv(\"../input/new-york-city-taxi-fare-prediction/test.csv\")\n",
    "df.head()"
   ]
  },
  {
   "cell_type": "code",
   "execution_count": 3,
   "id": "54bc334f",
   "metadata": {
    "execution": {
     "iopub.execute_input": "2023-10-12T01:34:12.294944Z",
     "iopub.status.busy": "2023-10-12T01:34:12.294602Z",
     "iopub.status.idle": "2023-10-12T01:34:12.404705Z",
     "shell.execute_reply": "2023-10-12T01:34:12.403761Z"
    },
    "papermill": {
     "duration": 0.119387,
     "end_time": "2023-10-12T01:34:12.406825",
     "exception": false,
     "start_time": "2023-10-12T01:34:12.287438",
     "status": "completed"
    },
    "tags": []
   },
   "outputs": [
    {
     "data": {
      "text/plain": [
       "key                   0\n",
       "fare_amount           0\n",
       "pickup_datetime       0\n",
       "pickup_longitude      0\n",
       "pickup_latitude       0\n",
       "dropoff_longitude    10\n",
       "dropoff_latitude     10\n",
       "passenger_count       0\n",
       "dtype: int64"
      ]
     },
     "execution_count": 3,
     "metadata": {},
     "output_type": "execute_result"
    }
   ],
   "source": [
    "df.isnull().sum()"
   ]
  },
  {
   "cell_type": "code",
   "execution_count": 4,
   "id": "cb605116",
   "metadata": {
    "execution": {
     "iopub.execute_input": "2023-10-12T01:34:12.421158Z",
     "iopub.status.busy": "2023-10-12T01:34:12.420766Z",
     "iopub.status.idle": "2023-10-12T01:34:12.604083Z",
     "shell.execute_reply": "2023-10-12T01:34:12.602506Z"
    },
    "papermill": {
     "duration": 0.193547,
     "end_time": "2023-10-12T01:34:12.606781",
     "exception": false,
     "start_time": "2023-10-12T01:34:12.413234",
     "status": "completed"
    },
    "tags": []
   },
   "outputs": [],
   "source": [
    "df = df.dropna(how = 'any', axis = 'rows')\n",
    "df_test = df_test.dropna(how = 'any', axis = 'rows')"
   ]
  },
  {
   "cell_type": "code",
   "execution_count": 5,
   "id": "1b7500bc",
   "metadata": {
    "execution": {
     "iopub.execute_input": "2023-10-12T01:34:12.621988Z",
     "iopub.status.busy": "2023-10-12T01:34:12.621628Z",
     "iopub.status.idle": "2023-10-12T01:34:12.629276Z",
     "shell.execute_reply": "2023-10-12T01:34:12.628206Z"
    },
    "papermill": {
     "duration": 0.017595,
     "end_time": "2023-10-12T01:34:12.631585",
     "exception": false,
     "start_time": "2023-10-12T01:34:12.613990",
     "status": "completed"
    },
    "tags": []
   },
   "outputs": [
    {
     "data": {
      "text/plain": [
       "(999990, 8)"
      ]
     },
     "execution_count": 5,
     "metadata": {},
     "output_type": "execute_result"
    }
   ],
   "source": [
    "df.shape"
   ]
  },
  {
   "cell_type": "code",
   "execution_count": 6,
   "id": "2e723c2b",
   "metadata": {
    "execution": {
     "iopub.execute_input": "2023-10-12T01:34:12.646562Z",
     "iopub.status.busy": "2023-10-12T01:34:12.646202Z",
     "iopub.status.idle": "2023-10-12T01:34:12.770027Z",
     "shell.execute_reply": "2023-10-12T01:34:12.769181Z"
    },
    "papermill": {
     "duration": 0.134337,
     "end_time": "2023-10-12T01:34:12.772548",
     "exception": false,
     "start_time": "2023-10-12T01:34:12.638211",
     "status": "completed"
    },
    "tags": []
   },
   "outputs": [
    {
     "name": "stdout",
     "output_type": "stream",
     "text": [
      "<class 'pandas.core.frame.DataFrame'>\n",
      "Index: 999990 entries, 0 to 999999\n",
      "Data columns (total 8 columns):\n",
      " #   Column             Non-Null Count   Dtype  \n",
      "---  ------             --------------   -----  \n",
      " 0   key                999990 non-null  object \n",
      " 1   fare_amount        999990 non-null  float64\n",
      " 2   pickup_datetime    999990 non-null  object \n",
      " 3   pickup_longitude   999990 non-null  float64\n",
      " 4   pickup_latitude    999990 non-null  float64\n",
      " 5   dropoff_longitude  999990 non-null  float64\n",
      " 6   dropoff_latitude   999990 non-null  float64\n",
      " 7   passenger_count    999990 non-null  int64  \n",
      "dtypes: float64(5), int64(1), object(2)\n",
      "memory usage: 68.7+ MB\n"
     ]
    }
   ],
   "source": [
    "df.info()"
   ]
  },
  {
   "cell_type": "code",
   "execution_count": 7,
   "id": "0449107a",
   "metadata": {
    "execution": {
     "iopub.execute_input": "2023-10-12T01:34:12.787179Z",
     "iopub.status.busy": "2023-10-12T01:34:12.786821Z",
     "iopub.status.idle": "2023-10-12T01:34:12.800410Z",
     "shell.execute_reply": "2023-10-12T01:34:12.799105Z"
    },
    "papermill": {
     "duration": 0.0236,
     "end_time": "2023-10-12T01:34:12.802546",
     "exception": false,
     "start_time": "2023-10-12T01:34:12.778946",
     "status": "completed"
    },
    "tags": []
   },
   "outputs": [
    {
     "name": "stdout",
     "output_type": "stream",
     "text": [
      "<class 'pandas.core.frame.DataFrame'>\n",
      "RangeIndex: 9914 entries, 0 to 9913\n",
      "Data columns (total 7 columns):\n",
      " #   Column             Non-Null Count  Dtype  \n",
      "---  ------             --------------  -----  \n",
      " 0   key                9914 non-null   object \n",
      " 1   pickup_datetime    9914 non-null   object \n",
      " 2   pickup_longitude   9914 non-null   float64\n",
      " 3   pickup_latitude    9914 non-null   float64\n",
      " 4   dropoff_longitude  9914 non-null   float64\n",
      " 5   dropoff_latitude   9914 non-null   float64\n",
      " 6   passenger_count    9914 non-null   int64  \n",
      "dtypes: float64(4), int64(1), object(2)\n",
      "memory usage: 542.3+ KB\n"
     ]
    }
   ],
   "source": [
    "df_test.info()"
   ]
  },
  {
   "cell_type": "code",
   "execution_count": 8,
   "id": "91c9cca9",
   "metadata": {
    "execution": {
     "iopub.execute_input": "2023-10-12T01:34:12.817383Z",
     "iopub.status.busy": "2023-10-12T01:34:12.816981Z",
     "iopub.status.idle": "2023-10-12T01:34:12.870568Z",
     "shell.execute_reply": "2023-10-12T01:34:12.869442Z"
    },
    "papermill": {
     "duration": 0.063469,
     "end_time": "2023-10-12T01:34:12.872579",
     "exception": false,
     "start_time": "2023-10-12T01:34:12.809110",
     "status": "completed"
    },
    "tags": []
   },
   "outputs": [
    {
     "data": {
      "text/plain": [
       "count    999990.000000\n",
       "mean         11.347953\n",
       "std           9.821790\n",
       "min         -44.900000\n",
       "25%           6.000000\n",
       "50%           8.500000\n",
       "75%          12.500000\n",
       "max         500.000000\n",
       "Name: fare_amount, dtype: float64"
      ]
     },
     "execution_count": 8,
     "metadata": {},
     "output_type": "execute_result"
    }
   ],
   "source": [
    "df['fare_amount'].describe()"
   ]
  },
  {
   "cell_type": "code",
   "execution_count": 9,
   "id": "abee784d",
   "metadata": {
    "execution": {
     "iopub.execute_input": "2023-10-12T01:34:12.887524Z",
     "iopub.status.busy": "2023-10-12T01:34:12.887189Z",
     "iopub.status.idle": "2023-10-12T01:34:13.049498Z",
     "shell.execute_reply": "2023-10-12T01:34:13.048618Z"
    },
    "papermill": {
     "duration": 0.172771,
     "end_time": "2023-10-12T01:34:13.051932",
     "exception": false,
     "start_time": "2023-10-12T01:34:12.879161",
     "status": "completed"
    },
    "tags": []
   },
   "outputs": [],
   "source": [
    "df = df.drop(df[df['fare_amount']<0].index, axis=0)\n"
   ]
  },
  {
   "cell_type": "code",
   "execution_count": 10,
   "id": "e9f60f4d",
   "metadata": {
    "execution": {
     "iopub.execute_input": "2023-10-12T01:34:13.067014Z",
     "iopub.status.busy": "2023-10-12T01:34:13.066661Z",
     "iopub.status.idle": "2023-10-12T01:34:13.099108Z",
     "shell.execute_reply": "2023-10-12T01:34:13.098074Z"
    },
    "papermill": {
     "duration": 0.042473,
     "end_time": "2023-10-12T01:34:13.100998",
     "exception": false,
     "start_time": "2023-10-12T01:34:13.058525",
     "status": "completed"
    },
    "tags": []
   },
   "outputs": [
    {
     "data": {
      "text/plain": [
       "count    999952.000000\n",
       "mean          1.684942\n",
       "std           1.323908\n",
       "min           0.000000\n",
       "25%           1.000000\n",
       "50%           1.000000\n",
       "75%           2.000000\n",
       "max         208.000000\n",
       "Name: passenger_count, dtype: float64"
      ]
     },
     "execution_count": 10,
     "metadata": {},
     "output_type": "execute_result"
    }
   ],
   "source": [
    "df['passenger_count'].describe()"
   ]
  },
  {
   "cell_type": "code",
   "execution_count": 11,
   "id": "600c6e2e",
   "metadata": {
    "execution": {
     "iopub.execute_input": "2023-10-12T01:34:13.115590Z",
     "iopub.status.busy": "2023-10-12T01:34:13.115214Z",
     "iopub.status.idle": "2023-10-12T01:34:13.240532Z",
     "shell.execute_reply": "2023-10-12T01:34:13.239411Z"
    },
    "papermill": {
     "duration": 0.135447,
     "end_time": "2023-10-12T01:34:13.243000",
     "exception": false,
     "start_time": "2023-10-12T01:34:13.107553",
     "status": "completed"
    },
    "tags": []
   },
   "outputs": [],
   "source": [
    "df = df.drop(df[df['passenger_count']>6].index, axis=0)\n",
    "df_test = df_test.drop(df_test[df_test['passenger_count']>6].index, axis=0)"
   ]
  },
  {
   "cell_type": "code",
   "execution_count": 12,
   "id": "34a20641",
   "metadata": {
    "execution": {
     "iopub.execute_input": "2023-10-12T01:34:13.258847Z",
     "iopub.status.busy": "2023-10-12T01:34:13.258474Z",
     "iopub.status.idle": "2023-10-12T01:34:13.264594Z",
     "shell.execute_reply": "2023-10-12T01:34:13.263597Z"
    },
    "papermill": {
     "duration": 0.016141,
     "end_time": "2023-10-12T01:34:13.266571",
     "exception": false,
     "start_time": "2023-10-12T01:34:13.250430",
     "status": "completed"
    },
    "tags": []
   },
   "outputs": [
    {
     "data": {
      "text/plain": [
       "(999951, 8)"
      ]
     },
     "execution_count": 12,
     "metadata": {},
     "output_type": "execute_result"
    }
   ],
   "source": [
    "df.shape"
   ]
  },
  {
   "cell_type": "code",
   "execution_count": 13,
   "id": "8cdbd9d6",
   "metadata": {
    "execution": {
     "iopub.execute_input": "2023-10-12T01:34:13.281920Z",
     "iopub.status.busy": "2023-10-12T01:34:13.281553Z",
     "iopub.status.idle": "2023-10-12T01:34:30.219337Z",
     "shell.execute_reply": "2023-10-12T01:34:30.218368Z"
    },
    "papermill": {
     "duration": 16.948379,
     "end_time": "2023-10-12T01:34:30.221729",
     "exception": false,
     "start_time": "2023-10-12T01:34:13.273350",
     "status": "completed"
    },
    "tags": []
   },
   "outputs": [],
   "source": [
    "df['key'] = pd.to_datetime(df['key'])\n",
    "df['pickup_datetime']  = pd.to_datetime(df['pickup_datetime'])\n",
    "\n",
    "df_test['key'] = pd.to_datetime(df['key'])\n",
    "df_test['pickup_datetime']  = pd.to_datetime(df_test['pickup_datetime'])"
   ]
  },
  {
   "cell_type": "code",
   "execution_count": 14,
   "id": "e2b702fc",
   "metadata": {
    "execution": {
     "iopub.execute_input": "2023-10-12T01:34:30.238017Z",
     "iopub.status.busy": "2023-10-12T01:34:30.237452Z",
     "iopub.status.idle": "2023-10-12T01:34:30.857730Z",
     "shell.execute_reply": "2023-10-12T01:34:30.856627Z"
    },
    "papermill": {
     "duration": 0.631194,
     "end_time": "2023-10-12T01:34:30.860133",
     "exception": false,
     "start_time": "2023-10-12T01:34:30.228939",
     "status": "completed"
    },
    "tags": []
   },
   "outputs": [],
   "source": [
    "data = [df,df_test]\n",
    "for i in data:\n",
    "    i['Year'] = i['pickup_datetime'].dt.year\n",
    "    i['Month'] = i['pickup_datetime'].dt.month\n",
    "    i['Date'] = i['pickup_datetime'].dt.day\n",
    "    i['Day of Week'] = i['pickup_datetime'].dt.dayofweek\n",
    "    i['Hour'] = i['pickup_datetime'].dt.hour"
   ]
  },
  {
   "cell_type": "code",
   "execution_count": 15,
   "id": "7414bbe5",
   "metadata": {
    "execution": {
     "iopub.execute_input": "2023-10-12T01:34:30.874913Z",
     "iopub.status.busy": "2023-10-12T01:34:30.874560Z",
     "iopub.status.idle": "2023-10-12T01:34:30.889336Z",
     "shell.execute_reply": "2023-10-12T01:34:30.888466Z"
    },
    "papermill": {
     "duration": 0.025116,
     "end_time": "2023-10-12T01:34:30.891874",
     "exception": false,
     "start_time": "2023-10-12T01:34:30.866758",
     "status": "completed"
    },
    "tags": []
   },
   "outputs": [
    {
     "data": {
      "text/html": [
       "<div>\n",
       "<style scoped>\n",
       "    .dataframe tbody tr th:only-of-type {\n",
       "        vertical-align: middle;\n",
       "    }\n",
       "\n",
       "    .dataframe tbody tr th {\n",
       "        vertical-align: top;\n",
       "    }\n",
       "\n",
       "    .dataframe thead th {\n",
       "        text-align: right;\n",
       "    }\n",
       "</style>\n",
       "<table border=\"1\" class=\"dataframe\">\n",
       "  <thead>\n",
       "    <tr style=\"text-align: right;\">\n",
       "      <th></th>\n",
       "      <th>key</th>\n",
       "      <th>fare_amount</th>\n",
       "      <th>pickup_datetime</th>\n",
       "      <th>pickup_longitude</th>\n",
       "      <th>pickup_latitude</th>\n",
       "      <th>dropoff_longitude</th>\n",
       "      <th>dropoff_latitude</th>\n",
       "      <th>passenger_count</th>\n",
       "      <th>Year</th>\n",
       "      <th>Month</th>\n",
       "      <th>Date</th>\n",
       "      <th>Day of Week</th>\n",
       "      <th>Hour</th>\n",
       "    </tr>\n",
       "  </thead>\n",
       "  <tbody>\n",
       "    <tr>\n",
       "      <th>0</th>\n",
       "      <td>2009-06-15 17:26:21.000000100</td>\n",
       "      <td>4.5</td>\n",
       "      <td>2009-06-15 17:26:21+00:00</td>\n",
       "      <td>-73.844311</td>\n",
       "      <td>40.721319</td>\n",
       "      <td>-73.841610</td>\n",
       "      <td>40.712278</td>\n",
       "      <td>1</td>\n",
       "      <td>2009</td>\n",
       "      <td>6</td>\n",
       "      <td>15</td>\n",
       "      <td>0</td>\n",
       "      <td>17</td>\n",
       "    </tr>\n",
       "    <tr>\n",
       "      <th>1</th>\n",
       "      <td>2010-01-05 16:52:16.000000200</td>\n",
       "      <td>16.9</td>\n",
       "      <td>2010-01-05 16:52:16+00:00</td>\n",
       "      <td>-74.016048</td>\n",
       "      <td>40.711303</td>\n",
       "      <td>-73.979268</td>\n",
       "      <td>40.782004</td>\n",
       "      <td>1</td>\n",
       "      <td>2010</td>\n",
       "      <td>1</td>\n",
       "      <td>5</td>\n",
       "      <td>1</td>\n",
       "      <td>16</td>\n",
       "    </tr>\n",
       "    <tr>\n",
       "      <th>2</th>\n",
       "      <td>2011-08-18 00:35:00.000000490</td>\n",
       "      <td>5.7</td>\n",
       "      <td>2011-08-18 00:35:00+00:00</td>\n",
       "      <td>-73.982738</td>\n",
       "      <td>40.761270</td>\n",
       "      <td>-73.991242</td>\n",
       "      <td>40.750562</td>\n",
       "      <td>2</td>\n",
       "      <td>2011</td>\n",
       "      <td>8</td>\n",
       "      <td>18</td>\n",
       "      <td>3</td>\n",
       "      <td>0</td>\n",
       "    </tr>\n",
       "    <tr>\n",
       "      <th>3</th>\n",
       "      <td>2012-04-21 04:30:42.000000100</td>\n",
       "      <td>7.7</td>\n",
       "      <td>2012-04-21 04:30:42+00:00</td>\n",
       "      <td>-73.987130</td>\n",
       "      <td>40.733143</td>\n",
       "      <td>-73.991567</td>\n",
       "      <td>40.758092</td>\n",
       "      <td>1</td>\n",
       "      <td>2012</td>\n",
       "      <td>4</td>\n",
       "      <td>21</td>\n",
       "      <td>5</td>\n",
       "      <td>4</td>\n",
       "    </tr>\n",
       "    <tr>\n",
       "      <th>4</th>\n",
       "      <td>2010-03-09 07:51:00.000000135</td>\n",
       "      <td>5.3</td>\n",
       "      <td>2010-03-09 07:51:00+00:00</td>\n",
       "      <td>-73.968095</td>\n",
       "      <td>40.768008</td>\n",
       "      <td>-73.956655</td>\n",
       "      <td>40.783762</td>\n",
       "      <td>1</td>\n",
       "      <td>2010</td>\n",
       "      <td>3</td>\n",
       "      <td>9</td>\n",
       "      <td>1</td>\n",
       "      <td>7</td>\n",
       "    </tr>\n",
       "  </tbody>\n",
       "</table>\n",
       "</div>"
      ],
      "text/plain": [
       "                            key  fare_amount           pickup_datetime  \\\n",
       "0 2009-06-15 17:26:21.000000100          4.5 2009-06-15 17:26:21+00:00   \n",
       "1 2010-01-05 16:52:16.000000200         16.9 2010-01-05 16:52:16+00:00   \n",
       "2 2011-08-18 00:35:00.000000490          5.7 2011-08-18 00:35:00+00:00   \n",
       "3 2012-04-21 04:30:42.000000100          7.7 2012-04-21 04:30:42+00:00   \n",
       "4 2010-03-09 07:51:00.000000135          5.3 2010-03-09 07:51:00+00:00   \n",
       "\n",
       "   pickup_longitude  pickup_latitude  dropoff_longitude  dropoff_latitude  \\\n",
       "0        -73.844311        40.721319         -73.841610         40.712278   \n",
       "1        -74.016048        40.711303         -73.979268         40.782004   \n",
       "2        -73.982738        40.761270         -73.991242         40.750562   \n",
       "3        -73.987130        40.733143         -73.991567         40.758092   \n",
       "4        -73.968095        40.768008         -73.956655         40.783762   \n",
       "\n",
       "   passenger_count  Year  Month  Date  Day of Week  Hour  \n",
       "0                1  2009      6    15            0    17  \n",
       "1                1  2010      1     5            1    16  \n",
       "2                2  2011      8    18            3     0  \n",
       "3                1  2012      4    21            5     4  \n",
       "4                1  2010      3     9            1     7  "
      ]
     },
     "execution_count": 15,
     "metadata": {},
     "output_type": "execute_result"
    }
   ],
   "source": [
    "df.head()"
   ]
  },
  {
   "cell_type": "code",
   "execution_count": 16,
   "id": "c28a3afd",
   "metadata": {
    "execution": {
     "iopub.execute_input": "2023-10-12T01:34:30.908504Z",
     "iopub.status.busy": "2023-10-12T01:34:30.908102Z",
     "iopub.status.idle": "2023-10-12T01:34:31.197762Z",
     "shell.execute_reply": "2023-10-12T01:34:31.196695Z"
    },
    "papermill": {
     "duration": 0.300416,
     "end_time": "2023-10-12T01:34:31.199881",
     "exception": false,
     "start_time": "2023-10-12T01:34:30.899465",
     "status": "completed"
    },
    "tags": []
   },
   "outputs": [
    {
     "data": {
      "text/plain": [
       "Text(0, 0.5, 'Frequency')"
      ]
     },
     "execution_count": 16,
     "metadata": {},
     "output_type": "execute_result"
    },
    {
     "data": {
      "image/png": "[encoded data removed]",
      "text/plain": [
       "<Figure size 640x480 with 1 Axes>"
      ]
     },
     "metadata": {},
     "output_type": "display_data"
    }
   ],
   "source": [
    "import matplotlib.pyplot as plt\n",
    "\n",
    "plt.figure()\n",
    "plt.hist(df['passenger_count'])\n",
    "plt.xlabel('No. of Passengers')\n",
    "plt.ylabel('Frequency')"
   ]
  },
  {
   "cell_type": "code",
   "execution_count": 17,
   "id": "e49c9800",
   "metadata": {
    "execution": {
     "iopub.execute_input": "2023-10-12T01:34:31.218802Z",
     "iopub.status.busy": "2023-10-12T01:34:31.218403Z",
     "iopub.status.idle": "2023-10-12T01:34:35.638551Z",
     "shell.execute_reply": "2023-10-12T01:34:35.637281Z"
    },
    "papermill": {
     "duration": 4.432507,
     "end_time": "2023-10-12T01:34:35.640890",
     "exception": false,
     "start_time": "2023-10-12T01:34:31.208383",
     "status": "completed"
    },
    "tags": []
   },
   "outputs": [
    {
     "data": {
      "text/plain": [
       "Text(0, 0.5, 'Fare')"
      ]
     },
     "execution_count": 17,
     "metadata": {},
     "output_type": "execute_result"
    },
    {
     "data": {
      "image/png": "[encoded data removed]",
      "text/plain": [
       "<Figure size 640x480 with 1 Axes>"
      ]
     },
     "metadata": {},
     "output_type": "display_data"
    }
   ],
   "source": [
    "plt.figure()\n",
    "plt.scatter(x=df['passenger_count'], y=df['fare_amount'])\n",
    "plt.xlabel('No. of Passengers')\n",
    "plt.ylabel('Fare')"
   ]
  },
  {
   "cell_type": "code",
   "execution_count": 18,
   "id": "2288ce86",
   "metadata": {
    "execution": {
     "iopub.execute_input": "2023-10-12T01:34:35.658657Z",
     "iopub.status.busy": "2023-10-12T01:34:35.658266Z",
     "iopub.status.idle": "2023-10-12T01:34:40.139619Z",
     "shell.execute_reply": "2023-10-12T01:34:40.138293Z"
    },
    "papermill": {
     "duration": 4.493475,
     "end_time": "2023-10-12T01:34:40.142552",
     "exception": false,
     "start_time": "2023-10-12T01:34:35.649077",
     "status": "completed"
    },
    "tags": []
   },
   "outputs": [
    {
     "data": {
      "text/plain": [
       "Text(0, 0.5, 'Fare')"
      ]
     },
     "execution_count": 18,
     "metadata": {},
     "output_type": "execute_result"
    },
    {
     "data": {
      "image/png": "[encoded data removed]",
      "text/plain": [
       "<Figure size 640x480 with 1 Axes>"
      ]
     },
     "metadata": {},
     "output_type": "display_data"
    }
   ],
   "source": [
    "plt.figure()\n",
    "plt.scatter(x=df['Date'], y=df['fare_amount'])\n",
    "plt.xlabel('No. of Passengers')\n",
    "plt.ylabel('Fare')"
   ]
  },
  {
   "cell_type": "code",
   "execution_count": 19,
   "id": "5e9d95a6",
   "metadata": {
    "execution": {
     "iopub.execute_input": "2023-10-12T01:34:40.161463Z",
     "iopub.status.busy": "2023-10-12T01:34:40.161086Z",
     "iopub.status.idle": "2023-10-12T01:34:44.589360Z",
     "shell.execute_reply": "2023-10-12T01:34:44.588197Z"
    },
    "papermill": {
     "duration": 4.440348,
     "end_time": "2023-10-12T01:34:44.591510",
     "exception": false,
     "start_time": "2023-10-12T01:34:40.151162",
     "status": "completed"
    },
    "tags": []
   },
   "outputs": [
    {
     "data": {
      "text/plain": [
       "Text(0, 0.5, 'Fare')"
      ]
     },
     "execution_count": 19,
     "metadata": {},
     "output_type": "execute_result"
    },
    {
     "data": {
      "image/png": "[encoded data removed]",
      "text/plain": [
       "<Figure size 640x480 with 1 Axes>"
      ]
     },
     "metadata": {},
     "output_type": "display_data"
    }
   ],
   "source": [
    "plt.figure()\n",
    "plt.scatter(x=df['Hour'], y=df['fare_amount'])\n",
    "plt.xlabel('No. of Passengers')\n",
    "plt.ylabel('Fare')"
   ]
  },
  {
   "cell_type": "code",
   "execution_count": 20,
   "id": "67867e94",
   "metadata": {
    "execution": {
     "iopub.execute_input": "2023-10-12T01:34:44.610998Z",
     "iopub.status.busy": "2023-10-12T01:34:44.610658Z",
     "iopub.status.idle": "2023-10-12T01:34:44.649917Z",
     "shell.execute_reply": "2023-10-12T01:34:44.648850Z"
    },
    "papermill": {
     "duration": 0.051712,
     "end_time": "2023-10-12T01:34:44.652181",
     "exception": false,
     "start_time": "2023-10-12T01:34:44.600469",
     "status": "completed"
    },
    "tags": []
   },
   "outputs": [
    {
     "data": {
      "text/html": [
       "<div>\n",
       "<style scoped>\n",
       "    .dataframe tbody tr th:only-of-type {\n",
       "        vertical-align: middle;\n",
       "    }\n",
       "\n",
       "    .dataframe tbody tr th {\n",
       "        vertical-align: top;\n",
       "    }\n",
       "\n",
       "    .dataframe thead th {\n",
       "        text-align: right;\n",
       "    }\n",
       "</style>\n",
       "<table border=\"1\" class=\"dataframe\">\n",
       "  <thead>\n",
       "    <tr style=\"text-align: right;\">\n",
       "      <th></th>\n",
       "      <th>fare_amount</th>\n",
       "    </tr>\n",
       "    <tr>\n",
       "      <th>Hour</th>\n",
       "      <th></th>\n",
       "    </tr>\n",
       "  </thead>\n",
       "  <tbody>\n",
       "    <tr>\n",
       "      <th>0</th>\n",
       "      <td>11.741448</td>\n",
       "    </tr>\n",
       "    <tr>\n",
       "      <th>1</th>\n",
       "      <td>11.448878</td>\n",
       "    </tr>\n",
       "    <tr>\n",
       "      <th>2</th>\n",
       "      <td>11.487458</td>\n",
       "    </tr>\n",
       "    <tr>\n",
       "      <th>3</th>\n",
       "      <td>12.032729</td>\n",
       "    </tr>\n",
       "    <tr>\n",
       "      <th>4</th>\n",
       "      <td>13.569086</td>\n",
       "    </tr>\n",
       "    <tr>\n",
       "      <th>5</th>\n",
       "      <td>15.398358</td>\n",
       "    </tr>\n",
       "    <tr>\n",
       "      <th>6</th>\n",
       "      <td>12.210433</td>\n",
       "    </tr>\n",
       "    <tr>\n",
       "      <th>7</th>\n",
       "      <td>10.959879</td>\n",
       "    </tr>\n",
       "    <tr>\n",
       "      <th>8</th>\n",
       "      <td>10.904826</td>\n",
       "    </tr>\n",
       "    <tr>\n",
       "      <th>9</th>\n",
       "      <td>10.846248</td>\n",
       "    </tr>\n",
       "    <tr>\n",
       "      <th>10</th>\n",
       "      <td>10.927139</td>\n",
       "    </tr>\n",
       "    <tr>\n",
       "      <th>11</th>\n",
       "      <td>11.119934</td>\n",
       "    </tr>\n",
       "    <tr>\n",
       "      <th>12</th>\n",
       "      <td>11.151796</td>\n",
       "    </tr>\n",
       "    <tr>\n",
       "      <th>13</th>\n",
       "      <td>11.603908</td>\n",
       "    </tr>\n",
       "    <tr>\n",
       "      <th>14</th>\n",
       "      <td>11.876334</td>\n",
       "    </tr>\n",
       "    <tr>\n",
       "      <th>15</th>\n",
       "      <td>12.019420</td>\n",
       "    </tr>\n",
       "    <tr>\n",
       "      <th>16</th>\n",
       "      <td>11.857846</td>\n",
       "    </tr>\n",
       "    <tr>\n",
       "      <th>17</th>\n",
       "      <td>11.406303</td>\n",
       "    </tr>\n",
       "    <tr>\n",
       "      <th>18</th>\n",
       "      <td>10.937547</td>\n",
       "    </tr>\n",
       "    <tr>\n",
       "      <th>19</th>\n",
       "      <td>10.572742</td>\n",
       "    </tr>\n",
       "    <tr>\n",
       "      <th>20</th>\n",
       "      <td>10.809416</td>\n",
       "    </tr>\n",
       "    <tr>\n",
       "      <th>21</th>\n",
       "      <td>11.009553</td>\n",
       "    </tr>\n",
       "    <tr>\n",
       "      <th>22</th>\n",
       "      <td>11.298760</td>\n",
       "    </tr>\n",
       "    <tr>\n",
       "      <th>23</th>\n",
       "      <td>11.607087</td>\n",
       "    </tr>\n",
       "  </tbody>\n",
       "</table>\n",
       "</div>"
      ],
      "text/plain": [
       "      fare_amount\n",
       "Hour             \n",
       "0       11.741448\n",
       "1       11.448878\n",
       "2       11.487458\n",
       "3       12.032729\n",
       "4       13.569086\n",
       "5       15.398358\n",
       "6       12.210433\n",
       "7       10.959879\n",
       "8       10.904826\n",
       "9       10.846248\n",
       "10      10.927139\n",
       "11      11.119934\n",
       "12      11.151796\n",
       "13      11.603908\n",
       "14      11.876334\n",
       "15      12.019420\n",
       "16      11.857846\n",
       "17      11.406303\n",
       "18      10.937547\n",
       "19      10.572742\n",
       "20      10.809416\n",
       "21      11.009553\n",
       "22      11.298760\n",
       "23      11.607087"
      ]
     },
     "execution_count": 20,
     "metadata": {},
     "output_type": "execute_result"
    }
   ],
   "source": [
    "df1 = pd.DataFrame(df, columns=['Hour', 'fare_amount'])\n",
    "df1.groupby('Hour').mean()"
   ]
  },
  {
   "cell_type": "code",
   "execution_count": 21,
   "id": "553cc1bf",
   "metadata": {
    "execution": {
     "iopub.execute_input": "2023-10-12T01:34:44.673159Z",
     "iopub.status.busy": "2023-10-12T01:34:44.672359Z",
     "iopub.status.idle": "2023-10-12T01:34:45.066240Z",
     "shell.execute_reply": "2023-10-12T01:34:45.065144Z"
    },
    "papermill": {
     "duration": 0.407034,
     "end_time": "2023-10-12T01:34:45.068484",
     "exception": false,
     "start_time": "2023-10-12T01:34:44.661450",
     "status": "completed"
    },
    "tags": []
   },
   "outputs": [
    {
     "data": {
      "text/plain": [
       "Text(0, 0.5, 'Frequency')"
      ]
     },
     "execution_count": 21,
     "metadata": {},
     "output_type": "execute_result"
    },
    {
     "data": {
      "image/png": "[encoded data removed]",
      "text/plain": [
       "<Figure size 640x480 with 1 Axes>"
      ]
     },
     "metadata": {},
     "output_type": "display_data"
    }
   ],
   "source": [
    "plt.figure()\n",
    "plt.hist(df['Hour'],bins=100)\n",
    "plt.xlabel('Hour')\n",
    "plt.ylabel('Frequency')"
   ]
  },
  {
   "cell_type": "markdown",
   "id": "e9455ac4",
   "metadata": {
    "papermill": {
     "duration": 0.009504,
     "end_time": "2023-10-12T01:34:45.087825",
     "exception": false,
     "start_time": "2023-10-12T01:34:45.078321",
     "status": "completed"
    },
    "tags": []
   },
   "source": [
    "MODEL"
   ]
  },
  {
   "cell_type": "code",
   "execution_count": 22,
   "id": "ec395c56",
   "metadata": {
    "execution": {
     "iopub.execute_input": "2023-10-12T01:34:45.111869Z",
     "iopub.status.busy": "2023-10-12T01:34:45.110662Z",
     "iopub.status.idle": "2023-10-12T01:34:45.175906Z",
     "shell.execute_reply": "2023-10-12T01:34:45.174664Z"
    },
    "papermill": {
     "duration": 0.081974,
     "end_time": "2023-10-12T01:34:45.180039",
     "exception": false,
     "start_time": "2023-10-12T01:34:45.098065",
     "status": "completed"
    },
    "tags": []
   },
   "outputs": [],
   "source": [
    "x_train = df.iloc[:,df.columns!='fare_amount']\n",
    "y_train = df['fare_amount'].values\n",
    "x_test = df_test"
   ]
  },
  {
   "cell_type": "code",
   "execution_count": 23,
   "id": "9b5d76fe",
   "metadata": {
    "execution": {
     "iopub.execute_input": "2023-10-12T01:34:45.203519Z",
     "iopub.status.busy": "2023-10-12T01:34:45.202257Z",
     "iopub.status.idle": "2023-10-12T01:34:45.208100Z",
     "shell.execute_reply": "2023-10-12T01:34:45.207405Z"
    },
    "papermill": {
     "duration": 0.018757,
     "end_time": "2023-10-12T01:34:45.209974",
     "exception": false,
     "start_time": "2023-10-12T01:34:45.191217",
     "status": "completed"
    },
    "tags": []
   },
   "outputs": [
    {
     "data": {
      "text/plain": [
       "(999951, 12)"
      ]
     },
     "execution_count": 23,
     "metadata": {},
     "output_type": "execute_result"
    }
   ],
   "source": [
    "x_train.shape"
   ]
  },
  {
   "cell_type": "code",
   "execution_count": 24,
   "id": "1253da83",
   "metadata": {
    "execution": {
     "iopub.execute_input": "2023-10-12T01:34:45.232104Z",
     "iopub.status.busy": "2023-10-12T01:34:45.231736Z",
     "iopub.status.idle": "2023-10-12T01:34:45.292219Z",
     "shell.execute_reply": "2023-10-12T01:34:45.290967Z"
    },
    "papermill": {
     "duration": 0.074963,
     "end_time": "2023-10-12T01:34:45.295061",
     "exception": false,
     "start_time": "2023-10-12T01:34:45.220098",
     "status": "completed"
    },
    "tags": []
   },
   "outputs": [],
   "source": [
    "x_train = x_train.drop(['key','pickup_datetime'], axis = 1)\n",
    "x_test = x_test.drop(['key','pickup_datetime'], axis = 1)"
   ]
  },
  {
   "cell_type": "code",
   "execution_count": 25,
   "id": "4066140c",
   "metadata": {
    "execution": {
     "iopub.execute_input": "2023-10-12T01:34:45.319054Z",
     "iopub.status.busy": "2023-10-12T01:34:45.318716Z",
     "iopub.status.idle": "2023-10-12T01:34:45.344719Z",
     "shell.execute_reply": "2023-10-12T01:34:45.343421Z"
    },
    "papermill": {
     "duration": 0.041314,
     "end_time": "2023-10-12T01:34:45.347327",
     "exception": false,
     "start_time": "2023-10-12T01:34:45.306013",
     "status": "completed"
    },
    "tags": []
   },
   "outputs": [
    {
     "name": "stdout",
     "output_type": "stream",
     "text": [
      "<class 'pandas.core.frame.DataFrame'>\n",
      "Index: 999951 entries, 0 to 999999\n",
      "Data columns (total 10 columns):\n",
      " #   Column             Non-Null Count   Dtype  \n",
      "---  ------             --------------   -----  \n",
      " 0   pickup_longitude   999951 non-null  float64\n",
      " 1   pickup_latitude    999951 non-null  float64\n",
      " 2   dropoff_longitude  999951 non-null  float64\n",
      " 3   dropoff_latitude   999951 non-null  float64\n",
      " 4   passenger_count    999951 non-null  int64  \n",
      " 5   Year               999951 non-null  int32  \n",
      " 6   Month              999951 non-null  int32  \n",
      " 7   Date               999951 non-null  int32  \n",
      " 8   Day of Week        999951 non-null  int32  \n",
      " 9   Hour               999951 non-null  int32  \n",
      "dtypes: float64(4), int32(5), int64(1)\n",
      "memory usage: 97.1 MB\n"
     ]
    }
   ],
   "source": [
    "x_train.info()"
   ]
  },
  {
   "cell_type": "code",
   "execution_count": 26,
   "id": "8b296af6",
   "metadata": {
    "execution": {
     "iopub.execute_input": "2023-10-12T01:34:45.431161Z",
     "iopub.status.busy": "2023-10-12T01:34:45.430781Z",
     "iopub.status.idle": "2023-10-12T01:34:47.707420Z",
     "shell.execute_reply": "2023-10-12T01:34:47.706203Z"
    },
    "papermill": {
     "duration": 2.353366,
     "end_time": "2023-10-12T01:34:47.710882",
     "exception": false,
     "start_time": "2023-10-12T01:34:45.357516",
     "status": "completed"
    },
    "tags": []
   },
   "outputs": [],
   "source": [
    "from sklearn.linear_model import LinearRegression\n",
    "\n",
    "reg = LinearRegression().fit(x_train, y_train)\n",
    "\n",
    "reg_pred = reg.predict(x_test)"
   ]
  },
  {
   "cell_type": "code",
   "execution_count": 27,
   "id": "a140837b",
   "metadata": {
    "execution": {
     "iopub.execute_input": "2023-10-12T01:34:47.750158Z",
     "iopub.status.busy": "2023-10-12T01:34:47.748707Z",
     "iopub.status.idle": "2023-10-12T01:34:47.844716Z",
     "shell.execute_reply": "2023-10-12T01:34:47.843524Z"
    },
    "papermill": {
     "duration": 0.118271,
     "end_time": "2023-10-12T01:34:47.847278",
     "exception": false,
     "start_time": "2023-10-12T01:34:47.729007",
     "status": "completed"
    },
    "tags": []
   },
   "outputs": [
    {
     "data": {
      "text/html": [
       "<div>\n",
       "<style scoped>\n",
       "    .dataframe tbody tr th:only-of-type {\n",
       "        vertical-align: middle;\n",
       "    }\n",
       "\n",
       "    .dataframe tbody tr th {\n",
       "        vertical-align: top;\n",
       "    }\n",
       "\n",
       "    .dataframe thead th {\n",
       "        text-align: right;\n",
       "    }\n",
       "</style>\n",
       "<table border=\"1\" class=\"dataframe\">\n",
       "  <thead>\n",
       "    <tr style=\"text-align: right;\">\n",
       "      <th></th>\n",
       "      <th>key</th>\n",
       "      <th>fare_amount</th>\n",
       "    </tr>\n",
       "  </thead>\n",
       "  <tbody>\n",
       "    <tr>\n",
       "      <th>0</th>\n",
       "      <td>2015-01-27 13:08:24.0000002</td>\n",
       "      <td>12.811444</td>\n",
       "    </tr>\n",
       "    <tr>\n",
       "      <th>1</th>\n",
       "      <td>2015-01-27 13:08:24.0000003</td>\n",
       "      <td>12.811393</td>\n",
       "    </tr>\n",
       "    <tr>\n",
       "      <th>2</th>\n",
       "      <td>2011-10-08 11:53:44.0000002</td>\n",
       "      <td>11.261512</td>\n",
       "    </tr>\n",
       "    <tr>\n",
       "      <th>3</th>\n",
       "      <td>2012-12-01 21:12:12.0000002</td>\n",
       "      <td>11.805614</td>\n",
       "    </tr>\n",
       "    <tr>\n",
       "      <th>4</th>\n",
       "      <td>2012-12-01 21:12:12.0000003</td>\n",
       "      <td>11.805647</td>\n",
       "    </tr>\n",
       "    <tr>\n",
       "      <th>5</th>\n",
       "      <td>2012-12-01 21:12:12.0000005</td>\n",
       "      <td>11.805734</td>\n",
       "    </tr>\n",
       "    <tr>\n",
       "      <th>6</th>\n",
       "      <td>2011-10-06 12:10:20.0000001</td>\n",
       "      <td>11.228208</td>\n",
       "    </tr>\n",
       "    <tr>\n",
       "      <th>7</th>\n",
       "      <td>2011-10-06 12:10:20.0000003</td>\n",
       "      <td>11.228482</td>\n",
       "    </tr>\n",
       "    <tr>\n",
       "      <th>8</th>\n",
       "      <td>2011-10-06 12:10:20.0000002</td>\n",
       "      <td>11.228081</td>\n",
       "    </tr>\n",
       "    <tr>\n",
       "      <th>9</th>\n",
       "      <td>2014-02-18 15:22:20.0000002</td>\n",
       "      <td>12.197159</td>\n",
       "    </tr>\n",
       "    <tr>\n",
       "      <th>10</th>\n",
       "      <td>2014-02-18 15:22:20.0000003</td>\n",
       "      <td>12.197199</td>\n",
       "    </tr>\n",
       "    <tr>\n",
       "      <th>11</th>\n",
       "      <td>2014-02-18 15:22:20.0000001</td>\n",
       "      <td>12.197262</td>\n",
       "    </tr>\n",
       "    <tr>\n",
       "      <th>12</th>\n",
       "      <td>2010-03-29 20:20:32.0000002</td>\n",
       "      <td>9.661466</td>\n",
       "    </tr>\n",
       "    <tr>\n",
       "      <th>13</th>\n",
       "      <td>2010-03-29 20:20:32.0000001</td>\n",
       "      <td>9.661361</td>\n",
       "    </tr>\n",
       "    <tr>\n",
       "      <th>14</th>\n",
       "      <td>2011-10-06 03:59:12.0000002</td>\n",
       "      <td>11.489885</td>\n",
       "    </tr>\n",
       "    <tr>\n",
       "      <th>15</th>\n",
       "      <td>2011-10-06 03:59:12.0000001</td>\n",
       "      <td>11.489935</td>\n",
       "    </tr>\n",
       "    <tr>\n",
       "      <th>16</th>\n",
       "      <td>2012-07-15 16:45:04.0000006</td>\n",
       "      <td>11.439044</td>\n",
       "    </tr>\n",
       "    <tr>\n",
       "      <th>17</th>\n",
       "      <td>2012-07-15 16:45:04.0000002</td>\n",
       "      <td>11.439208</td>\n",
       "    </tr>\n",
       "    <tr>\n",
       "      <th>18</th>\n",
       "      <td>2012-07-15 16:45:04.0000003</td>\n",
       "      <td>11.439180</td>\n",
       "    </tr>\n",
       "    <tr>\n",
       "      <th>19</th>\n",
       "      <td>2012-07-15 16:45:04.0000004</td>\n",
       "      <td>11.439174</td>\n",
       "    </tr>\n",
       "  </tbody>\n",
       "</table>\n",
       "</div>"
      ],
      "text/plain": [
       "                            key  fare_amount\n",
       "0   2015-01-27 13:08:24.0000002    12.811444\n",
       "1   2015-01-27 13:08:24.0000003    12.811393\n",
       "2   2011-10-08 11:53:44.0000002    11.261512\n",
       "3   2012-12-01 21:12:12.0000002    11.805614\n",
       "4   2012-12-01 21:12:12.0000003    11.805647\n",
       "5   2012-12-01 21:12:12.0000005    11.805734\n",
       "6   2011-10-06 12:10:20.0000001    11.228208\n",
       "7   2011-10-06 12:10:20.0000003    11.228482\n",
       "8   2011-10-06 12:10:20.0000002    11.228081\n",
       "9   2014-02-18 15:22:20.0000002    12.197159\n",
       "10  2014-02-18 15:22:20.0000003    12.197199\n",
       "11  2014-02-18 15:22:20.0000001    12.197262\n",
       "12  2010-03-29 20:20:32.0000002     9.661466\n",
       "13  2010-03-29 20:20:32.0000001     9.661361\n",
       "14  2011-10-06 03:59:12.0000002    11.489885\n",
       "15  2011-10-06 03:59:12.0000001    11.489935\n",
       "16  2012-07-15 16:45:04.0000006    11.439044\n",
       "17  2012-07-15 16:45:04.0000002    11.439208\n",
       "18  2012-07-15 16:45:04.0000003    11.439180\n",
       "19  2012-07-15 16:45:04.0000004    11.439174"
      ]
     },
     "execution_count": 27,
     "metadata": {},
     "output_type": "execute_result"
    }
   ],
   "source": [
    "submission = pd.read_csv('../input/new-york-city-taxi-fare-prediction/sample_submission.csv')\n",
    "submission['fare_amount'] = reg_pred\n",
    "submission.to_csv('submission_1.csv', index=False)\n",
    "submission.head(20)"
   ]
  },
  {
   "cell_type": "code",
   "execution_count": 28,
   "id": "2608561d",
   "metadata": {
    "execution": {
     "iopub.execute_input": "2023-10-12T01:34:47.870629Z",
     "iopub.status.busy": "2023-10-12T01:34:47.869936Z",
     "iopub.status.idle": "2023-10-12T02:02:00.365236Z",
     "shell.execute_reply": "2023-10-12T02:02:00.364183Z"
    },
    "papermill": {
     "duration": 1632.510206,
     "end_time": "2023-10-12T02:02:00.367780",
     "exception": false,
     "start_time": "2023-10-12T01:34:47.857574",
     "status": "completed"
    },
    "tags": []
   },
   "outputs": [],
   "source": [
    "from sklearn.ensemble import RandomForestRegressor\n",
    "rf = RandomForestRegressor()\n",
    "rf.fit(x_train, y_train)\n",
    "rf_predict = rf.predict(x_test)"
   ]
  },
  {
   "cell_type": "raw",
   "id": "ff01099c",
   "metadata": {
    "papermill": {
     "duration": 0.009655,
     "end_time": "2023-10-12T02:02:00.387975",
     "exception": false,
     "start_time": "2023-10-12T02:02:00.378320",
     "status": "completed"
    },
    "tags": []
   },
   "source": [
    "submission = pd.read_csv('../input/new-york-city-taxi-fare-prediction/sample_submission.csv')\n",
    "submission['fare_amount'] = rf_predict\n",
    "submission.to_csv('submission_2.csv', index=False)\n",
    "submission.head(20)\n"
   ]
  }
 ],
 "metadata": {
  "kernelspec": {
   "display_name": "Python 3",
   "language": "python",
   "name": "python3"
  },
  "language_info": {
   "codemirror_mode": {
    "name": "ipython",
    "version": 3
   },
   "file_extension": ".py",
   "mimetype": "text/x-python",
   "name": "python",
   "nbconvert_exporter": "python",
   "pygments_lexer": "ipython3",
   "version": "3.10.12"
  },
  "papermill": {
   "default_parameters": {},
   "duration": 1676.531524,
   "end_time": "2023-10-12T02:02:01.523227",
   "environment_variables": {},
   "exception": null,
   "input_path": "__notebook__.ipynb",
   "output_path": "__notebook__.ipynb",
   "parameters": {},
   "start_time": "2023-10-12T01:34:04.991703",
   "version": "2.4.0"
  }
 },
 "nbformat": 4,
 "nbformat_minor": 5
}
